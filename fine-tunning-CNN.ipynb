{
 "cells": [
  {
   "cell_type": "code",
   "execution_count": 2,
   "metadata": {},
   "outputs": [],
   "source": [
    "import pandas as pd\n",
    "from keras.utils import to_categorical\n",
    "import numpy as np\n",
    "import matplotlib.pyplot as plt\n",
    "import os\n",
    "import re\n",
    "import transformers\n",
    "from transformers import AutoTokenizer\n",
    "from keras.utils import image_dataset_from_directory\n",
    "from keras import regularizers\n",
    "from keras.preprocessing.image import ImageDataGenerator\n",
    "from keras.layers import Dense, Conv2D, Flatten, MaxPool2D, Resizing, Rescaling, Input, Dropout\n",
    "from keras.models import Sequential, Model\n",
    "from keras.optimizers import Adam\n",
    "%matplotlib inline"
   ]
  },
  {
   "cell_type": "code",
   "execution_count": 3,
   "metadata": {},
   "outputs": [
    {
     "name": "stdout",
     "output_type": "stream",
     "text": [
      "Found 1440 files belonging to 8 classes.\n",
      "Using 1152 files for training.\n",
      "Found 1440 files belonging to 8 classes.\n",
      "Using 288 files for validation.\n"
     ]
    }
   ],
   "source": [
    "train_generator = image_dataset_from_directory(\"Datasets/audio/data/\", color_mode=\"rgb\", label_mode=\"int\", batch_size=5,\n",
    "         image_size =(300,300),seed=123, shuffle=True, validation_split=0.2, subset=\"training\")\n",
    "validation_generator = image_dataset_from_directory(\"Datasets/audio/data/\", color_mode=\"rgb\", label_mode=\"int\", batch_size=5,\n",
    "         image_size =(300,300),seed=123, shuffle=True, validation_split=0.2, subset=\"validation\")"
   ]
  },
  {
   "cell_type": "code",
   "execution_count": 4,
   "metadata": {},
   "outputs": [
    {
     "name": "stdout",
     "output_type": "stream",
     "text": [
      "Model: \"model\"\n",
      "_________________________________________________________________\n",
      " Layer (type)                Output Shape              Param #   \n",
      "=================================================================\n",
      " input_1 (InputLayer)        [(None, None, None, 3)]   0         \n",
      "                                                                 \n",
      " resizing (Resizing)         (None, 300, 300, 3)       0         \n",
      "                                                                 \n",
      " rescaling (Rescaling)       (None, 300, 300, 3)       0         \n",
      "                                                                 \n",
      " conv2d (Conv2D)             (None, 298, 298, 64)      1792      \n",
      "                                                                 \n",
      " max_pooling2d (MaxPooling2D  (None, 149, 149, 64)     0         \n",
      " )                                                               \n",
      "                                                                 \n",
      " conv2d_1 (Conv2D)           (None, 147, 147, 64)      36928     \n",
      "                                                                 \n",
      " max_pooling2d_1 (MaxPooling  (None, 73, 73, 64)       0         \n",
      " 2D)                                                             \n",
      "                                                                 \n",
      " conv2d_2 (Conv2D)           (None, 71, 71, 128)       73856     \n",
      "                                                                 \n",
      " max_pooling2d_2 (MaxPooling  (None, 35, 35, 128)      0         \n",
      " 2D)                                                             \n",
      "                                                                 \n",
      " conv2d_3 (Conv2D)           (None, 33, 33, 128)       147584    \n",
      "                                                                 \n",
      " max_pooling2d_3 (MaxPooling  (None, 8, 8, 128)        0         \n",
      " 2D)                                                             \n",
      "                                                                 \n",
      " flatten (Flatten)           (None, 8192)              0         \n",
      "                                                                 \n",
      " dropout (Dropout)           (None, 8192)              0         \n",
      "                                                                 \n",
      " dense (Dense)               (None, 512)               4194816   \n",
      "                                                                 \n",
      " dropout_1 (Dropout)         (None, 512)               0         \n",
      "                                                                 \n",
      " dense_1 (Dense)             (None, 1)                 513       \n",
      "                                                                 \n",
      "=================================================================\n",
      "Total params: 4,455,489\n",
      "Trainable params: 4,455,489\n",
      "Non-trainable params: 0\n",
      "_________________________________________________________________\n"
     ]
    }
   ],
   "source": [
    "my_input = Input(shape =(None, None,3))\n",
    "x = Resizing(300,300)(my_input)\n",
    "x = Rescaling(1.0/255)(x)\n",
    "x = Conv2D(64,(3,3), activation=\"relu\",strides=(1,1) ,kernel_regularizer=regularizers.L2(0.01))(x)\n",
    "x = MaxPool2D(pool_size= (2,2),strides=(2,2))(x)\n",
    "\n",
    "x = Conv2D(64,(3,3), activation=\"relu\",strides=(1,1), kernel_regularizer=regularizers.L2(0.01))(x)\n",
    "x = MaxPool2D(pool_size= (2,2),strides=(2,2))(x)\n",
    "\n",
    "x = Conv2D(128,(3,3), activation=\"relu\",strides=(1,1), kernel_regularizer=regularizers.L2(0.01))(x)\n",
    "x = MaxPool2D(pool_size= (2,2),strides=(2,2))(x)\n",
    "\n",
    "x = Conv2D(128,(3,3), activation=\"relu\",strides=(1,1), kernel_regularizer=regularizers.L2(0.01))(x)\n",
    "x = MaxPool2D(pool_size= (4,4),strides=(4,4))(x)\n",
    "\n",
    "x = Flatten()(x)\n",
    "x = Dropout(0.5)(x)\n",
    "x = Dense(512, activation=\"relu\")(x)\n",
    "x = Dropout(0.5)(x)\n",
    "my_output = Dense(1, activation=\"softmax\")(x)\n",
    "\n",
    "modelo = Model(inputs=my_input, outputs= my_output )\n",
    "modelo.summary()\n"
   ]
  },
  {
   "cell_type": "code",
   "execution_count": 5,
   "metadata": {},
   "outputs": [
    {
     "name": "stderr",
     "output_type": "stream",
     "text": [
      "c:\\Users\\cfp\\anaconda3\\envs\\capstone\\lib\\site-packages\\keras\\optimizers\\optimizer_v2\\adam.py:114: UserWarning: The `lr` argument is deprecated, use `learning_rate` instead.\n",
      "  super().__init__(name, **kwargs)\n"
     ]
    }
   ],
   "source": [
    "modelo.compile(loss=\"categorical_crossentropy\", optimizer= Adam(lr=0.0001), metrics=[\"accuracy\"])"
   ]
  },
  {
   "cell_type": "code",
   "execution_count": 6,
   "metadata": {},
   "outputs": [
    {
     "name": "stdout",
     "output_type": "stream",
     "text": [
      "Epoch 1/15\n"
     ]
    },
    {
     "ename": "",
     "evalue": "",
     "output_type": "error",
     "traceback": [
      "\u001b[1;31mCanceled future for execute_request message before replies were done"
     ]
    },
    {
     "ename": "",
     "evalue": "",
     "output_type": "error",
     "traceback": [
      "\u001b[1;31mEl Kernel se bloqueó al ejecutar código en la celda actual o en una celda anterior. Revise el código de las celdas para identificar una posible causa del error. Haga clic <a href='https://aka.ms/vscodeJupyterKernelCrash'>aquí</a> para obtener más información. Vea el [registro] de Jupyter (command:jupyter.viewOutput) para obtener más detalles."
     ]
    }
   ],
   "source": [
    "historico = modelo.fit (train_generator, epochs=15, validation_data= validation_generator)"
   ]
  },
  {
   "cell_type": "code",
   "execution_count": null,
   "metadata": {},
   "outputs": [],
   "source": []
  }
 ],
 "metadata": {
  "kernelspec": {
   "display_name": "Python 3.7.15 ('capstone')",
   "language": "python",
   "name": "python3"
  },
  "language_info": {
   "codemirror_mode": {
    "name": "ipython",
    "version": 3
   },
   "file_extension": ".py",
   "mimetype": "text/x-python",
   "name": "python",
   "nbconvert_exporter": "python",
   "pygments_lexer": "ipython3",
   "version": "3.7.15"
  },
  "orig_nbformat": 4,
  "vscode": {
   "interpreter": {
    "hash": "11be7db6fedfeee1b2da478998902baa875e856b3f6c75275692d0ed9ef7b16f"
   }
  }
 },
 "nbformat": 4,
 "nbformat_minor": 2
}
