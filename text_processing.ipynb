{
 "cells": [
  {
   "cell_type": "code",
   "execution_count": 55,
   "metadata": {},
   "outputs": [],
   "source": [
    "import pandas as pd\n",
    "from keras.utils import to_categorical"
   ]
  },
  {
   "cell_type": "markdown",
   "metadata": {},
   "source": [
    "0 sadness, 1 joy, 2 love, 3 anger, 4 fear"
   ]
  },
  {
   "cell_type": "code",
   "execution_count": 56,
   "metadata": {},
   "outputs": [],
   "source": [
    "df_train = pd.read_csv('./Datasets/text/training.csv')\n",
    "df_test = pd.read_csv('./Datasets/text/test.csv')\n",
    "df_val = pd.read_csv('./Datasets/text/validation.csv')"
   ]
  },
  {
   "cell_type": "code",
   "execution_count": 57,
   "metadata": {},
   "outputs": [],
   "source": [
    "df_train.drop(df_train[(df_train['label']==5)].index, inplace=True)\n",
    "df_test.drop(df_test[(df_test['label']==5)].index, inplace=True)\n",
    "df_val.drop(df_val[(df_val['label']==5)].index, inplace=True)\n"
   ]
  },
  {
   "cell_type": "code",
   "execution_count": 68,
   "metadata": {},
   "outputs": [],
   "source": [
    "y_train = to_categorical(df_train.label, num_classes=5)\n",
    "X_train = df_train.text.to_numpy()\n",
    "\n",
    "y_test = to_categorical(df_test.label, num_classes=5)\n",
    "X_test = df_test.text.to_numpy()\n",
    "\n",
    "y_val = to_categorical(df_val.label, num_classes=5)\n",
    "X_val = df_val.text.to_numpy()"
   ]
  }
 ],
 "metadata": {
  "kernelspec": {
   "display_name": "Python 3.9.15 ('CAPSTONE')",
   "language": "python",
   "name": "python3"
  },
  "language_info": {
   "codemirror_mode": {
    "name": "ipython",
    "version": 3
   },
   "file_extension": ".py",
   "mimetype": "text/x-python",
   "name": "python",
   "nbconvert_exporter": "python",
   "pygments_lexer": "ipython3",
   "version": "3.9.15"
  },
  "orig_nbformat": 4,
  "vscode": {
   "interpreter": {
    "hash": "a79acdff5fc065eeced71afcf780526ec39bb5fe9c2317749a52ad2fd653afbd"
   }
  }
 },
 "nbformat": 4,
 "nbformat_minor": 2
}
