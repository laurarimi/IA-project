{
 "cells": [
  {
   "cell_type": "code",
   "execution_count": 1,
   "metadata": {},
   "outputs": [],
   "source": [
    "import pandas as pd\n",
    "from keras.utils import to_categorical\n",
    "import numpy as np\n",
    "import matplotlib.pyplot as plt\n",
    "import os\n",
    "import re\n",
    "from keras.utils import image_dataset_from_directory\n",
    "from keras import regularizers\n",
    "from keras.preprocessing.image import ImageDataGenerator\n",
    "from keras.layers import Dense, Conv2D, Flatten, MaxPool2D, Resizing, Rescaling, Input, Dropout, BatchNormalization\n",
    "from keras.models import Sequential, Model\n",
    "from keras.optimizers import Adam\n",
    "%matplotlib inline"
   ]
  },
  {
   "cell_type": "code",
   "execution_count": 2,
   "metadata": {},
   "outputs": [
    {
     "name": "stdout",
     "output_type": "stream",
     "text": [
      "Found 1440 files belonging to 8 classes.\n",
      "Using 1152 files for training.\n",
      "Found 1440 files belonging to 8 classes.\n",
      "Using 288 files for validation.\n"
     ]
    }
   ],
   "source": [
    "train_generator = image_dataset_from_directory(\"Datasets/audio/data/\", color_mode=\"rgb\", label_mode=\"int\", batch_size=5,\n",
    "         image_size =(128,157),seed=123, shuffle=True, validation_split=0.2, subset=\"training\")\n",
    "validation_generator = image_dataset_from_directory(\"Datasets/audio/data/\", color_mode=\"rgb\", label_mode=\"int\", batch_size=5,\n",
    "         image_size =(128,157),seed=123, shuffle=True, validation_split=0.2, subset=\"validation\")"
   ]
  },
  {
   "cell_type": "code",
   "execution_count": 3,
   "metadata": {},
   "outputs": [],
   "source": [
    "model2 = Sequential()\n",
    "model2.add(Input((None, None, 3)))\n",
    "model2.add(Resizing(128,157))\n",
    "model2.add(Rescaling(1.0/255))\n",
    "\n",
    "model2.add(Conv2D(64,(3,3), activation=\"relu\", padding= \"same\",strides=(1,1) ,kernel_regularizer=regularizers.L2(0.01)))\n",
    "model2.add(MaxPool2D(pool_size=(2,2), strides=(2,2)))\n",
    "\n",
    "model2.add(Conv2D(64,(3,3), activation=\"relu\", padding= \"same\",strides=(1,1) ,kernel_regularizer=regularizers.L2(0.01)))\n",
    "model2.add(MaxPool2D(pool_size=(2,2), strides=(2,2)))\n",
    "          \n",
    "model2.add(Conv2D(128,(3,3), activation=\"relu\", padding= \"same\",strides=(1,1) ,kernel_regularizer=regularizers.L2(0.01)))\n",
    "model2.add(MaxPool2D(pool_size=(2,2), strides=(2,2)))\n",
    "          \n",
    "model2.add(Conv2D(128, (3,3), activation=\"relu\", padding=\"same\", strides=(1,1)))         \n",
    "model2.add(MaxPool2D(pool_size=(4,4), strides=(4,4)))         \n",
    "\n",
    "model2.add(Flatten())\n",
    "model2.add(Dense(units=512, activation=\"relu\"))\n",
    "model2.add(Dropout(0.5))\n",
    "          \n",
    "model2.add(Dense(units=256, activation=\"relu\"))\n",
    "model2.add(Dropout(0.5))\n",
    "          \n",
    "model2.add(Dense(units=8, activation=\"softmax\"))"
   ]
  },
  {
   "cell_type": "code",
   "execution_count": 4,
   "metadata": {},
   "outputs": [
    {
     "name": "stdout",
     "output_type": "stream",
     "text": [
      "Model: \"sequential\"\n",
      "_________________________________________________________________\n",
      " Layer (type)                Output Shape              Param #   \n",
      "=================================================================\n",
      " resizing (Resizing)         (None, 128, 157, 3)       0         \n",
      "                                                                 \n",
      " rescaling (Rescaling)       (None, 128, 157, 3)       0         \n",
      "                                                                 \n",
      " conv2d (Conv2D)             (None, 128, 157, 64)      1792      \n",
      "                                                                 \n",
      " max_pooling2d (MaxPooling2D  (None, 64, 78, 64)       0         \n",
      " )                                                               \n",
      "                                                                 \n",
      " conv2d_1 (Conv2D)           (None, 64, 78, 64)        36928     \n",
      "                                                                 \n",
      " max_pooling2d_1 (MaxPooling  (None, 32, 39, 64)       0         \n",
      " 2D)                                                             \n",
      "                                                                 \n",
      " conv2d_2 (Conv2D)           (None, 32, 39, 128)       73856     \n",
      "                                                                 \n",
      " max_pooling2d_2 (MaxPooling  (None, 16, 19, 128)      0         \n",
      " 2D)                                                             \n",
      "                                                                 \n",
      " conv2d_3 (Conv2D)           (None, 16, 19, 128)       147584    \n",
      "                                                                 \n",
      " max_pooling2d_3 (MaxPooling  (None, 4, 4, 128)        0         \n",
      " 2D)                                                             \n",
      "                                                                 \n",
      " flatten (Flatten)           (None, 2048)              0         \n",
      "                                                                 \n",
      " dense (Dense)               (None, 512)               1049088   \n",
      "                                                                 \n",
      " dropout (Dropout)           (None, 512)               0         \n",
      "                                                                 \n",
      " dense_1 (Dense)             (None, 256)               131328    \n",
      "                                                                 \n",
      " dropout_1 (Dropout)         (None, 256)               0         \n",
      "                                                                 \n",
      " dense_2 (Dense)             (None, 8)                 2056      \n",
      "                                                                 \n",
      "=================================================================\n",
      "Total params: 1,442,632\n",
      "Trainable params: 1,442,632\n",
      "Non-trainable params: 0\n",
      "_________________________________________________________________\n"
     ]
    }
   ],
   "source": [
    "#model2.build((None, 128,157,3))\n",
    "model2.summary()"
   ]
  },
  {
   "cell_type": "code",
   "execution_count": 5,
   "metadata": {},
   "outputs": [
    {
     "name": "stderr",
     "output_type": "stream",
     "text": [
      "c:\\Users\\lumin\\anaconda3\\envs\\capstone\\lib\\site-packages\\keras\\optimizers\\optimizer_v2\\adam.py:114: UserWarning: The `lr` argument is deprecated, use `learning_rate` instead.\n",
      "  super().__init__(name, **kwargs)\n"
     ]
    }
   ],
   "source": [
    "model2.compile(loss=\"sparse_categorical_crossentropy\", optimizer= Adam(lr=0.0001), metrics=[\"accuracy\"])"
   ]
  },
  {
   "cell_type": "code",
   "execution_count": 6,
   "metadata": {},
   "outputs": [
    {
     "name": "stdout",
     "output_type": "stream",
     "text": [
      "Epoch 1/10\n",
      "231/231 [==============================] - 6s 13ms/step - loss: 3.2092 - accuracy: 0.1198 - val_loss: 2.8593 - val_accuracy: 0.1250\n",
      "Epoch 2/10\n",
      "231/231 [==============================] - 3s 12ms/step - loss: 2.6656 - accuracy: 0.1319 - val_loss: 2.4929 - val_accuracy: 0.2257\n",
      "Epoch 3/10\n",
      "231/231 [==============================] - 3s 12ms/step - loss: 2.4058 - accuracy: 0.1476 - val_loss: 2.3170 - val_accuracy: 0.1875\n",
      "Epoch 4/10\n",
      "231/231 [==============================] - 3s 12ms/step - loss: 2.2692 - accuracy: 0.1806 - val_loss: 2.1668 - val_accuracy: 0.2882\n",
      "Epoch 5/10\n",
      "231/231 [==============================] - 3s 11ms/step - loss: 2.1167 - accuracy: 0.2552 - val_loss: 1.9975 - val_accuracy: 0.2674\n",
      "Epoch 6/10\n",
      "231/231 [==============================] - 3s 11ms/step - loss: 2.0400 - accuracy: 0.2752 - val_loss: 1.9273 - val_accuracy: 0.3299\n",
      "Epoch 7/10\n",
      "231/231 [==============================] - 3s 11ms/step - loss: 1.9510 - accuracy: 0.2856 - val_loss: 1.8544 - val_accuracy: 0.3472\n",
      "Epoch 8/10\n",
      "231/231 [==============================] - 3s 11ms/step - loss: 1.8900 - accuracy: 0.3134 - val_loss: 1.8039 - val_accuracy: 0.3299\n",
      "Epoch 9/10\n",
      "231/231 [==============================] - 3s 11ms/step - loss: 1.8228 - accuracy: 0.3411 - val_loss: 1.7106 - val_accuracy: 0.3854\n",
      "Epoch 10/10\n",
      "231/231 [==============================] - 3s 11ms/step - loss: 1.7733 - accuracy: 0.3594 - val_loss: 1.6574 - val_accuracy: 0.4062\n"
     ]
    }
   ],
   "source": [
    "historico = model2.fit(train_generator, epochs=10, validation_data= validation_generator)"
   ]
  },
  {
   "cell_type": "code",
   "execution_count": 7,
   "metadata": {},
   "outputs": [],
   "source": [
    "model2.save(\"LauraModel.h5\")"
   ]
  },
  {
   "cell_type": "code",
   "execution_count": null,
   "metadata": {},
   "outputs": [],
   "source": []
  }
 ],
 "metadata": {
  "kernelspec": {
   "display_name": "CAPSTONE_PROJECT",
   "language": "python",
   "name": "python3"
  },
  "language_info": {
   "codemirror_mode": {
    "name": "ipython",
    "version": 3
   },
   "file_extension": ".py",
   "mimetype": "text/x-python",
   "name": "python",
   "nbconvert_exporter": "python",
   "pygments_lexer": "ipython3",
   "version": "3.10.8 | packaged by conda-forge | (main, Nov 24 2022, 14:07:00) [MSC v.1916 64 bit (AMD64)]"
  },
  "vscode": {
   "interpreter": {
    "hash": "528f1c4a8f5c6e5cd5d8d78b4daa41b3ade1cbafba6a160042eee37a16d4e513"
   }
  }
 },
 "nbformat": 4,
 "nbformat_minor": 2
}
