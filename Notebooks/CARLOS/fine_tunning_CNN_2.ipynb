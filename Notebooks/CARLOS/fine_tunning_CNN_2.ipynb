{
  "cells": [
    {
      "cell_type": "code",
      "execution_count": 4,
      "metadata": {
        "id": "ulHbyTkdrH-C"
      },
      "outputs": [],
      "source": [
        "import pandas as pd\n",
        "import zipfile \n",
        "from keras.utils import to_categorical\n",
        "import numpy as np\n",
        "import matplotlib.pyplot as plt\n",
        "import os\n",
        "import re\n",
        "from keras.utils import image_dataset_from_directory\n",
        "from keras import regularizers\n",
        "from keras.preprocessing.image import ImageDataGenerator\n",
        "from keras.layers import Dense, Conv2D, Flatten, MaxPool2D, Resizing, Rescaling, Input, Dropout, BatchNormalization\n",
        "from keras.models import Sequential, Model\n",
        "from keras.optimizers import Adam\n",
        "%matplotlib inline"
      ]
    },
    {
      "cell_type": "code",
      "execution_count": null,
      "metadata": {
        "id": "VZl0uZmptXuY"
      },
      "outputs": [],
      "source": [
        "file_name = \"data.zip\"\n",
        "zip_ref = zipfile.ZipFile(file_name, \"r\")\n",
        "zip_ref.extractall(\"datos\")\n",
        "zip_ref.close()"
      ]
    },
    {
      "cell_type": "code",
      "execution_count": 5,
      "metadata": {
        "colab": {
          "base_uri": "https://localhost:8080/"
        },
        "id": "8xdM6KRFrH-G",
        "outputId": "94fa89db-ed32-4060-cb12-e44f304d224d"
      },
      "outputs": [
        {
          "name": "stdout",
          "output_type": "stream",
          "text": [
            "Found 1440 files belonging to 5 classes.\n",
            "Using 1152 files for training.\n",
            "Found 1440 files belonging to 5 classes.\n",
            "Using 288 files for validation.\n"
          ]
        }
      ],
      "source": [
        "train_generator = image_dataset_from_directory(\"../Datasets/audio/data/\", color_mode=\"rgb\", label_mode=\"int\", batch_size=5,\n",
        "         image_size =(128,157),seed=123, shuffle=True, validation_split=0.2, subset=\"training\")\n",
        "validation_generator = image_dataset_from_directory(\"../Datasets/audio/data/\", color_mode=\"rgb\", label_mode=\"int\", batch_size=5,\n",
        "         image_size =(128,157),seed=123, shuffle=True, validation_split=0.2, subset=\"validation\")"
      ]
    },
    {
      "cell_type": "code",
      "execution_count": 7,
      "metadata": {
        "colab": {
          "base_uri": "https://localhost:8080/"
        },
        "id": "_bi43dSYrH-J",
        "outputId": "0b14cacb-dcb7-486f-8819-951d4d440d3c"
      },
      "outputs": [],
      "source": [
        "model = Sequential()\n",
        "model.add(Input((None, None, 3)))\n",
        "model.add(Resizing(128,157))\n",
        "\n",
        "model.add(Conv2D(filters= 64, kernel_size= (5,5), activation=\"relu\", padding= \"same\",strides=(1,1) ,kernel_regularizer=regularizers.L2(0.01)))\n",
        "\n",
        "model.add( MaxPool2D(pool_size= (2,2),strides=(2,2)))\n",
        "model.add( Conv2D(64,(3,3), activation=\"relu\",padding= \"same\",strides=(1,1), kernel_regularizer=regularizers.L2(0.01)))\n",
        "\n",
        "\n",
        "model.add(MaxPool2D(pool_size= (2,2),strides=(2,2)))\n",
        "model.add( Conv2D(128,(3,3), activation=\"relu\",padding= \"same\",strides=(1,1), kernel_regularizer=regularizers.L2(0.01)))\n",
        "\n",
        "model.add( MaxPool2D(pool_size= (2,2),strides=(2,2)))\n",
        "model.add( Conv2D(128,(3,3), activation=\"relu\",padding= \"same\",strides=(1,1), kernel_regularizer=regularizers.L2(0.01)))\n",
        "\n",
        "model.add( MaxPool2D(pool_size= (4,4),strides=(4,4)))\n",
        "\n",
        "model.add( Flatten())\n",
        "model.add(Dense(512, activation=\"relu\"))\n",
        "model.add( Dropout(0.7))\n",
        "model.add( Dense(256, activation=\"relu\"))\n",
        "model.add( Dropout(0.7))\n",
        "\n",
        "model.add(Dense(8, activation=\"softmax\"))\n",
        "\n"
      ]
    },
    {
      "cell_type": "code",
      "execution_count": 8,
      "metadata": {
        "id": "xjrlGDpurH-K"
      },
      "outputs": [],
      "source": [
        "model.compile(loss=\"sparse_categorical_crossentropy\", optimizer= Adam(learning_rate=0.001), metrics=[\"accuracy\"])"
      ]
    },
    {
      "cell_type": "code",
      "execution_count": 9,
      "metadata": {
        "colab": {
          "base_uri": "https://localhost:8080/"
        },
        "id": "-JkeOgn3rH-L",
        "outputId": "02e32b05-3d29-4b7e-8513-e82c6f330e29"
      },
      "outputs": [
        {
          "name": "stdout",
          "output_type": "stream",
          "text": [
            "Epoch 1/100\n",
            "231/231 [==============================] - 7s 13ms/step - loss: 5.6633 - accuracy: 0.2743 - val_loss: 3.7809 - val_accuracy: 0.3229\n",
            "Epoch 2/100\n",
            "231/231 [==============================] - 2s 10ms/step - loss: 3.5619 - accuracy: 0.3351 - val_loss: 3.2901 - val_accuracy: 0.3229\n",
            "Epoch 3/100\n",
            "231/231 [==============================] - 2s 10ms/step - loss: 3.1426 - accuracy: 0.3359 - val_loss: 2.9664 - val_accuracy: 0.3299\n",
            "Epoch 4/100\n",
            "231/231 [==============================] - 2s 10ms/step - loss: 2.7855 - accuracy: 0.4010 - val_loss: 2.5965 - val_accuracy: 0.4062\n",
            "Epoch 5/100\n",
            "231/231 [==============================] - 2s 10ms/step - loss: 2.5203 - accuracy: 0.4366 - val_loss: 2.5930 - val_accuracy: 0.3576\n",
            "Epoch 6/100\n",
            "231/231 [==============================] - 2s 10ms/step - loss: 2.3215 - accuracy: 0.4332 - val_loss: 2.2593 - val_accuracy: 0.4028\n",
            "Epoch 7/100\n",
            "231/231 [==============================] - 2s 10ms/step - loss: 2.1059 - accuracy: 0.4766 - val_loss: 2.1043 - val_accuracy: 0.4201\n",
            "Epoch 8/100\n",
            "231/231 [==============================] - 2s 10ms/step - loss: 2.0086 - accuracy: 0.4601 - val_loss: 1.9739 - val_accuracy: 0.4201\n",
            "Epoch 9/100\n",
            "231/231 [==============================] - 2s 10ms/step - loss: 1.8797 - accuracy: 0.4792 - val_loss: 1.8659 - val_accuracy: 0.4549\n",
            "Epoch 10/100\n",
            "231/231 [==============================] - 2s 10ms/step - loss: 1.8027 - accuracy: 0.4722 - val_loss: 1.8524 - val_accuracy: 0.4236\n",
            "Epoch 11/100\n",
            "231/231 [==============================] - 2s 10ms/step - loss: 1.7228 - accuracy: 0.4740 - val_loss: 1.8206 - val_accuracy: 0.4201\n",
            "Epoch 12/100\n",
            "231/231 [==============================] - 2s 10ms/step - loss: 1.6043 - accuracy: 0.5069 - val_loss: 1.7142 - val_accuracy: 0.4132\n",
            "Epoch 13/100\n",
            "231/231 [==============================] - 2s 10ms/step - loss: 1.5964 - accuracy: 0.4913 - val_loss: 1.6097 - val_accuracy: 0.4410\n",
            "Epoch 14/100\n",
            "231/231 [==============================] - 2s 10ms/step - loss: 1.4995 - accuracy: 0.5122 - val_loss: 1.6764 - val_accuracy: 0.4132\n",
            "Epoch 15/100\n",
            "231/231 [==============================] - 2s 10ms/step - loss: 1.4517 - accuracy: 0.5148 - val_loss: 1.6297 - val_accuracy: 0.4306\n",
            "Epoch 16/100\n",
            "231/231 [==============================] - 2s 10ms/step - loss: 1.3957 - accuracy: 0.5477 - val_loss: 1.5336 - val_accuracy: 0.4618\n",
            "Epoch 17/100\n",
            "231/231 [==============================] - 2s 10ms/step - loss: 1.3776 - accuracy: 0.5234 - val_loss: 1.5093 - val_accuracy: 0.4410\n",
            "Epoch 18/100\n",
            "231/231 [==============================] - 2s 10ms/step - loss: 1.4572 - accuracy: 0.5017 - val_loss: 1.5774 - val_accuracy: 0.4549\n",
            "Epoch 19/100\n",
            "231/231 [==============================] - 2s 10ms/step - loss: 1.3785 - accuracy: 0.5425 - val_loss: 1.5163 - val_accuracy: 0.4306\n",
            "Epoch 20/100\n",
            "231/231 [==============================] - 2s 10ms/step - loss: 1.3523 - accuracy: 0.5304 - val_loss: 1.4699 - val_accuracy: 0.4722\n",
            "Epoch 21/100\n",
            "231/231 [==============================] - 2s 10ms/step - loss: 1.3248 - accuracy: 0.5469 - val_loss: 1.4384 - val_accuracy: 0.4931\n",
            "Epoch 22/100\n",
            "231/231 [==============================] - 2s 10ms/step - loss: 1.2540 - accuracy: 0.5781 - val_loss: 1.5099 - val_accuracy: 0.4722\n",
            "Epoch 23/100\n",
            "231/231 [==============================] - 2s 10ms/step - loss: 1.1929 - accuracy: 0.5929 - val_loss: 1.4116 - val_accuracy: 0.4896\n",
            "Epoch 24/100\n",
            "231/231 [==============================] - 2s 10ms/step - loss: 1.1809 - accuracy: 0.5911 - val_loss: 1.3832 - val_accuracy: 0.4965\n",
            "Epoch 25/100\n",
            "231/231 [==============================] - 2s 10ms/step - loss: 1.1977 - accuracy: 0.5964 - val_loss: 1.4103 - val_accuracy: 0.5069\n",
            "Epoch 26/100\n",
            "231/231 [==============================] - 2s 10ms/step - loss: 1.1841 - accuracy: 0.5972 - val_loss: 1.4227 - val_accuracy: 0.5000\n",
            "Epoch 27/100\n",
            "231/231 [==============================] - 2s 10ms/step - loss: 1.1412 - accuracy: 0.6207 - val_loss: 1.3983 - val_accuracy: 0.5104\n",
            "Epoch 28/100\n",
            "231/231 [==============================] - 2s 10ms/step - loss: 1.1372 - accuracy: 0.6215 - val_loss: 1.5110 - val_accuracy: 0.5208\n",
            "Epoch 29/100\n",
            "231/231 [==============================] - 2s 10ms/step - loss: 1.0936 - accuracy: 0.6267 - val_loss: 1.5626 - val_accuracy: 0.4861\n",
            "Epoch 30/100\n",
            "231/231 [==============================] - 2s 10ms/step - loss: 1.0748 - accuracy: 0.6432 - val_loss: 1.4536 - val_accuracy: 0.5104\n",
            "Epoch 31/100\n",
            "231/231 [==============================] - 2s 10ms/step - loss: 1.0095 - accuracy: 0.6840 - val_loss: 1.5222 - val_accuracy: 0.5069\n",
            "Epoch 32/100\n",
            "231/231 [==============================] - 2s 10ms/step - loss: 1.0452 - accuracy: 0.6580 - val_loss: 1.4488 - val_accuracy: 0.5104\n",
            "Epoch 33/100\n",
            "231/231 [==============================] - 2s 10ms/step - loss: 1.0045 - accuracy: 0.6745 - val_loss: 1.6259 - val_accuracy: 0.5139\n",
            "Epoch 34/100\n",
            "231/231 [==============================] - 2s 10ms/step - loss: 1.0318 - accuracy: 0.6597 - val_loss: 1.4829 - val_accuracy: 0.5000\n",
            "Epoch 35/100\n",
            "231/231 [==============================] - 2s 10ms/step - loss: 0.9642 - accuracy: 0.7014 - val_loss: 1.5008 - val_accuracy: 0.5069\n",
            "Epoch 36/100\n",
            "231/231 [==============================] - 2s 10ms/step - loss: 0.9219 - accuracy: 0.7135 - val_loss: 1.6507 - val_accuracy: 0.5104\n",
            "Epoch 37/100\n",
            "231/231 [==============================] - 2s 10ms/step - loss: 0.9482 - accuracy: 0.6962 - val_loss: 1.5256 - val_accuracy: 0.5312\n",
            "Epoch 38/100\n",
            "231/231 [==============================] - 2s 10ms/step - loss: 0.8825 - accuracy: 0.7257 - val_loss: 1.5712 - val_accuracy: 0.5208\n",
            "Epoch 39/100\n",
            "231/231 [==============================] - 2s 10ms/step - loss: 0.8908 - accuracy: 0.7361 - val_loss: 1.4787 - val_accuracy: 0.5104\n",
            "Epoch 40/100\n",
            "231/231 [==============================] - 2s 10ms/step - loss: 0.8589 - accuracy: 0.7526 - val_loss: 1.5893 - val_accuracy: 0.4965\n",
            "Epoch 41/100\n",
            "231/231 [==============================] - 2s 10ms/step - loss: 0.8919 - accuracy: 0.7344 - val_loss: 1.6644 - val_accuracy: 0.5174\n",
            "Epoch 42/100\n",
            "231/231 [==============================] - 2s 10ms/step - loss: 0.8271 - accuracy: 0.7630 - val_loss: 1.5081 - val_accuracy: 0.5590\n",
            "Epoch 43/100\n",
            "231/231 [==============================] - 2s 10ms/step - loss: 0.8061 - accuracy: 0.7648 - val_loss: 1.5876 - val_accuracy: 0.5347\n",
            "Epoch 44/100\n",
            "231/231 [==============================] - 2s 10ms/step - loss: 0.7797 - accuracy: 0.7491 - val_loss: 1.7538 - val_accuracy: 0.5139\n",
            "Epoch 45/100\n",
            "231/231 [==============================] - 2s 10ms/step - loss: 0.7738 - accuracy: 0.7804 - val_loss: 1.7683 - val_accuracy: 0.5347\n",
            "Epoch 46/100\n",
            "231/231 [==============================] - 2s 10ms/step - loss: 0.7428 - accuracy: 0.7821 - val_loss: 1.8144 - val_accuracy: 0.4896\n",
            "Epoch 47/100\n",
            "231/231 [==============================] - 2s 10ms/step - loss: 0.7934 - accuracy: 0.7717 - val_loss: 1.8386 - val_accuracy: 0.4965\n",
            "Epoch 48/100\n",
            "231/231 [==============================] - 2s 10ms/step - loss: 0.8072 - accuracy: 0.7674 - val_loss: 1.7567 - val_accuracy: 0.4931\n",
            "Epoch 49/100\n",
            "231/231 [==============================] - 2s 10ms/step - loss: 0.7970 - accuracy: 0.7830 - val_loss: 1.7823 - val_accuracy: 0.5347\n",
            "Epoch 50/100\n",
            "231/231 [==============================] - 2s 10ms/step - loss: 0.7404 - accuracy: 0.7899 - val_loss: 1.7005 - val_accuracy: 0.5521\n",
            "Epoch 51/100\n",
            "231/231 [==============================] - 2s 10ms/step - loss: 0.7541 - accuracy: 0.7760 - val_loss: 1.8837 - val_accuracy: 0.5243\n",
            "Epoch 52/100\n",
            "231/231 [==============================] - 2s 10ms/step - loss: 0.7470 - accuracy: 0.7865 - val_loss: 1.9538 - val_accuracy: 0.5208\n",
            "Epoch 53/100\n",
            "231/231 [==============================] - 2s 10ms/step - loss: 0.6904 - accuracy: 0.8056 - val_loss: 2.1122 - val_accuracy: 0.5243\n",
            "Epoch 54/100\n",
            "231/231 [==============================] - 2s 10ms/step - loss: 0.7136 - accuracy: 0.8012 - val_loss: 1.7845 - val_accuracy: 0.5486\n",
            "Epoch 55/100\n",
            "231/231 [==============================] - 2s 10ms/step - loss: 0.7133 - accuracy: 0.8125 - val_loss: 1.7738 - val_accuracy: 0.5278\n",
            "Epoch 56/100\n",
            "231/231 [==============================] - 2s 10ms/step - loss: 0.6913 - accuracy: 0.8108 - val_loss: 1.9139 - val_accuracy: 0.5347\n",
            "Epoch 57/100\n",
            "231/231 [==============================] - 2s 10ms/step - loss: 0.6588 - accuracy: 0.8290 - val_loss: 2.0646 - val_accuracy: 0.5521\n",
            "Epoch 58/100\n",
            "231/231 [==============================] - 2s 10ms/step - loss: 0.6833 - accuracy: 0.8273 - val_loss: 2.0197 - val_accuracy: 0.4931\n",
            "Epoch 59/100\n",
            "231/231 [==============================] - 2s 10ms/step - loss: 0.7386 - accuracy: 0.8073 - val_loss: 2.1395 - val_accuracy: 0.5451\n",
            "Epoch 60/100\n",
            "231/231 [==============================] - 2s 10ms/step - loss: 0.6687 - accuracy: 0.8264 - val_loss: 2.2108 - val_accuracy: 0.5347\n",
            "Epoch 61/100\n",
            "231/231 [==============================] - 2s 10ms/step - loss: 0.6224 - accuracy: 0.8281 - val_loss: 2.2459 - val_accuracy: 0.5139\n",
            "Epoch 62/100\n",
            "231/231 [==============================] - 2s 10ms/step - loss: 0.6626 - accuracy: 0.8212 - val_loss: 2.0442 - val_accuracy: 0.5278\n",
            "Epoch 63/100\n",
            "231/231 [==============================] - 2s 10ms/step - loss: 0.6360 - accuracy: 0.8316 - val_loss: 2.1106 - val_accuracy: 0.5278\n",
            "Epoch 64/100\n",
            "231/231 [==============================] - 2s 10ms/step - loss: 0.6093 - accuracy: 0.8472 - val_loss: 2.3272 - val_accuracy: 0.5278\n",
            "Epoch 65/100\n",
            "231/231 [==============================] - 2s 10ms/step - loss: 0.6458 - accuracy: 0.8359 - val_loss: 2.5318 - val_accuracy: 0.5139\n",
            "Epoch 66/100\n",
            "231/231 [==============================] - 2s 10ms/step - loss: 0.5829 - accuracy: 0.8698 - val_loss: 2.3695 - val_accuracy: 0.5486\n",
            "Epoch 67/100\n",
            "231/231 [==============================] - 2s 10ms/step - loss: 0.6664 - accuracy: 0.8333 - val_loss: 2.1308 - val_accuracy: 0.5104\n",
            "Epoch 68/100\n",
            "231/231 [==============================] - 2s 10ms/step - loss: 0.6342 - accuracy: 0.8481 - val_loss: 2.0620 - val_accuracy: 0.5451\n",
            "Epoch 69/100\n",
            "231/231 [==============================] - 2s 10ms/step - loss: 0.5864 - accuracy: 0.8750 - val_loss: 2.3670 - val_accuracy: 0.5208\n",
            "Epoch 70/100\n",
            "231/231 [==============================] - 2s 10ms/step - loss: 0.7694 - accuracy: 0.8090 - val_loss: 2.1038 - val_accuracy: 0.5347\n",
            "Epoch 71/100\n",
            "231/231 [==============================] - 2s 10ms/step - loss: 0.6732 - accuracy: 0.8299 - val_loss: 2.2225 - val_accuracy: 0.5278\n",
            "Epoch 72/100\n",
            "231/231 [==============================] - 2s 10ms/step - loss: 0.6038 - accuracy: 0.8594 - val_loss: 2.3806 - val_accuracy: 0.5729\n",
            "Epoch 73/100\n",
            "231/231 [==============================] - 2s 10ms/step - loss: 0.6159 - accuracy: 0.8559 - val_loss: 2.5669 - val_accuracy: 0.4653\n",
            "Epoch 74/100\n",
            "231/231 [==============================] - 2s 10ms/step - loss: 0.6034 - accuracy: 0.8663 - val_loss: 2.2251 - val_accuracy: 0.4931\n",
            "Epoch 75/100\n",
            "231/231 [==============================] - 2s 10ms/step - loss: 0.6068 - accuracy: 0.8585 - val_loss: 3.0047 - val_accuracy: 0.4792\n",
            "Epoch 76/100\n",
            "231/231 [==============================] - 2s 10ms/step - loss: 0.6051 - accuracy: 0.8733 - val_loss: 2.3962 - val_accuracy: 0.5278\n",
            "Epoch 77/100\n",
            "231/231 [==============================] - 2s 10ms/step - loss: 0.5593 - accuracy: 0.8767 - val_loss: 2.2336 - val_accuracy: 0.5382\n",
            "Epoch 78/100\n",
            "231/231 [==============================] - 2s 10ms/step - loss: 0.5863 - accuracy: 0.8759 - val_loss: 2.9729 - val_accuracy: 0.4722\n",
            "Epoch 79/100\n",
            "231/231 [==============================] - 2s 10ms/step - loss: 0.6143 - accuracy: 0.8672 - val_loss: 2.1745 - val_accuracy: 0.5347\n",
            "Epoch 80/100\n",
            "231/231 [==============================] - 2s 10ms/step - loss: 0.6022 - accuracy: 0.8698 - val_loss: 2.2218 - val_accuracy: 0.5104\n",
            "Epoch 81/100\n",
            "231/231 [==============================] - 2s 10ms/step - loss: 0.5272 - accuracy: 0.8941 - val_loss: 2.4580 - val_accuracy: 0.5521\n",
            "Epoch 82/100\n",
            "231/231 [==============================] - 2s 10ms/step - loss: 0.5102 - accuracy: 0.8984 - val_loss: 2.6946 - val_accuracy: 0.5312\n",
            "Epoch 83/100\n",
            "231/231 [==============================] - 2s 10ms/step - loss: 0.5012 - accuracy: 0.8906 - val_loss: 2.5136 - val_accuracy: 0.5174\n",
            "Epoch 84/100\n",
            "231/231 [==============================] - 2s 10ms/step - loss: 0.5393 - accuracy: 0.8967 - val_loss: 2.5425 - val_accuracy: 0.5312\n",
            "Epoch 85/100\n",
            "231/231 [==============================] - 2s 10ms/step - loss: 0.5058 - accuracy: 0.8967 - val_loss: 2.9793 - val_accuracy: 0.4722\n",
            "Epoch 86/100\n",
            "231/231 [==============================] - 2s 10ms/step - loss: 0.6592 - accuracy: 0.8481 - val_loss: 2.2113 - val_accuracy: 0.4896\n",
            "Epoch 87/100\n",
            "231/231 [==============================] - 2s 10ms/step - loss: 0.7162 - accuracy: 0.8359 - val_loss: 2.6313 - val_accuracy: 0.5174\n",
            "Epoch 88/100\n",
            "231/231 [==============================] - 2s 10ms/step - loss: 0.5621 - accuracy: 0.8845 - val_loss: 2.6457 - val_accuracy: 0.5208\n",
            "Epoch 89/100\n",
            "231/231 [==============================] - 2s 10ms/step - loss: 0.5437 - accuracy: 0.8819 - val_loss: 3.0422 - val_accuracy: 0.5208\n",
            "Epoch 90/100\n",
            "231/231 [==============================] - 2s 10ms/step - loss: 0.5480 - accuracy: 0.8793 - val_loss: 2.6390 - val_accuracy: 0.4792\n",
            "Epoch 91/100\n",
            "231/231 [==============================] - 2s 10ms/step - loss: 0.4982 - accuracy: 0.8932 - val_loss: 2.6125 - val_accuracy: 0.5104\n",
            "Epoch 92/100\n",
            "231/231 [==============================] - 2s 10ms/step - loss: 0.5518 - accuracy: 0.8819 - val_loss: 2.1963 - val_accuracy: 0.4931\n",
            "Epoch 93/100\n",
            "231/231 [==============================] - 2s 10ms/step - loss: 0.4693 - accuracy: 0.9019 - val_loss: 2.6001 - val_accuracy: 0.5625\n",
            "Epoch 94/100\n",
            "231/231 [==============================] - 2s 10ms/step - loss: 0.5218 - accuracy: 0.8967 - val_loss: 2.6607 - val_accuracy: 0.5104\n",
            "Epoch 95/100\n",
            "231/231 [==============================] - 2s 10ms/step - loss: 0.4625 - accuracy: 0.9141 - val_loss: 3.0085 - val_accuracy: 0.5347\n",
            "Epoch 96/100\n",
            "231/231 [==============================] - 2s 10ms/step - loss: 0.4666 - accuracy: 0.9062 - val_loss: 2.9005 - val_accuracy: 0.5035\n",
            "Epoch 97/100\n",
            "231/231 [==============================] - 2s 10ms/step - loss: 0.6178 - accuracy: 0.8663 - val_loss: 3.0075 - val_accuracy: 0.5556\n",
            "Epoch 98/100\n",
            "231/231 [==============================] - 2s 10ms/step - loss: 0.6628 - accuracy: 0.8516 - val_loss: 2.4903 - val_accuracy: 0.5069\n",
            "Epoch 99/100\n",
            "231/231 [==============================] - 2s 10ms/step - loss: 0.4720 - accuracy: 0.9036 - val_loss: 2.7703 - val_accuracy: 0.5035\n",
            "Epoch 100/100\n",
            "231/231 [==============================] - 2s 10ms/step - loss: 0.4788 - accuracy: 0.9080 - val_loss: 3.0146 - val_accuracy: 0.5104\n"
          ]
        }
      ],
      "source": [
        "historico = model.fit (train_generator, epochs=100, validation_data= validation_generator)"
      ]
    },
    {
      "cell_type": "code",
      "execution_count": 11,
      "metadata": {
        "colab": {
          "base_uri": "https://localhost:8080/"
        },
        "id": "7I-iFIkXrH-M",
        "outputId": "5d97089f-d3f5-426e-ab16-f5f93511cf2a"
      },
      "outputs": [],
      "source": [
        "model.save('model-laura-ad-hoc-2.h5')"
      ]
    },
    {
      "cell_type": "code",
      "execution_count": null,
      "metadata": {},
      "outputs": [],
      "source": []
    }
  ],
  "metadata": {
    "accelerator": "GPU",
    "colab": {
      "provenance": []
    },
    "gpuClass": "standard",
    "kernelspec": {
      "display_name": "CAPSTONE_PROJECT",
      "language": "python",
      "name": "python3"
    },
    "language_info": {
      "codemirror_mode": {
        "name": "ipython",
        "version": 3
      },
      "file_extension": ".py",
      "mimetype": "text/x-python",
      "name": "python",
      "nbconvert_exporter": "python",
      "pygments_lexer": "ipython3",
      "version": "3.10.8 | packaged by conda-forge | (main, Nov 24 2022, 14:07:00) [MSC v.1916 64 bit (AMD64)]"
    },
    "vscode": {
      "interpreter": {
        "hash": "528f1c4a8f5c6e5cd5d8d78b4daa41b3ade1cbafba6a160042eee37a16d4e513"
      }
    }
  },
  "nbformat": 4,
  "nbformat_minor": 0
}
