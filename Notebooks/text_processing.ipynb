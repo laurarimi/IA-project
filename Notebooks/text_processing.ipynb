{
 "cells": [
  {
   "cell_type": "code",
   "execution_count": 1,
   "metadata": {
    "vscode": {
     "languageId": "javascript"
    }
   },
   "outputs": [],
   "source": [
    "import pandas as pd\n",
    "from keras.utils import to_categorical"
   ]
  },
  {
   "cell_type": "markdown",
   "metadata": {},
   "source": [
    "0 sadness, 1 joy, 2 love, 3 anger, 4 fear"
   ]
  },
  {
   "cell_type": "code",
   "execution_count": 2,
   "metadata": {
    "vscode": {
     "languageId": "javascript"
    }
   },
   "outputs": [],
   "source": [
    "df_train = pd.read_csv('../Datasets/text/training.csv')\n",
    "df_test = pd.read_csv('../Datasets/text/test.csv')\n",
    "df_val = pd.read_csv('../Datasets/text/validation.csv')"
   ]
  },
  {
   "cell_type": "code",
   "execution_count": 3,
   "metadata": {
    "vscode": {
     "languageId": "javascript"
    }
   },
   "outputs": [],
   "source": [
    "df_train.drop(df_train[(df_train['label']==5)].index, inplace=True)\n",
    "df_test.drop(df_test[(df_test['label']==5)].index, inplace=True)\n",
    "df_val.drop(df_val[(df_val['label']==5)].index, inplace=True)\n"
   ]
  },
  {
   "cell_type": "code",
   "execution_count": 4,
   "metadata": {
    "vscode": {
     "languageId": "javascript"
    }
   },
   "outputs": [],
   "source": [
    "y_train = to_categorical(df_train.label, num_classes=5)\n",
    "X_train = df_train.text.to_numpy()\n",
    "\n",
    "y_test = to_categorical(df_test.label, num_classes=5)\n",
    "X_test = df_test.text.to_numpy()\n",
    "\n",
    "y_val = to_categorical(df_val.label, num_classes=5)\n",
    "X_val = df_val.text.to_numpy()"
   ]
  },
  {
   "cell_type": "code",
   "execution_count": null,
   "metadata": {
    "vscode": {
     "languageId": "javascript"
    }
   },
   "outputs": [],
   "source": []
  }
 ],
 "metadata": {
  "kernelspec": {
   "display_name": "Python 3.7.15 ('capstone')",
   "language": "python",
   "name": "python3"
  },
  "language_info": {
   "codemirror_mode": {
    "name": "ipython",
    "version": 3
   },
   "file_extension": ".py",
   "mimetype": "text/x-python",
   "name": "python",
   "nbconvert_exporter": "python",
   "pygments_lexer": "ipython3",
   "version": "3.7.15"
  },
  "orig_nbformat": 4,
  "vscode": {
   "interpreter": {
    "hash": "11be7db6fedfeee1b2da478998902baa875e856b3f6c75275692d0ed9ef7b16f"
   }
  }
 },
 "nbformat": 4,
 "nbformat_minor": 2
}
