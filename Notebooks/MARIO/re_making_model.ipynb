{
 "cells": [
  {
   "cell_type": "code",
   "execution_count": 1,
   "metadata": {},
   "outputs": [
    {
     "name": "stderr",
     "output_type": "stream",
     "text": [
      "c:\\Users\\mario\\anaconda3\\envs\\CAPSTONE_PROJECT\\lib\\site-packages\\tqdm\\auto.py:22: TqdmWarning: IProgress not found. Please update jupyter and ipywidgets. See https://ipywidgets.readthedocs.io/en/stable/user_install.html\n",
      "  from .autonotebook import tqdm as notebook_tqdm\n"
     ]
    }
   ],
   "source": [
    "import pandas as pd\n",
    "import numpy as np\n",
    "import os\n",
    "import re\n",
    "\n",
    "from keras.utils import to_categorical\n",
    "from keras.optimizers import Adam\n",
    "\n",
    "import tensorflow as tf\n",
    "\n",
    "import transformers\n",
    "from transformers import DistilBertTokenizer, TFDistilBertModel\n",
    "\n",
    "import matplotlib.pyplot as plt\n",
    "%matplotlib inline"
   ]
  },
  {
   "cell_type": "code",
   "execution_count": 2,
   "metadata": {},
   "outputs": [],
   "source": [
    "def clean_love(raw_train):\n",
    "   raw_train = raw_train[raw_train.label != 2]\n",
    "   raw_train.label = raw_train.label.apply(lambda x: x-1 if(x>2)else x)\n",
    "   return raw_train "
   ]
  },
  {
   "cell_type": "code",
   "execution_count": 3,
   "metadata": {},
   "outputs": [
    {
     "name": "stdout",
     "output_type": "stream",
     "text": [
      "We have 14696 for training, 1841 for testing and 1822 for validation\n"
     ]
    },
    {
     "name": "stderr",
     "output_type": "stream",
     "text": [
      "C:\\Users\\mario\\AppData\\Local\\Temp\\ipykernel_23092\\1653509633.py:3: SettingWithCopyWarning: \n",
      "A value is trying to be set on a copy of a slice from a DataFrame.\n",
      "Try using .loc[row_indexer,col_indexer] = value instead\n",
      "\n",
      "See the caveats in the documentation: https://pandas.pydata.org/pandas-docs/stable/user_guide/indexing.html#returning-a-view-versus-a-copy\n",
      "  raw_train.label = raw_train.label.apply(lambda x: x-1 if(x>2)else x)\n"
     ]
    }
   ],
   "source": [
    "raw_train = pd.read_csv(\"../../Datasets/text/training.csv\")\n",
    "raw_test = pd.read_csv(\"../../Datasets/text/test.csv\")\n",
    "raw_val = pd.read_csv(\"../../Datasets/text/validation.csv\")\n",
    "\n",
    "raw_train = clean_love(raw_train)\n",
    "raw_test = clean_love(raw_test)\n",
    "raw_val = clean_love(raw_val)\n",
    "\n",
    "X_train = raw_train['text'].to_numpy()\n",
    "y_train = raw_train['label']\n",
    "\n",
    "X_test = raw_test['text'].to_numpy()\n",
    "y_test = raw_test['label']\n",
    "\n",
    "X_val = raw_val['text'].to_numpy()\n",
    "y_val = raw_val['label']\n",
    "\n",
    "print(f\"We have {X_train.shape[0]} for training, {X_test.shape[0]} for testing and {X_val.shape[0]} for validation\")\n",
    "X_train = raw_train['text'].to_list()\n",
    "X_test = raw_test['text'].to_list()\n",
    "X_val = raw_val['text'].to_list()\n"
   ]
  },
  {
   "cell_type": "code",
   "execution_count": 4,
   "metadata": {},
   "outputs": [],
   "source": [
    "#Functions gonna be using\n",
    "def long_sentences(X):\n",
    "    b = 0\n",
    "    for i in X:\n",
    "        a = len(i.split(' '))\n",
    "        if a > b: \n",
    "            b = a\n",
    "    return b\n",
    "\n"
   ]
  },
  {
   "cell_type": "code",
   "execution_count": 5,
   "metadata": {},
   "outputs": [],
   "source": [
    "#Global variables \n",
    "CATEGORIES = \"sadness,joy,anger,fear,surprise\".split(',')\n",
    "NUM_LABELS = len(CATEGORIES)\n",
    "\n",
    "MAX_SEQUENCE_LENGTH = max([long_sentences(X_train), long_sentences(X_val), long_sentences(X_test)])\n",
    "\n",
    "MODEL_NAME = 'distilbert-base-uncased'\n",
    "MODEL_DIRECTORY = '../model/model'\n",
    "LOG_DIRECTORY = '../model/log'\n",
    "MODEL_FILE = \"Sentiment_detection\"\n",
    "\n",
    "FREEZE_BASE_MODEL = True\n",
    "\n",
    "# Flag to add Dense(softmax) on top\n",
    "USE_SOFTMAX_LAYER = True\n",
    "\n",
    "# Flag to add custom classification layers on top of the base\n",
    "USE_CLASSIFICATION_LAYER = False\n",
    "if USE_CLASSIFICATION_LAYER == False:\n",
    "    # Base needs to be trainable with no classification head\n",
    "    FREEZE_BASE_MODEL = False\n",
    "\n",
    "    # Base model only generates logits. Hence without classification layer\n",
    "    # the base output needs to go through a Dense layer to reduce the output \n",
    "    # to NUM_LABELS classes. It is an option not to use softmax in the last \n",
    "    # Dense layer and feed logits into the loss function.\n",
    "    USE_SOFTMAX_LAYER = True\n",
    "\n",
    "# Normalized output into the loss layer without softmax\n",
    "LOGITS_TO_LOSS = False if USE_SOFTMAX_LAYER else True"
   ]
  },
  {
   "cell_type": "markdown",
   "metadata": {},
   "source": [
    "Look how balanced is the training dataset"
   ]
  },
  {
   "cell_type": "code",
   "execution_count": 6,
   "metadata": {},
   "outputs": [
    {
     "data": {
      "text/plain": [
       "1    5362\n",
       "0    4666\n",
       "2    2159\n",
       "3    1937\n",
       "4     572\n",
       "Name: label, dtype: int64"
      ]
     },
     "execution_count": 6,
     "metadata": {},
     "output_type": "execute_result"
    }
   ],
   "source": [
    "y_train.value_counts()"
   ]
  },
  {
   "cell_type": "code",
   "execution_count": 7,
   "metadata": {},
   "outputs": [],
   "source": [
    "tokenizer = DistilBertTokenizer.from_pretrained('distilbert-base-uncased')\n",
    "\n",
    "\n",
    "def tokenize(sentences, max_length=MAX_SEQUENCE_LENGTH, padding='max_length'):\n",
    "\n",
    "    return tokenizer(\n",
    "        sentences,\n",
    "        truncation=True,\n",
    "        padding=padding,\n",
    "        max_length=max_length,\n",
    "        return_tensors=\"tf\"\n",
    "    )\n",
    "\n",
    "def decode(tokens):\n",
    "    return tokenizer.decode(tokens)"
   ]
  },
  {
   "cell_type": "code",
   "execution_count": 8,
   "metadata": {},
   "outputs": [
    {
     "name": "stderr",
     "output_type": "stream",
     "text": [
      "Some layers from the model checkpoint at distilbert-base-uncased were not used when initializing TFDistilBertModel: ['vocab_transform', 'vocab_layer_norm', 'activation_13', 'vocab_projector']\n",
      "- This IS expected if you are initializing TFDistilBertModel from the checkpoint of a model trained on another task or with another architecture (e.g. initializing a BertForSequenceClassification model from a BertForPreTraining model).\n",
      "- This IS NOT expected if you are initializing TFDistilBertModel from the checkpoint of a model that you expect to be exactly identical (initializing a BertForSequenceClassification model from a BertForSequenceClassification model).\n",
      "All the layers of TFDistilBertModel were initialized from the model checkpoint at distilbert-base-uncased.\n",
      "If your task is similar to the task the model of the checkpoint was trained on, you can already use TFDistilBertModel for predictions without further training.\n"
     ]
    },
    {
     "name": "stdout",
     "output_type": "stream",
     "text": [
      "Model: \"tf_distil_bert_model\"\n",
      "_________________________________________________________________\n",
      " Layer (type)                Output Shape              Param #   \n",
      "=================================================================\n",
      " distilbert (TFDistilBertMai  multiple                 66362880  \n",
      " nLayer)                                                         \n",
      "                                                                 \n",
      "=================================================================\n",
      "Total params: 66,362,880\n",
      "Trainable params: 66,362,880\n",
      "Non-trainable params: 0\n",
      "_________________________________________________________________\n"
     ]
    }
   ],
   "source": [
    "base = TFDistilBertModel.from_pretrained(\n",
    "    MODEL_NAME\n",
    ")\n",
    "\n",
    "base.summary()\n"
   ]
  },
  {
   "cell_type": "code",
   "execution_count": 9,
   "metadata": {},
   "outputs": [],
   "source": [
    "NUM_EPOCHS = 10\n",
    "BATCH_SIZE = 16\n",
    "LEARNING_RATE = 1e-2 if FREEZE_BASE_MODEL else 2e-5\n",
    "L2 = 1e-3\n",
    "REDUCE_LR_PATIENCE = 1\n",
    "EARLY_STOP_PATIENCE = 3"
   ]
  },
  {
   "cell_type": "code",
   "execution_count": 10,
   "metadata": {},
   "outputs": [],
   "source": [
    "sample_tokens = tokenize(\n",
    "    [   # Two example seenteces\n",
    "        \"i say hello\", \n",
    "        \"you say good bye\",\n",
    "    ],\n",
    "    padding='longest'\n",
    ")\n",
    "\n",
    "test_tokens = tokenize([\n",
    "    \"i am a cat who has no name.\",\n",
    "    \"to be or not to be.\"\n",
    "])\n",
    "TEST_BATCH_SIZE = len(test_tokens)\n",
    "\n",
    "base_model_output = base(sample_tokens)\n"
   ]
  },
  {
   "cell_type": "code",
   "execution_count": 11,
   "metadata": {},
   "outputs": [],
   "source": [
    "# Inputs for token indices and attention masks\n",
    "input_ids = tf.keras.layers.Input(shape=(MAX_SEQUENCE_LENGTH,), dtype=tf.int32, name='input_ids')\n",
    "attention_mask = tf.keras.layers.Input((MAX_SEQUENCE_LENGTH,), dtype=tf.int32, name='attention_mask')\n",
    "NUM_BASE_MODEL_OUTPUT = base_model_output.last_hidden_state.shape[-1]\n"
   ]
  },
  {
   "cell_type": "code",
   "execution_count": 12,
   "metadata": {},
   "outputs": [],
   "source": [
    "output = base([input_ids, attention_mask]).last_hidden_state[:, 0, :]\n"
   ]
  },
  {
   "cell_type": "code",
   "execution_count": 13,
   "metadata": {},
   "outputs": [],
   "source": [
    "if USE_CLASSIFICATION_LAYER:\n",
    "    # -------------------------------------------------------------------------------\n",
    "    # Classifiation leayer 01\n",
    "    # --------------------------------------------------------------------------------\n",
    "    output = tf.keras.layers.Dropout(\n",
    "        rate=0.15,\n",
    "        name=\"01_dropout\",\n",
    "    )(output)\n",
    "    \n",
    "    output = tf.keras.layers.Dense(\n",
    "        units=NUM_BASE_MODEL_OUTPUT,\n",
    "        kernel_initializer='glorot_uniform',\n",
    "        activation=None,\n",
    "        name=\"01_dense_relu_no_regularizer\",\n",
    "    )(output)\n",
    "    output = tf.keras.layers.BatchNormalization(\n",
    "        name=\"01_bn\"\n",
    "    )(output)\n",
    "    output = tf.keras.layers.Activation(\n",
    "        \"relu\",\n",
    "        name=\"01_relu\"\n",
    "    )(output)\n",
    "\n",
    "    # --------------------------------------------------------------------------------\n",
    "    # Classifiation leayer 02\n",
    "    # --------------------------------------------------------------------------------\n",
    "    output = tf.keras.layers.Dense(\n",
    "        units=NUM_BASE_MODEL_OUTPUT,\n",
    "        kernel_initializer='glorot_uniform',\n",
    "        activation=None,\n",
    "        name=\"02_dense_relu_no_regularizer\",\n",
    "    )(output)\n",
    "    output = tf.keras.layers.BatchNormalization(\n",
    "        name=\"02_bn\"\n",
    "    )(output)\n",
    "    output = tf.keras.layers.Activation(\n",
    "        \"relu\",\n",
    "        name=\"02_relu\"\n",
    "    )(output)"
   ]
  },
  {
   "cell_type": "code",
   "execution_count": 14,
   "metadata": {},
   "outputs": [],
   "source": [
    "if USE_SOFTMAX_LAYER:\n",
    "    LIGITS_TO_LOSS = False\n",
    "    output = tf.keras.layers.Dense(\n",
    "        units=NUM_LABELS,\n",
    "        kernel_initializer='glorot_uniform',\n",
    "        kernel_regularizer=tf.keras.regularizers.l2(l2=L2),\n",
    "        activation='softmax',\n",
    "        name=\"softmax\"\n",
    "    )(output)"
   ]
  },
  {
   "cell_type": "code",
   "execution_count": 15,
   "metadata": {},
   "outputs": [
    {
     "name": "stdout",
     "output_type": "stream",
     "text": [
      "Model: \"name\"\n",
      "__________________________________________________________________________________________________\n",
      " Layer (type)                   Output Shape         Param #     Connected to                     \n",
      "==================================================================================================\n",
      " input_ids (InputLayer)         [(None, 66)]         0           []                               \n",
      "                                                                                                  \n",
      " attention_mask (InputLayer)    [(None, 66)]         0           []                               \n",
      "                                                                                                  \n",
      " tf_distil_bert_model (TFDistil  TFBaseModelOutput(l  66362880   ['input_ids[0][0]',              \n",
      " BertModel)                     ast_hidden_state=(N               'attention_mask[0][0]']         \n",
      "                                one, 66, 768),                                                    \n",
      "                                 hidden_states=None                                               \n",
      "                                , attentions=None)                                                \n",
      "                                                                                                  \n",
      " tf.__operators__.getitem (Slic  (None, 768)         0           ['tf_distil_bert_model[0][0]']   \n",
      " ingOpLambda)                                                                                     \n",
      "                                                                                                  \n",
      " softmax (Dense)                (None, 5)            3845        ['tf.__operators__.getitem[0][0]'\n",
      "                                                                 ]                                \n",
      "                                                                                                  \n",
      "==================================================================================================\n",
      "Total params: 66,366,725\n",
      "Trainable params: 66,366,725\n",
      "Non-trainable params: 0\n",
      "__________________________________________________________________________________________________\n"
     ]
    }
   ],
   "source": [
    "model = tf.keras.models.Model(inputs=[input_ids, attention_mask], outputs=output, name=\"name\")\n",
    "model.compile(\n",
    "    loss=tf.keras.losses.SparseCategoricalCrossentropy(from_logits=LIGITS_TO_LOSS),\n",
    "    optimizer=tf.keras.optimizers.Adam(learning_rate=LEARNING_RATE),\n",
    "    metrics=['accuracy']\n",
    ")\n",
    "assert model(test_tokens).shape == (TEST_BATCH_SIZE, NUM_LABELS)\n",
    "model.summary()"
   ]
  },
  {
   "cell_type": "code",
   "execution_count": 16,
   "metadata": {},
   "outputs": [
    {
     "name": "stdout",
     "output_type": "stream",
     "text": [
      "You must install pydot (`pip install pydot`) and install graphviz (see instructions at https://graphviz.gitlab.io/download/) for plot_model to work.\n"
     ]
    }
   ],
   "source": [
    "tf.keras.utils.plot_model(\n",
    "    model, \n",
    "    show_shapes=True, \n",
    "    expand_nested=True, \n",
    "    show_dtype=True\n",
    ")"
   ]
  },
  {
   "cell_type": "code",
   "execution_count": 17,
   "metadata": {},
   "outputs": [],
   "source": [
    "class SavePretrainedCallback(tf.keras.callbacks.Callback):\n",
    "    \"\"\"\n",
    "    This is only for directly working on the Huggingface models.\n",
    "\n",
    "    Hugging Face models have a save_pretrained() method that saves both \n",
    "    the weights and the necessary metadata to allow them to be loaded as \n",
    "    a pretrained model in future. This is a simple Keras callback that \n",
    "    saves the model with this method after each epoch.\n",
    "    \"\"\"\n",
    "    def __init__(self, runner, output_dir, **kwargs):\n",
    "        super().__init__()\n",
    "        self.output_dir = output_dir\n",
    "\n",
    "    def on_epoch_end(self, epoch, logs=None):\n",
    "        # TODO: \n",
    "        #   save_pretrained() method is in the HuggingFace model only.\n",
    "        #   Need to update for custom model saving.\n",
    "        self.model.save_pretrained(self.output_dir)\n",
    "\n",
    "class TensorBoardCallback(tf.keras.callbacks.TensorBoard):\n",
    "    \"\"\"TensorBoard visualization of the model training\n",
    "    See https://keras.io/api/callbacks/tensorboard/\n",
    "    \"\"\"\n",
    "    def __init__(self, output_directory):\n",
    "        super().__init__(\n",
    "            log_dir=output_directory,\n",
    "            write_graph=True,\n",
    "            write_images=True,\n",
    "            histogram_freq=1,     # log histogram visualizations every 1 epoch\n",
    "            embeddings_freq=1,    # log embedding visualizations every 1 epoch\n",
    "            update_freq=\"epoch\",  # every epoch\n",
    "        )\n",
    "\n",
    "class EarlyStoppingCallback(tf.keras.callbacks.EarlyStopping):\n",
    "    \"\"\"Stop training when no progress on the metric to monitor\n",
    "    https://keras.io/api/callbacks/early_stopping/\n",
    "    https://machinelearningmastery.com/how-to-stop-training-deep-neural-networks-at-the-right-time-using-early-stopping/\n",
    "\n",
    "    Using val_loss to monitor. \n",
    "    https://datascience.stackexchange.com/a/49594/68313\n",
    "    Prefer the loss to the accuracy. Why? The loss quantify how certain \n",
    "    the model is about a prediction. The accuracy merely account for \n",
    "    the number of correct predictions. Similarly, any metrics using hard \n",
    "    predictions rather than probabilities have the same problem.\n",
    "    \"\"\"\n",
    "    def __init__(self, patience=3):\n",
    "        assert patience > 0\n",
    "        super().__init__(\n",
    "            monitor='val_loss', \n",
    "            mode='min', \n",
    "            verbose=1, \n",
    "            patience=patience,\n",
    "            restore_best_weights=True\n",
    "        )\n",
    "\n",
    "class ModelCheckpointCallback(tf.keras.callbacks.ModelCheckpoint):\n",
    "    \"\"\"Check point to save the model\n",
    "    See https://keras.io/api/callbacks/model_checkpoint/\n",
    "\n",
    "    NOTE: \n",
    "        Did not work with the HuggingFace native model with the error.\n",
    "        NotImplementedError: Saving the model to HDF5 format requires the model \n",
    "        to be a Functional model or a Sequential model. \n",
    "        It does not work for subclassed models, because such models are defined \n",
    "        via the body of a Python method, which isn't safely serializable.\n",
    "        \n",
    "        Did not work with the tf.keras.models.save_model nor model.save()\n",
    "        as causing out-of-index errors or load_model() failures. Hence use\n",
    "        save_weights_only=True.\n",
    "    \"\"\"\n",
    "    def __init__(self, path_to_file):\n",
    "        \"\"\"\n",
    "        Args:\n",
    "            path_to_file: path to the model file to save at check points\n",
    "        \"\"\"\n",
    "        super().__init__(\n",
    "            filepath=path_to_file, \n",
    "            monitor='val_loss', \n",
    "            mode='min', \n",
    "            save_best_only=True,\n",
    "            save_weights_only=True,  # Cannot save entire model.\n",
    "            save_freq=\"epoch\",\n",
    "            verbose=1\n",
    "        )\n",
    "\n",
    "class ReduceLRCallback(tf.keras.callbacks.ReduceLROnPlateau):\n",
    "    \"\"\"Reduce learning rate when a metric has stopped improving.\n",
    "    See https://keras.io/api/callbacks/reduce_lr_on_plateau/\n",
    "    \"\"\"\n",
    "    def __init__(self, patience=3):\n",
    "        assert patience > 0\n",
    "        super().__init__(\n",
    "            monitor=\"val_loss\",\n",
    "            factor=0.3,\n",
    "            patience=patience,\n",
    "            verbose=1\n",
    "        )"
   ]
  },
  {
   "cell_type": "code",
   "execution_count": 18,
   "metadata": {},
   "outputs": [],
   "source": [
    "def to_tensor(data, label = []):\n",
    "    return tf.data.Dataset.from_tensor_slices((\n",
    "    dict(tokenize(data)),  # Convert BatchEncoding instance to dictionary\n",
    "    label\n",
    "    )).batch(BATCH_SIZE).prefetch(1)\n"
   ]
  },
  {
   "cell_type": "code",
   "execution_count": 19,
   "metadata": {},
   "outputs": [],
   "source": [
    "Train_Dataset = to_tensor(X_train, y_train)\n",
    "Val_Dataset = to_tensor(X_val, y_val)\n",
    "Test_Dataset = to_tensor(X_test, y_test)"
   ]
  },
  {
   "cell_type": "code",
   "execution_count": 20,
   "metadata": {},
   "outputs": [
    {
     "name": "stdout",
     "output_type": "stream",
     "text": [
      "\n",
      "MAX_SEQUENCE_LENGTH = 66\n",
      "NUM_EPOCHS = 10\n",
      "BATCH_SIZE = 16\n",
      "LEARNING_RATE = 2e-05\n",
      "L2 = 0.001\n",
      "REDUCE_LR_PATIENCE = 1\n",
      "EARLY_STOP_PATIENCE = 3\n",
      "MODEL_DIRECTORY = ../model/model\n",
      "LOG_DIRECTORY = ../model/log\n",
      "\n"
     ]
    }
   ],
   "source": [
    "print(\"\"\"\n",
    "MAX_SEQUENCE_LENGTH = {}\n",
    "NUM_EPOCHS = {}\n",
    "BATCH_SIZE = {}\n",
    "LEARNING_RATE = {}\n",
    "L2 = {}\n",
    "REDUCE_LR_PATIENCE = {}\n",
    "EARLY_STOP_PATIENCE = {}\n",
    "MODEL_DIRECTORY = {}\n",
    "LOG_DIRECTORY = {}\n",
    "\"\"\".format(\n",
    "    MAX_SEQUENCE_LENGTH,\n",
    "    NUM_EPOCHS,\n",
    "    BATCH_SIZE,\n",
    "    LEARNING_RATE,\n",
    "    L2,\n",
    "    REDUCE_LR_PATIENCE,\n",
    "    EARLY_STOP_PATIENCE,\n",
    "    MODEL_DIRECTORY,\n",
    "    LOG_DIRECTORY\n",
    "))"
   ]
  },
  {
   "cell_type": "code",
   "execution_count": 21,
   "metadata": {},
   "outputs": [
    {
     "name": "stdout",
     "output_type": "stream",
     "text": [
      "Epoch 1/10\n",
      "  6/919 [..............................] - ETA: 2:47 - loss: 1.5393 - accuracy: 0.3333WARNING:tensorflow:Callback method `on_train_batch_end` is slow compared to the batch time (batch time: 0.0906s vs `on_train_batch_end` time: 0.1244s). Check your callbacks.\n",
      "919/919 [==============================] - ETA: 0s - loss: 0.3418 - accuracy: 0.8772\n",
      "Epoch 1: val_loss improved from inf to 0.12510, saving model to Sentiment_detection\n",
      "919/919 [==============================] - 215s 222ms/step - loss: 0.3418 - accuracy: 0.8772 - val_loss: 0.1251 - val_accuracy: 0.9512 - lr: 2.0000e-05\n",
      "Epoch 2/10\n",
      "919/919 [==============================] - ETA: 0s - loss: 0.0994 - accuracy: 0.9617\n",
      "Epoch 2: val_loss improved from 0.12510 to 0.11946, saving model to Sentiment_detection\n",
      "919/919 [==============================] - 203s 220ms/step - loss: 0.0994 - accuracy: 0.9617 - val_loss: 0.1195 - val_accuracy: 0.9528 - lr: 2.0000e-05\n",
      "Epoch 3/10\n",
      "919/919 [==============================] - ETA: 0s - loss: 0.0750 - accuracy: 0.9703\n",
      "Epoch 3: ReduceLROnPlateau reducing learning rate to 5.999999848427251e-06.\n",
      "\n",
      "Epoch 3: val_loss did not improve from 0.11946\n",
      "919/919 [==============================] - 193s 210ms/step - loss: 0.0750 - accuracy: 0.9703 - val_loss: 0.1267 - val_accuracy: 0.9523 - lr: 2.0000e-05\n",
      "Epoch 4/10\n",
      "919/919 [==============================] - ETA: 0s - loss: 0.0522 - accuracy: 0.9795\n",
      "Epoch 4: val_loss improved from 0.11946 to 0.11639, saving model to Sentiment_detection\n",
      "919/919 [==============================] - 224s 243ms/step - loss: 0.0522 - accuracy: 0.9795 - val_loss: 0.1164 - val_accuracy: 0.9561 - lr: 6.0000e-06\n",
      "Epoch 5/10\n",
      "919/919 [==============================] - ETA: 0s - loss: 0.0422 - accuracy: 0.9840\n",
      "Epoch 5: ReduceLROnPlateau reducing learning rate to 1.7999999272433341e-06.\n",
      "\n",
      "Epoch 5: val_loss did not improve from 0.11639\n",
      "919/919 [==============================] - 239s 260ms/step - loss: 0.0422 - accuracy: 0.9840 - val_loss: 0.1286 - val_accuracy: 0.9588 - lr: 6.0000e-06\n",
      "Epoch 6/10\n",
      "919/919 [==============================] - ETA: 0s - loss: 0.0368 - accuracy: 0.9878\n",
      "Epoch 6: ReduceLROnPlateau reducing learning rate to 5.399999849942105e-07.\n",
      "\n",
      "Epoch 6: val_loss did not improve from 0.11639\n",
      "919/919 [==============================] - 253s 275ms/step - loss: 0.0368 - accuracy: 0.9878 - val_loss: 0.1210 - val_accuracy: 0.9566 - lr: 1.8000e-06\n",
      "Epoch 7/10\n",
      "919/919 [==============================] - ETA: 0s - loss: 0.0334 - accuracy: 0.9901Restoring model weights from the end of the best epoch: 4.\n",
      "\n",
      "Epoch 7: ReduceLROnPlateau reducing learning rate to 1.6199999208765803e-07.\n",
      "\n",
      "Epoch 7: val_loss did not improve from 0.11639\n",
      "919/919 [==============================] - 240s 261ms/step - loss: 0.0334 - accuracy: 0.9901 - val_loss: 0.1226 - val_accuracy: 0.9577 - lr: 5.4000e-07\n",
      "Epoch 7: early stopping\n"
     ]
    }
   ],
   "source": [
    "history = model.fit(\n",
    "    x=Train_Dataset,    # dictionary \n",
    "    # y=Y,\n",
    "    y=None,\n",
    "    epochs=NUM_EPOCHS,\n",
    "    batch_size=BATCH_SIZE,\n",
    "    validation_data=Val_Dataset,\n",
    "    callbacks=[\n",
    "        EarlyStoppingCallback(patience=EARLY_STOP_PATIENCE),\n",
    "        ReduceLRCallback(patience=REDUCE_LR_PATIENCE),\n",
    "        ModelCheckpointCallback(MODEL_FILE),\n",
    "        TensorBoardCallback(LOG_DIRECTORY)\n",
    "    ]\n",
    ")"
   ]
  },
  {
   "cell_type": "code",
   "execution_count": 33,
   "metadata": {},
   "outputs": [
    {
     "name": "stdout",
     "output_type": "stream",
     "text": [
      "Num GPUs Available:  1\n"
     ]
    }
   ],
   "source": [
    "import tensorflow as tf\n",
    "print(\"Num GPUs Available: \", len(tf.config.list_physical_devices('GPU')))"
   ]
  },
  {
   "cell_type": "code",
   "execution_count": 34,
   "metadata": {},
   "outputs": [
    {
     "name": "stderr",
     "output_type": "stream",
     "text": [
      "C:\\Users\\mario\\AppData\\Local\\Temp\\ipykernel_23092\\3233609598.py:3: UserWarning: color is redundantly defined by the 'color' keyword argument and the fmt string \"b\" (-> color=(0.0, 0.0, 1.0, 1)). The keyword argument will take precedence.\n",
      "  plt.plot(epochs, history.history['loss'], 'b', label='Training loss', color='blue', linewidth=1, linestyle='solid', marker='o', markersize=3)\n",
      "C:\\Users\\mario\\AppData\\Local\\Temp\\ipykernel_23092\\3233609598.py:4: UserWarning: color is redundantly defined by the 'color' keyword argument and the fmt string \"r\" (-> color=(1.0, 0.0, 0.0, 1)). The keyword argument will take precedence.\n",
      "  plt.plot(epochs, history.history['val_loss'], 'r', label='Validation loss', color='red', linewidth=1, linestyle='solid', marker='o', markersize=3)\n"
     ]
    },
    {
     "data": {
      "image/png": "[encoded data removed]",
      "text/plain": [
       "<Figure size 640x480 with 1 Axes>"
      ]
     },
     "metadata": {},
     "output_type": "display_data"
    },
    {
     "name": "stderr",
     "output_type": "stream",
     "text": [
      "C:\\Users\\mario\\AppData\\Local\\Temp\\ipykernel_23092\\3233609598.py:9: UserWarning: color is redundantly defined by the 'color' keyword argument and the fmt string \"b\" (-> color=(0.0, 0.0, 1.0, 1)). The keyword argument will take precedence.\n",
      "  plt.plot(epochs, history.history['accuracy'], 'b', label='Training accuracy', color='blue', linewidth=1, linestyle='solid', marker='o', markersize=3)\n",
      "C:\\Users\\mario\\AppData\\Local\\Temp\\ipykernel_23092\\3233609598.py:10: UserWarning: color is redundantly defined by the 'color' keyword argument and the fmt string \"r\" (-> color=(1.0, 0.0, 0.0, 1)). The keyword argument will take precedence.\n",
      "  plt.plot(epochs, history.history['val_accuracy'], 'r', label='Validation accuracy', color='red', linewidth=1, linestyle='solid', marker='o', markersize=3)\n"
     ]
    },
    {
     "data": {
      "image/png": "[encoded data removed]",
      "text/plain": [
       "<Figure size 640x480 with 1 Axes>"
      ]
     },
     "metadata": {},
     "output_type": "display_data"
    }
   ],
   "source": []
  },
  {
   "cell_type": "code",
   "execution_count": 24,
   "metadata": {},
   "outputs": [],
   "source": [
    "def predict(str,model):\n",
    "    str = to_tensor(str)\n",
    "    model.predict(str)"
   ]
  },
  {
   "cell_type": "code",
   "execution_count": 35,
   "metadata": {},
   "outputs": [
    {
     "name": "stdout",
     "output_type": "stream",
     "text": [
      "116/116 [==============================] - 9s 69ms/step - loss: 0.1317 - accuracy: 0.9522\n"
     ]
    },
    {
     "data": {
      "text/plain": [
       "[0.13167238235473633, 0.9521998763084412]"
      ]
     },
     "execution_count": 35,
     "metadata": {},
     "output_type": "execute_result"
    }
   ],
   "source": [
    "model.evaluate(Test_Dataset)"
   ]
  },
  {
   "cell_type": "code",
   "execution_count": 26,
   "metadata": {},
   "outputs": [],
   "source": [
    "predict = tf.data.Dataset.from_tensor_slices((\n",
    "    dict(tokenize(\"I love you\")),\n",
    ")).batch(BATCH_SIZE).prefetch(1)"
   ]
  },
  {
   "cell_type": "code",
   "execution_count": 27,
   "metadata": {},
   "outputs": [
    {
     "name": "stdout",
     "output_type": "stream",
     "text": [
      "1/1 [==============================] - 3s 3s/step\n"
     ]
    }
   ],
   "source": [
    "predict = model.predict(predict)"
   ]
  },
  {
   "cell_type": "code",
   "execution_count": 28,
   "metadata": {},
   "outputs": [],
   "source": [
    "def predice(array,model):\n",
    "    array = tf.data.Dataset.from_tensor_slices((\n",
    "    dict(tokenize(array)),\n",
    "    )).batch(BATCH_SIZE).prefetch(1)\n",
    "    return pd.DataFrame(columns=CATEGORIES,data=model.predict(array))\n",
    "    "
   ]
  },
  {
   "cell_type": "code",
   "execution_count": 29,
   "metadata": {},
   "outputs": [
    {
     "name": "stdout",
     "output_type": "stream",
     "text": [
      "WARNING:tensorflow:Skipping full serialization of Keras layer <keras.layers.regularization.dropout.Dropout object at 0x000001857843D570>, because it is not built.\n",
      "WARNING:tensorflow:Skipping full serialization of Keras layer <keras.layers.regularization.dropout.Dropout object at 0x000001857971D2A0>, because it is not built.\n",
      "WARNING:tensorflow:Skipping full serialization of Keras layer <keras.layers.regularization.dropout.Dropout object at 0x000001857971FBE0>, because it is not built.\n",
      "WARNING:tensorflow:Skipping full serialization of Keras layer <keras.layers.regularization.dropout.Dropout object at 0x000001857973E560>, because it is not built.\n",
      "WARNING:tensorflow:Skipping full serialization of Keras layer <keras.layers.regularization.dropout.Dropout object at 0x0000018579744EE0>, because it is not built.\n",
      "WARNING:tensorflow:Skipping full serialization of Keras layer <keras.layers.regularization.dropout.Dropout object at 0x0000018579747820>, because it is not built.\n"
     ]
    },
    {
     "name": "stderr",
     "output_type": "stream",
     "text": [
      "WARNING:absl:Found untraced functions such as embeddings_layer_call_fn, embeddings_layer_call_and_return_conditional_losses, transformer_layer_call_fn, transformer_layer_call_and_return_conditional_losses, LayerNorm_layer_call_fn while saving (showing 5 of 164). These functions will not be directly callable after loading.\n"
     ]
    },
    {
     "name": "stdout",
     "output_type": "stream",
     "text": [
      "INFO:tensorflow:Assets written to: ../AnalisisSentimental\\assets\n"
     ]
    },
    {
     "name": "stderr",
     "output_type": "stream",
     "text": [
      "INFO:tensorflow:Assets written to: ../AnalisisSentimental\\assets\n"
     ]
    }
   ],
   "source": [
    "model.save(\"../AnalisisSentimental\", save_format='tf')"
   ]
  },
  {
   "cell_type": "code",
   "execution_count": 39,
   "metadata": {},
   "outputs": [
    {
     "name": "stdout",
     "output_type": "stream",
     "text": [
      "1/1 [==============================] - 0s 342ms/step\n"
     ]
    },
    {
     "data": {
      "text/html": [
       "<div>\n",
       "<style scoped>\n",
       "    .dataframe tbody tr th:only-of-type {\n",
       "        vertical-align: middle;\n",
       "    }\n",
       "\n",
       "    .dataframe tbody tr th {\n",
       "        vertical-align: top;\n",
       "    }\n",
       "\n",
       "    .dataframe thead th {\n",
       "        text-align: right;\n",
       "    }\n",
       "</style>\n",
       "<table border=\"1\" class=\"dataframe\">\n",
       "  <thead>\n",
       "    <tr style=\"text-align: right;\">\n",
       "      <th></th>\n",
       "      <th>sadness</th>\n",
       "      <th>joy</th>\n",
       "      <th>anger</th>\n",
       "      <th>fear</th>\n",
       "      <th>surprise</th>\n",
       "    </tr>\n",
       "  </thead>\n",
       "  <tbody>\n",
       "    <tr>\n",
       "      <th>0</th>\n",
       "      <td>0.996621</td>\n",
       "      <td>0.000255</td>\n",
       "      <td>0.002426</td>\n",
       "      <td>0.00065</td>\n",
       "      <td>0.000049</td>\n",
       "    </tr>\n",
       "  </tbody>\n",
       "</table>\n",
       "</div>"
      ],
      "text/plain": [
       "    sadness       joy     anger     fear  surprise\n",
       "0  0.996621  0.000255  0.002426  0.00065  0.000049"
      ]
     },
     "execution_count": 39,
     "metadata": {},
     "output_type": "execute_result"
    }
   ],
   "source": [
    "predice(\"oh you hurt a lot my little heart\",model)"
   ]
  },
  {
   "cell_type": "code",
   "execution_count": 31,
   "metadata": {},
   "outputs": [],
   "source": [
    "model.save('SentimentAnalysis.hdf5')"
   ]
  },
  {
   "cell_type": "code",
   "execution_count": 32,
   "metadata": {},
   "outputs": [],
   "source": [
    "new_model = tf.keras.models.load_model('SentimentAnalysis.hdf5', custom_objects={'TFDistilBertModel': TFDistilBertModel})"
   ]
  },
  {
   "cell_type": "code",
   "execution_count": null,
   "metadata": {},
   "outputs": [],
   "source": []
  },
  {
   "cell_type": "code",
   "execution_count": null,
   "metadata": {},
   "outputs": [],
   "source": []
  }
 ],
 "metadata": {
  "kernelspec": {
   "display_name": "Python 3.10.8 ('CAPSTONE_PROJECT')",
   "language": "python",
   "name": "python3"
  },
  "language_info": {
   "codemirror_mode": {
    "name": "ipython",
    "version": 3
   },
   "file_extension": ".py",
   "mimetype": "text/x-python",
   "name": "python",
   "nbconvert_exporter": "python",
   "pygments_lexer": "ipython3",
   "version": "3.10.8 | packaged by conda-forge | (main, Nov 24 2022, 14:07:00) [MSC v.1916 64 bit (AMD64)]"
  },
  "orig_nbformat": 4,
  "vscode": {
   "interpreter": {
    "hash": "528f1c4a8f5c6e5cd5d8d78b4daa41b3ade1cbafba6a160042eee37a16d4e513"
   }
  }
 },
 "nbformat": 4,
 "nbformat_minor": 2
}
