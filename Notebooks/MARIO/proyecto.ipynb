{
 "cells": [
  {
   "cell_type": "code",
   "execution_count": 1,
   "metadata": {},
   "outputs": [],
   "source": [
    "from utils import *\n",
    "from playsound import playsound\n",
    "import sounddevice as sd\n",
    "import soundfile as sf\n",
    "\n"
   ]
  },
  {
   "cell_type": "code",
   "execution_count": null,
   "metadata": {},
   "outputs": [],
   "source": [
    "VALUES = 1\n",
    "list = [1,0,0,0,0,0]\n",
    "generate_sound(get_notes(list))\n"
   ]
  },
  {
   "cell_type": "code",
   "execution_count": 13,
   "metadata": {},
   "outputs": [],
   "source": [
    "\n",
    "filename = 'PRUEBAS2.wav'\n",
    "# Extract data and sampling rate from file\n",
    "data, fs = sf.read(filename, dtype='float32')  \n",
    "sd.play(data, fs)\n",
    "status = sd.wait()  # Wait until file is done playing\n"
   ]
  },
  {
   "cell_type": "code",
   "execution_count": 2,
   "metadata": {},
   "outputs": [],
   "source": [
    "hola = get_piano_notes()"
   ]
  },
  {
   "cell_type": "code",
   "execution_count": 3,
   "metadata": {},
   "outputs": [
    {
     "name": "stdout",
     "output_type": "stream",
     "text": [
      "{'C1': 27.5, 'D1': 29.13523509488062, 'E1': 30.86770632850775, 'F1': 32.70319566257483, 'G1': 34.64782887210901, 'A1': 36.70809598967594, 'B1': 38.890872965260115, 'C2': 41.20344461410875, 'D2': 43.653528929125486, 'E2': 46.2493028389543, 'F2': 48.999429497718666, 'G2': 51.91308719749314, 'A2': 55.0, 'B2': 58.27047018976124, 'C3': 61.7354126570155, 'D3': 65.40639132514966, 'E3': 69.29565774421802, 'F3': 73.41619197935188, 'G3': 77.78174593052023, 'A3': 82.4068892282175, 'B3': 87.30705785825097, 'C4': 92.4986056779086, 'D4': 97.99885899543733, 'E4': 103.82617439498628, 'F4': 110.0, 'G4': 116.54094037952248, '': 0.0}\n"
     ]
    }
   ],
   "source": [
    "print(hola)"
   ]
  },
  {
   "cell_type": "code",
   "execution_count": null,
   "metadata": {},
   "outputs": [],
   "source": []
  }
 ],
 "metadata": {
  "kernelspec": {
   "display_name": "CAPSTONE_PROJECT",
   "language": "python",
   "name": "python3"
  },
  "language_info": {
   "codemirror_mode": {
    "name": "ipython",
    "version": 3
   },
   "file_extension": ".py",
   "mimetype": "text/x-python",
   "name": "python",
   "nbconvert_exporter": "python",
   "pygments_lexer": "ipython3",
   "version": "3.10.8 | packaged by conda-forge | (main, Nov 24 2022, 14:07:00) [MSC v.1916 64 bit (AMD64)]"
  },
  "orig_nbformat": 4,
  "vscode": {
   "interpreter": {
    "hash": "528f1c4a8f5c6e5cd5d8d78b4daa41b3ade1cbafba6a160042eee37a16d4e513"
   }
  }
 },
 "nbformat": 4,
 "nbformat_minor": 2
}
