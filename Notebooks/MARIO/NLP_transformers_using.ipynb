{
 "cells": [
  {
   "cell_type": "code",
   "execution_count": 1,
   "metadata": {},
   "outputs": [
    {
     "name": "stderr",
     "output_type": "stream",
     "text": [
      "c:\\Users\\mario\\anaconda3\\envs\\CAPSTONE_PROJECT\\lib\\site-packages\\tqdm\\auto.py:22: TqdmWarning: IProgress not found. Please update jupyter and ipywidgets. See https://ipywidgets.readthedocs.io/en/stable/user_install.html\n",
      "  from .autonotebook import tqdm as notebook_tqdm\n"
     ]
    }
   ],
   "source": [
    "import pandas as pd\n",
    "import numpy as np\n",
    "import os\n",
    "import re\n",
    "\n",
    "from keras.utils import to_categorical\n",
    "from keras.optimizers import Adam\n",
    "\n",
    "import tensorflow as tf\n",
    "\n",
    "import transformers\n",
    "from transformers import DistilBertTokenizer, TFDistilBertModel\n",
    "\n",
    "import matplotlib.pyplot as plt\n",
    "%matplotlib inline"
   ]
  },
  {
   "cell_type": "code",
   "execution_count": 2,
   "metadata": {},
   "outputs": [],
   "source": [
    "tokenizer = DistilBertTokenizer.from_pretrained('distilbert-base-uncased')\n",
    "\n",
    "MAX_SEQUENCE_LENGTH = 66\n",
    "BATCH_SIZE = 32\n",
    "CATEGORIES = \"sadness,joy,anger,fear,surprise,neutral\".split(',')\n",
    "\n",
    "\n",
    "def tokenize(sentences, max_length=MAX_SEQUENCE_LENGTH, padding='max_length'):\n",
    "\n",
    "    return tokenizer(\n",
    "        sentences,\n",
    "        truncation=True,\n",
    "        padding=padding,\n",
    "        max_length=max_length,\n",
    "        return_tensors=\"tf\"\n",
    "    )\n",
    "\n",
    "def decode(tokens):\n",
    "    return tokenizer.decode(tokens)\n",
    "def to_tensor(data, label = []):\n",
    "    return tf.data.Dataset.from_tensor_slices((\n",
    "    dict(tokenize(data)),  # Convert BatchEncoding instance to dictionary\n",
    "    label\n",
    "    )).batch(BATCH_SIZE).prefetch(1)\n",
    "def predict(str,model):\n",
    "    str = to_tensor(str)\n",
    "    model.predict(str)\n",
    "def predice(array,model):\n",
    "    array = tf.data.Dataset.from_tensor_slices((\n",
    "    dict(tokenize(array)),\n",
    "    )).batch(BATCH_SIZE).prefetch(1)\n",
    "    return pd.DataFrame(columns=CATEGORIES,data=model.predict(array))"
   ]
  },
  {
   "cell_type": "code",
   "execution_count": 3,
   "metadata": {},
   "outputs": [],
   "source": [
    "new_model = tf.keras.models.load_model('SentimentAnalysis.hdf5', custom_objects={'TFDistilBertModel': TFDistilBertModel})"
   ]
  },
  {
   "cell_type": "code",
   "execution_count": 26,
   "metadata": {},
   "outputs": [
    {
     "name": "stdout",
     "output_type": "stream",
     "text": [
      "1/1 [==============================] - 0s 347ms/step\n"
     ]
    },
    {
     "data": {
      "text/html": [
       "<div>\n",
       "<style scoped>\n",
       "    .dataframe tbody tr th:only-of-type {\n",
       "        vertical-align: middle;\n",
       "    }\n",
       "\n",
       "    .dataframe tbody tr th {\n",
       "        vertical-align: top;\n",
       "    }\n",
       "\n",
       "    .dataframe thead th {\n",
       "        text-align: right;\n",
       "    }\n",
       "</style>\n",
       "<table border=\"1\" class=\"dataframe\">\n",
       "  <thead>\n",
       "    <tr style=\"text-align: right;\">\n",
       "      <th></th>\n",
       "      <th>sadness</th>\n",
       "      <th>joy</th>\n",
       "      <th>anger</th>\n",
       "      <th>fear</th>\n",
       "      <th>surprise</th>\n",
       "      <th>neutral</th>\n",
       "    </tr>\n",
       "  </thead>\n",
       "  <tbody>\n",
       "    <tr>\n",
       "      <th>0</th>\n",
       "      <td>0.313775</td>\n",
       "      <td>0.006882</td>\n",
       "      <td>0.44432</td>\n",
       "      <td>0.02142</td>\n",
       "      <td>0.015742</td>\n",
       "      <td>0.197861</td>\n",
       "    </tr>\n",
       "  </tbody>\n",
       "</table>\n",
       "</div>"
      ],
      "text/plain": [
       "    sadness       joy    anger     fear  surprise   neutral\n",
       "0  0.313775  0.006882  0.44432  0.02142  0.015742  0.197861"
      ]
     },
     "execution_count": 26,
     "metadata": {},
     "output_type": "execute_result"
    }
   ],
   "source": [
    "predice(\"You broke my new car and now i have to buy another one\",new_model)"
   ]
  },
  {
   "cell_type": "code",
   "execution_count": 10,
   "metadata": {},
   "outputs": [
    {
     "name": "stderr",
     "output_type": "stream",
     "text": [
      "Traceback (most recent call last):\n",
      "  File \"C:\\Users\\mario\\anaconda3\\envs\\CAPSTONE_PROJECT\\lib\\runpy.py\", line 196, in _run_module_as_main\n",
      "    return _run_code(code, main_globals, None,\n",
      "  File \"C:\\Users\\mario\\anaconda3\\envs\\CAPSTONE_PROJECT\\lib\\runpy.py\", line 86, in _run_code\n",
      "    exec(code, run_globals)\n",
      "  File \"C:\\Users\\mario\\anaconda3\\envs\\CAPSTONE_PROJECT\\Scripts\\whisper.exe\\__main__.py\", line 7, in <module>\n",
      "  File \"C:\\Users\\mario\\anaconda3\\envs\\CAPSTONE_PROJECT\\lib\\site-packages\\whisper\\transcribe.py\", line 304, in cli\n",
      "    model = load_model(model_name, device=device, download_root=model_dir)\n",
      "  File \"C:\\Users\\mario\\anaconda3\\envs\\CAPSTONE_PROJECT\\lib\\site-packages\\whisper\\__init__.py\", line 109, in load_model\n",
      "    checkpoint = torch.load(fp, map_location=device)\n",
      "  File \"C:\\Users\\mario\\anaconda3\\envs\\CAPSTONE_PROJECT\\lib\\site-packages\\torch\\serialization.py\", line 712, in load\n",
      "    return _load(opened_zipfile, map_location, pickle_module, **pickle_load_args)\n",
      "  File \"C:\\Users\\mario\\anaconda3\\envs\\CAPSTONE_PROJECT\\lib\\site-packages\\torch\\serialization.py\", line 1049, in _load\n",
      "    result = unpickler.load()\n",
      "  File \"C:\\Users\\mario\\anaconda3\\envs\\CAPSTONE_PROJECT\\lib\\site-packages\\torch\\serialization.py\", line 1019, in persistent_load\n",
      "    load_tensor(dtype, nbytes, key, _maybe_decode_ascii(location))\n",
      "  File \"C:\\Users\\mario\\anaconda3\\envs\\CAPSTONE_PROJECT\\lib\\site-packages\\torch\\serialization.py\", line 1001, in load_tensor\n",
      "    wrap_storage=restore_location(storage, location),\n",
      "  File \"C:\\Users\\mario\\anaconda3\\envs\\CAPSTONE_PROJECT\\lib\\site-packages\\torch\\serialization.py\", line 970, in restore_location\n",
      "    return default_restore_location(storage, map_location)\n",
      "  File \"C:\\Users\\mario\\anaconda3\\envs\\CAPSTONE_PROJECT\\lib\\site-packages\\torch\\serialization.py\", line 178, in default_restore_location\n",
      "    raise RuntimeError(\"don't know how to restore data location of \"\n",
      "RuntimeError: don't know how to restore data location of torch.storage._UntypedStorage (tagged with GPU)\n"
     ]
    }
   ],
   "source": [
    "!whisper --model base --language es --fp16 False --device GPU --task translate ../../\"VOICE ACTIVITY DETECTION\"/audio.wav"
   ]
  },
  {
   "cell_type": "code",
   "execution_count": null,
   "metadata": {},
   "outputs": [],
   "source": []
  }
 ],
 "metadata": {
  "kernelspec": {
   "display_name": "CAPSTONE_PROJECT",
   "language": "python",
   "name": "python3"
  },
  "language_info": {
   "codemirror_mode": {
    "name": "ipython",
    "version": 3
   },
   "file_extension": ".py",
   "mimetype": "text/x-python",
   "name": "python",
   "nbconvert_exporter": "python",
   "pygments_lexer": "ipython3",
   "version": "3.10.8 | packaged by conda-forge | (main, Nov 24 2022, 14:07:00) [MSC v.1916 64 bit (AMD64)]"
  },
  "orig_nbformat": 4,
  "vscode": {
   "interpreter": {
    "hash": "528f1c4a8f5c6e5cd5d8d78b4daa41b3ade1cbafba6a160042eee37a16d4e513"
   }
  }
 },
 "nbformat": 4,
 "nbformat_minor": 2
}
