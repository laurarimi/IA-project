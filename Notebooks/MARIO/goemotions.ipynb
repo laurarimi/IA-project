{
 "cells": [
  {
   "cell_type": "code",
   "execution_count": 38,
   "metadata": {},
   "outputs": [],
   "source": [
    "import pandas as pd\n",
    "from sklearn.model_selection import train_test_split\n",
    "import pandas as pd\n",
    "import numpy as np\n",
    "import os\n",
    "import re\n",
    "\n",
    "from keras.utils import to_categorical\n",
    "from keras.optimizers import Adam\n",
    "\n",
    "import tensorflow as tf\n",
    "\n",
    "import transformers\n",
    "from transformers import DistilBertTokenizer, TFDistilBertModel\n",
    "\n",
    "import matplotlib.pyplot as plt\n",
    "%matplotlib inline"
   ]
  },
  {
   "cell_type": "code",
   "execution_count": 39,
   "metadata": {},
   "outputs": [
    {
     "name": "stdout",
     "output_type": "stream",
     "text": [
      "[PhysicalDevice(name='/physical_device:GPU:0', device_type='GPU')]\n"
     ]
    }
   ],
   "source": [
    "import tensorflow as tf\n",
    "print(tf.config.list_physical_devices('GPU'))"
   ]
  },
  {
   "cell_type": "code",
   "execution_count": 40,
   "metadata": {},
   "outputs": [],
   "source": [
    "df = pd.read_csv('../../Datasets/GoEmotions/go_emotions_dataset.csv')"
   ]
  },
  {
   "cell_type": "code",
   "execution_count": 41,
   "metadata": {},
   "outputs": [
    {
     "data": {
      "text/plain": [
       "Index(['id', 'text', 'example_very_unclear', 'admiration', 'amusement',\n",
       "       'anger', 'annoyance', 'approval', 'caring', 'confusion', 'curiosity',\n",
       "       'desire', 'disappointment', 'disapproval', 'disgust', 'embarrassment',\n",
       "       'excitement', 'fear', 'gratitude', 'grief', 'joy', 'love',\n",
       "       'nervousness', 'optimism', 'pride', 'realization', 'relief', 'remorse',\n",
       "       'sadness', 'surprise', 'neutral'],\n",
       "      dtype='object')"
      ]
     },
     "execution_count": 41,
     "metadata": {},
     "output_type": "execute_result"
    }
   ],
   "source": [
    "df.columns"
   ]
  },
  {
   "cell_type": "code",
   "execution_count": 42,
   "metadata": {},
   "outputs": [
    {
     "name": "stderr",
     "output_type": "stream",
     "text": [
      "C:\\Users\\mario\\AppData\\Local\\Temp\\ipykernel_1120\\2385767688.py:6: SettingWithCopyWarning: \n",
      "A value is trying to be set on a copy of a slice from a DataFrame.\n",
      "Try using .loc[row_indexer,col_indexer] = value instead\n",
      "\n",
      "See the caveats in the documentation: https://pandas.pydata.org/pandas-docs/stable/user_guide/indexing.html#returning-a-view-versus-a-copy\n",
      "  sadness_df['label'] = 0\n",
      "C:\\Users\\mario\\AppData\\Local\\Temp\\ipykernel_1120\\2385767688.py:10: SettingWithCopyWarning: \n",
      "A value is trying to be set on a copy of a slice from a DataFrame.\n",
      "Try using .loc[row_indexer,col_indexer] = value instead\n",
      "\n",
      "See the caveats in the documentation: https://pandas.pydata.org/pandas-docs/stable/user_guide/indexing.html#returning-a-view-versus-a-copy\n",
      "  joy_df['label'] = 1\n",
      "C:\\Users\\mario\\AppData\\Local\\Temp\\ipykernel_1120\\2385767688.py:14: SettingWithCopyWarning: \n",
      "A value is trying to be set on a copy of a slice from a DataFrame.\n",
      "Try using .loc[row_indexer,col_indexer] = value instead\n",
      "\n",
      "See the caveats in the documentation: https://pandas.pydata.org/pandas-docs/stable/user_guide/indexing.html#returning-a-view-versus-a-copy\n",
      "  anger_df['label'] = 2\n",
      "C:\\Users\\mario\\AppData\\Local\\Temp\\ipykernel_1120\\2385767688.py:18: SettingWithCopyWarning: \n",
      "A value is trying to be set on a copy of a slice from a DataFrame.\n",
      "Try using .loc[row_indexer,col_indexer] = value instead\n",
      "\n",
      "See the caveats in the documentation: https://pandas.pydata.org/pandas-docs/stable/user_guide/indexing.html#returning-a-view-versus-a-copy\n",
      "  fear_df['label'] = 3\n",
      "C:\\Users\\mario\\AppData\\Local\\Temp\\ipykernel_1120\\2385767688.py:22: SettingWithCopyWarning: \n",
      "A value is trying to be set on a copy of a slice from a DataFrame.\n",
      "Try using .loc[row_indexer,col_indexer] = value instead\n",
      "\n",
      "See the caveats in the documentation: https://pandas.pydata.org/pandas-docs/stable/user_guide/indexing.html#returning-a-view-versus-a-copy\n",
      "  surprise_df['label'] = 4\n",
      "C:\\Users\\mario\\AppData\\Local\\Temp\\ipykernel_1120\\2385767688.py:26: SettingWithCopyWarning: \n",
      "A value is trying to be set on a copy of a slice from a DataFrame.\n",
      "Try using .loc[row_indexer,col_indexer] = value instead\n",
      "\n",
      "See the caveats in the documentation: https://pandas.pydata.org/pandas-docs/stable/user_guide/indexing.html#returning-a-view-versus-a-copy\n",
      "  neutral_df['label'] = 5\n"
     ]
    }
   ],
   "source": [
    "objectives = ['text', 'fear', 'surprise', 'anger', 'joy', 'sadness', 'neutral']\n",
    "new_df = df[objectives]\n",
    "\n",
    "#0 sadness, 1 joy, 2 anger, 3 fear, 4 surprise, 5 neutral\n",
    "sadness_df = new_df[new_df.sadness==1]\n",
    "sadness_df['label'] = 0\n",
    "sadness_df = sadness_df[['text','label']]\n",
    "\n",
    "joy_df = new_df[new_df.joy==1]\n",
    "joy_df['label'] = 1\n",
    "joy_df = joy_df[['text','label']]\n",
    "\n",
    "anger_df = new_df[new_df.anger==1]\n",
    "anger_df['label'] = 2\n",
    "anger_df = anger_df[['text','label']]\n",
    "\n",
    "fear_df = new_df[new_df['fear']==1]\n",
    "fear_df['label'] = 3\n",
    "fear_df = fear_df[['text','label']]\n",
    "\n",
    "surprise_df = new_df[new_df.surprise==1]\n",
    "surprise_df['label'] = 4\n",
    "surprise_df = surprise_df[['text','label']]\n",
    "\n",
    "neutral_df = new_df[new_df.neutral==1]\n",
    "neutral_df['label'] = 5\n",
    "neutral_df = neutral_df[['text','label']]\n",
    "\n",
    "all_dfA = pd.concat((fear_df, surprise_df, anger_df, joy_df, sadness_df, neutral_df))"
   ]
  },
  {
   "cell_type": "code",
   "execution_count": 43,
   "metadata": {},
   "outputs": [],
   "source": [
    "dataset_a = all_dfA.label.value_counts().sort_index()"
   ]
  },
  {
   "attachments": {},
   "cell_type": "markdown",
   "metadata": {},
   "source": [
    "MIXING DATASETS"
   ]
  },
  {
   "cell_type": "code",
   "execution_count": 44,
   "metadata": {},
   "outputs": [
    {
     "name": "stderr",
     "output_type": "stream",
     "text": [
      "C:\\Users\\mario\\AppData\\Local\\Temp\\ipykernel_1120\\165555774.py:3: SettingWithCopyWarning: \n",
      "A value is trying to be set on a copy of a slice from a DataFrame.\n",
      "Try using .loc[row_indexer,col_indexer] = value instead\n",
      "\n",
      "See the caveats in the documentation: https://pandas.pydata.org/pandas-docs/stable/user_guide/indexing.html#returning-a-view-versus-a-copy\n",
      "  raw_train.label = raw_train.label.apply(lambda x: x-1 if(x>2)else x)\n"
     ]
    },
    {
     "name": "stdout",
     "output_type": "stream",
     "text": [
      "We have 14696 for training, 1841 for testing and 1822 for validation\n"
     ]
    }
   ],
   "source": [
    "def clean_love(raw_train):\n",
    "   raw_train = raw_train[raw_train.label != 2]\n",
    "   raw_train.label = raw_train.label.apply(lambda x: x-1 if(x>2)else x)\n",
    "   return raw_train \n",
    "   \n",
    "raw_train = pd.read_csv(\"../../Datasets/text/training.csv\")\n",
    "raw_test = pd.read_csv(\"../../Datasets/text/test.csv\")\n",
    "raw_val = pd.read_csv(\"../../Datasets/text/validation.csv\")\n",
    "\n",
    "raw_train = clean_love(raw_train)\n",
    "raw_test = clean_love(raw_test)\n",
    "raw_val = clean_love(raw_val)\n",
    "\n",
    "all_dfB = pd.concat((raw_train, raw_test, raw_val))\n",
    "\n",
    "dataset_b = ((raw_train.label.value_counts() + raw_test.label.value_counts() + raw_val.label.value_counts()).sort_index())\n",
    "#0 sadness, 1 joy, 2 anger, 3 fear, 4 surprise, 5 neutral\n",
    "\n",
    "X_train = raw_train['text'].to_numpy()\n",
    "y_train = raw_train['label']\n",
    "\n",
    "X_test = raw_test['text'].to_numpy()\n",
    "y_test = raw_test['label']\n",
    "\n",
    "X_val = raw_val['text'].to_numpy()\n",
    "y_val = raw_val['label']\n",
    "\n",
    "print(f\"We have {X_train.shape[0]} for training, {X_test.shape[0]} for testing and {X_val.shape[0]} for validation\")\n",
    "X_train = raw_train['text'].to_list()\n",
    "X_test = raw_test['text'].to_list()\n",
    "X_val = raw_val['text'].to_list()\n",
    "\n",
    "\n",
    "\n",
    "global_df = pd.concat((all_dfA, all_dfB))\n"
   ]
  },
  {
   "cell_type": "code",
   "execution_count": 45,
   "metadata": {},
   "outputs": [],
   "source": [
    "def clean_dataframe(df, threshold):\n",
    "    aux1 = []\n",
    "    counter = 0\n",
    "    for section in df.label.value_counts().sort_index():\n",
    "        if (section > threshold):\n",
    "            if counter == 0 :\n",
    "                aux1 = df[df.label==counter].iloc[:threshold]\n",
    "                # print(aux1)\n",
    "            else: \n",
    "                aux1 = pd.concat((aux1, df[df.label==counter].iloc[:threshold]), axis=0)\n",
    "                # print(counter)\n",
    "        else:\n",
    "            if counter == 0 :\n",
    "                aux1 = df[df.label==counter]\n",
    "            else: \n",
    "                aux1 = pd.concat((aux1, df[df.label==counter]))\n",
    "        counter = counter + 1\n",
    "    return aux1"
   ]
  },
  {
   "cell_type": "code",
   "execution_count": 46,
   "metadata": {},
   "outputs": [],
   "source": [
    "global_df = clean_dataframe(global_df, 10000)\n",
    "X_train, X_test, y_train, y_test = train_test_split(global_df.text, global_df.label, test_size=0.22, random_state=123)\n",
    "X_train, X_val, y_train, y_val = train_test_split(X_train, y_train, test_size=0.11, random_state=123)\n",
    "\n",
    "X_train = X_train.tolist()\n",
    "y_train = y_train.tolist()\n",
    "X_test = X_test.tolist()\n",
    "y_test = y_test.tolist()\n",
    "X_val = X_val.tolist()\n",
    "y_val = y_val.tolist()"
   ]
  },
  {
   "cell_type": "code",
   "execution_count": 47,
   "metadata": {},
   "outputs": [],
   "source": [
    "#Functions gonna be using\n",
    "def long_sentences(X):\n",
    "    b = 0\n",
    "    for i in X:\n",
    "        a = len(i.split(' '))\n",
    "        if a > b: \n",
    "            b = a\n",
    "    return b\n",
    "\n"
   ]
  },
  {
   "cell_type": "code",
   "execution_count": 48,
   "metadata": {},
   "outputs": [],
   "source": [
    "#Global variables \n",
    "CATEGORIES = \"sadness,joy,anger,fear,surprise,neutral\".split(',')\n",
    "NUM_LABELS = len(CATEGORIES)\n",
    "\n",
    "MAX_SEQUENCE_LENGTH = max([long_sentences(X_train), long_sentences(X_val), long_sentences(X_test)])\n",
    "\n",
    "MODEL_NAME = 'distilbert-base-uncased'\n",
    "MODEL_DIRECTORY = '../model/model'\n",
    "LOG_DIRECTORY = '../model/log'\n",
    "MODEL_FILE = \"Sentiment_detection\"\n",
    "\n",
    "FREEZE_BASE_MODEL = True\n",
    "\n",
    "# Flag to add Dense(softmax) on top\n",
    "USE_SOFTMAX_LAYER = True\n",
    "\n",
    "# Flag to add custom classification layers on top of the base\n",
    "USE_CLASSIFICATION_LAYER = False\n",
    "if USE_CLASSIFICATION_LAYER == False:\n",
    "    # Base needs to be trainable with no classification head\n",
    "    FREEZE_BASE_MODEL = False\n",
    "\n",
    "    # Base model only generates logits. Hence without classification layer\n",
    "    # the base output needs to go through a Dense layer to reduce the output \n",
    "    # to NUM_LABELS classes. It is an option not to use softmax in the last \n",
    "    # Dense layer and feed logits into the loss function.\n",
    "    USE_SOFTMAX_LAYER = True\n",
    "\n",
    "# Normalized output into the loss layer without softmax\n",
    "LOGITS_TO_LOSS = False if USE_SOFTMAX_LAYER else True"
   ]
  },
  {
   "cell_type": "code",
   "execution_count": 49,
   "metadata": {},
   "outputs": [],
   "source": [
    "tokenizer = DistilBertTokenizer.from_pretrained('distilbert-base-uncased')\n",
    "\n",
    "\n",
    "def tokenize(sentences, max_length=MAX_SEQUENCE_LENGTH, padding='max_length'):\n",
    "\n",
    "    return tokenizer(\n",
    "        sentences,\n",
    "        truncation=True,\n",
    "        padding=padding,\n",
    "        max_length=max_length,\n",
    "        return_tensors=\"tf\"\n",
    "    )\n",
    "\n",
    "def decode(tokens):\n",
    "    return tokenizer.decode(tokens)"
   ]
  },
  {
   "cell_type": "code",
   "execution_count": 50,
   "metadata": {},
   "outputs": [
    {
     "name": "stderr",
     "output_type": "stream",
     "text": [
      "Some layers from the model checkpoint at distilbert-base-uncased were not used when initializing TFDistilBertModel: ['activation_13', 'vocab_transform', 'vocab_projector', 'vocab_layer_norm']\n",
      "- This IS expected if you are initializing TFDistilBertModel from the checkpoint of a model trained on another task or with another architecture (e.g. initializing a BertForSequenceClassification model from a BertForPreTraining model).\n",
      "- This IS NOT expected if you are initializing TFDistilBertModel from the checkpoint of a model that you expect to be exactly identical (initializing a BertForSequenceClassification model from a BertForSequenceClassification model).\n",
      "All the layers of TFDistilBertModel were initialized from the model checkpoint at distilbert-base-uncased.\n",
      "If your task is similar to the task the model of the checkpoint was trained on, you can already use TFDistilBertModel for predictions without further training.\n"
     ]
    },
    {
     "name": "stdout",
     "output_type": "stream",
     "text": [
      "Model: \"tf_distil_bert_model_1\"\n",
      "_________________________________________________________________\n",
      " Layer (type)                Output Shape              Param #   \n",
      "=================================================================\n",
      " distilbert (TFDistilBertMai  multiple                 66362880  \n",
      " nLayer)                                                         \n",
      "                                                                 \n",
      "=================================================================\n",
      "Total params: 66,362,880\n",
      "Trainable params: 66,362,880\n",
      "Non-trainable params: 0\n",
      "_________________________________________________________________\n"
     ]
    }
   ],
   "source": [
    "base = TFDistilBertModel.from_pretrained(\n",
    "    MODEL_NAME\n",
    ")\n",
    "\n",
    "base.summary()\n"
   ]
  },
  {
   "cell_type": "code",
   "execution_count": 51,
   "metadata": {},
   "outputs": [],
   "source": [
    "NUM_EPOCHS = 5\n",
    "BATCH_SIZE = 32\n",
    "LEARNING_RATE = 1e-2 if FREEZE_BASE_MODEL else 2e-5\n",
    "L2 = 1e-3\n",
    "REDUCE_LR_PATIENCE = 1\n",
    "EARLY_STOP_PATIENCE = 3"
   ]
  },
  {
   "cell_type": "code",
   "execution_count": 52,
   "metadata": {},
   "outputs": [],
   "source": [
    "sample_tokens = tokenize(\n",
    "    [   # Two example seenteces\n",
    "        \"i say hello\", \n",
    "        \"you say good bye\",\n",
    "    ],\n",
    "    padding='longest'\n",
    ")\n",
    "\n",
    "test_tokens = tokenize([\n",
    "    \"i am a cat who has no name.\",\n",
    "    \"to be or not to be.\"\n",
    "])\n",
    "TEST_BATCH_SIZE = len(test_tokens)\n",
    "\n",
    "base_model_output = base(sample_tokens)\n"
   ]
  },
  {
   "cell_type": "code",
   "execution_count": 53,
   "metadata": {},
   "outputs": [],
   "source": [
    "# Inputs for token indices and attention masks\n",
    "input_ids = tf.keras.layers.Input(shape=(MAX_SEQUENCE_LENGTH,), dtype=tf.int32, name='input_ids')\n",
    "attention_mask = tf.keras.layers.Input((MAX_SEQUENCE_LENGTH,), dtype=tf.int32, name='attention_mask')\n",
    "NUM_BASE_MODEL_OUTPUT = base_model_output.last_hidden_state.shape[-1]\n"
   ]
  },
  {
   "cell_type": "code",
   "execution_count": 54,
   "metadata": {},
   "outputs": [],
   "source": [
    "output = base([input_ids, attention_mask]).last_hidden_state[:, 0, :]\n"
   ]
  },
  {
   "cell_type": "code",
   "execution_count": 55,
   "metadata": {},
   "outputs": [],
   "source": [
    "if USE_CLASSIFICATION_LAYER:\n",
    "    # -------------------------------------------------------------------------------\n",
    "    # Classifiation leayer 01\n",
    "    # --------------------------------------------------------------------------------\n",
    "    output = tf.keras.layers.Dropout(\n",
    "        rate=0.15,\n",
    "        name=\"01_dropout\",\n",
    "    )(output)\n",
    "    \n",
    "    output = tf.keras.layers.Dense(\n",
    "        units=NUM_BASE_MODEL_OUTPUT,\n",
    "        kernel_initializer='glorot_uniform',\n",
    "        activation=None,\n",
    "        name=\"01_dense_relu_no_regularizer\",\n",
    "    )(output)\n",
    "    output = tf.keras.layers.BatchNormalization(\n",
    "        name=\"01_bn\"\n",
    "    )(output)\n",
    "    output = tf.keras.layers.Activation(\n",
    "        \"relu\",\n",
    "        name=\"01_relu\"\n",
    "    )(output)\n",
    "\n",
    "    # --------------------------------------------------------------------------------\n",
    "    # Classifiation leayer 02\n",
    "    # --------------------------------------------------------------------------------\n",
    "    output = tf.keras.layers.Dense(\n",
    "        units=NUM_BASE_MODEL_OUTPUT,\n",
    "        kernel_initializer='glorot_uniform',\n",
    "        activation=None,\n",
    "        name=\"02_dense_relu_no_regularizer\",\n",
    "    )(output)\n",
    "    output = tf.keras.layers.BatchNormalization(\n",
    "        name=\"02_bn\"\n",
    "    )(output)\n",
    "    output = tf.keras.layers.Activation(\n",
    "        \"relu\",\n",
    "        name=\"02_relu\"\n",
    "    )(output)"
   ]
  },
  {
   "cell_type": "code",
   "execution_count": 56,
   "metadata": {},
   "outputs": [],
   "source": [
    "if USE_SOFTMAX_LAYER:\n",
    "    LIGITS_TO_LOSS = False\n",
    "    output = tf.keras.layers.Dense(\n",
    "        units=NUM_LABELS,\n",
    "        kernel_initializer='glorot_uniform',\n",
    "        kernel_regularizer=tf.keras.regularizers.l2(l2=L2),\n",
    "        activation='softmax',\n",
    "        name=\"softmax\"\n",
    "    )(output)"
   ]
  },
  {
   "cell_type": "code",
   "execution_count": 57,
   "metadata": {},
   "outputs": [
    {
     "name": "stdout",
     "output_type": "stream",
     "text": [
      "Model: \"name\"\n",
      "__________________________________________________________________________________________________\n",
      " Layer (type)                   Output Shape         Param #     Connected to                     \n",
      "==================================================================================================\n",
      " input_ids (InputLayer)         [(None, 66)]         0           []                               \n",
      "                                                                                                  \n",
      " attention_mask (InputLayer)    [(None, 66)]         0           []                               \n",
      "                                                                                                  \n",
      " tf_distil_bert_model_1 (TFDist  TFBaseModelOutput(l  66362880   ['input_ids[0][0]',              \n",
      " ilBertModel)                   ast_hidden_state=(N               'attention_mask[0][0]']         \n",
      "                                one, 66, 768),                                                    \n",
      "                                 hidden_states=None                                               \n",
      "                                , attentions=None)                                                \n",
      "                                                                                                  \n",
      " tf.__operators__.getitem_1 (Sl  (None, 768)         0           ['tf_distil_bert_model_1[0][0]'] \n",
      " icingOpLambda)                                                                                   \n",
      "                                                                                                  \n",
      " softmax (Dense)                (None, 6)            4614        ['tf.__operators__.getitem_1[0][0\n",
      "                                                                 ]']                              \n",
      "                                                                                                  \n",
      "==================================================================================================\n",
      "Total params: 66,367,494\n",
      "Trainable params: 66,367,494\n",
      "Non-trainable params: 0\n",
      "__________________________________________________________________________________________________\n"
     ]
    }
   ],
   "source": [
    "model = tf.keras.models.Model(inputs=[input_ids, attention_mask], outputs=output, name=\"name\")\n",
    "model.compile(\n",
    "    loss=tf.keras.losses.SparseCategoricalCrossentropy(from_logits=LIGITS_TO_LOSS),\n",
    "    optimizer=tf.keras.optimizers.Adam(learning_rate=LEARNING_RATE),\n",
    "    metrics=['accuracy']\n",
    ")\n",
    "assert model(test_tokens).shape == (TEST_BATCH_SIZE, NUM_LABELS)\n",
    "model.summary()"
   ]
  },
  {
   "cell_type": "code",
   "execution_count": 58,
   "metadata": {},
   "outputs": [
    {
     "name": "stdout",
     "output_type": "stream",
     "text": [
      "You must install pydot (`pip install pydot`) and install graphviz (see instructions at https://graphviz.gitlab.io/download/) for plot_model to work.\n"
     ]
    }
   ],
   "source": [
    "tf.keras.utils.plot_model(\n",
    "    model, \n",
    "    show_shapes=True, \n",
    "    expand_nested=True, \n",
    "    show_dtype=True\n",
    ")"
   ]
  },
  {
   "cell_type": "code",
   "execution_count": 59,
   "metadata": {},
   "outputs": [],
   "source": [
    "class SavePretrainedCallback(tf.keras.callbacks.Callback):\n",
    "    \"\"\"\n",
    "    This is only for directly working on the Huggingface models.\n",
    "\n",
    "    Hugging Face models have a save_pretrained() method that saves both \n",
    "    the weights and the necessary metadata to allow them to be loaded as \n",
    "    a pretrained model in future. This is a simple Keras callback that \n",
    "    saves the model with this method after each epoch.\n",
    "    \"\"\"\n",
    "    def __init__(self, runner, output_dir, **kwargs):\n",
    "        super().__init__()\n",
    "        self.output_dir = output_dir\n",
    "\n",
    "    def on_epoch_end(self, epoch, logs=None):\n",
    "        # TODO: \n",
    "        #   save_pretrained() method is in the HuggingFace model only.\n",
    "        #   Need to update for custom model saving.\n",
    "        self.model.save_pretrained(self.output_dir)\n",
    "\n",
    "class TensorBoardCallback(tf.keras.callbacks.TensorBoard):\n",
    "    \"\"\"TensorBoard visualization of the model training\n",
    "    See https://keras.io/api/callbacks/tensorboard/\n",
    "    \"\"\"\n",
    "    def __init__(self, output_directory):\n",
    "        super().__init__(\n",
    "            log_dir=output_directory,\n",
    "            write_graph=True,\n",
    "            write_images=True,\n",
    "            histogram_freq=1,     # log histogram visualizations every 1 epoch\n",
    "            embeddings_freq=1,    # log embedding visualizations every 1 epoch\n",
    "            update_freq=\"epoch\",  # every epoch\n",
    "        )\n",
    "\n",
    "class EarlyStoppingCallback(tf.keras.callbacks.EarlyStopping):\n",
    "    \"\"\"Stop training when no progress on the metric to monitor\n",
    "    https://keras.io/api/callbacks/early_stopping/\n",
    "    https://machinelearningmastery.com/how-to-stop-training-deep-neural-networks-at-the-right-time-using-early-stopping/\n",
    "\n",
    "    Using val_loss to monitor. \n",
    "    https://datascience.stackexchange.com/a/49594/68313\n",
    "    Prefer the loss to the accuracy. Why? The loss quantify how certain \n",
    "    the model is about a prediction. The accuracy merely account for \n",
    "    the number of correct predictions. Similarly, any metrics using hard \n",
    "    predictions rather than probabilities have the same problem.\n",
    "    \"\"\"\n",
    "    def __init__(self, patience=3):\n",
    "        assert patience > 0\n",
    "        super().__init__(\n",
    "            monitor='val_loss', \n",
    "            mode='min', \n",
    "            verbose=1, \n",
    "            patience=patience,\n",
    "            restore_best_weights=True\n",
    "        )\n",
    "\n",
    "class ModelCheckpointCallback(tf.keras.callbacks.ModelCheckpoint):\n",
    "    \"\"\"Check point to save the model\n",
    "    See https://keras.io/api/callbacks/model_checkpoint/\n",
    "\n",
    "    NOTE: \n",
    "        Did not work with the HuggingFace native model with the error.\n",
    "        NotImplementedError: Saving the model to HDF5 format requires the model \n",
    "        to be a Functional model or a Sequential model. \n",
    "        It does not work for subclassed models, because such models are defined \n",
    "        via the body of a Python method, which isn't safely serializable.\n",
    "        \n",
    "        Did not work with the tf.keras.models.save_model nor model.save()\n",
    "        as causing out-of-index errors or load_model() failures. Hence use\n",
    "        save_weights_only=True.\n",
    "    \"\"\"\n",
    "    def __init__(self, path_to_file):\n",
    "        \"\"\"\n",
    "        Args:\n",
    "            path_to_file: path to the model file to save at check points\n",
    "        \"\"\"\n",
    "        super().__init__(\n",
    "            filepath=path_to_file, \n",
    "            monitor='val_loss', \n",
    "            mode='min', \n",
    "            save_best_only=True,\n",
    "            save_weights_only=True,  # Cannot save entire model.\n",
    "            save_freq=\"epoch\",\n",
    "            verbose=1\n",
    "        )\n",
    "\n",
    "class ReduceLRCallback(tf.keras.callbacks.ReduceLROnPlateau):\n",
    "    \"\"\"Reduce learning rate when a metric has stopped improving.\n",
    "    See https://keras.io/api/callbacks/reduce_lr_on_plateau/\n",
    "    \"\"\"\n",
    "    def __init__(self, patience=3):\n",
    "        assert patience > 0\n",
    "        super().__init__(\n",
    "            monitor=\"val_loss\",\n",
    "            factor=0.3,\n",
    "            patience=patience,\n",
    "            verbose=1\n",
    "        )"
   ]
  },
  {
   "cell_type": "code",
   "execution_count": 60,
   "metadata": {},
   "outputs": [],
   "source": [
    "def to_tensor(data, label = []):\n",
    "    return tf.data.Dataset.from_tensor_slices((\n",
    "    dict(tokenize(data)),  # Convert BatchEncoding instance to dictionary\n",
    "    label\n",
    "    )).batch(BATCH_SIZE).prefetch(1)\n"
   ]
  },
  {
   "cell_type": "code",
   "execution_count": 61,
   "metadata": {},
   "outputs": [],
   "source": [
    "Train_Dataset = to_tensor(X_train, y_train)\n",
    "Val_Dataset = to_tensor(X_val, y_val)\n",
    "Test_Dataset = to_tensor(X_test, y_test)"
   ]
  },
  {
   "cell_type": "code",
   "execution_count": 62,
   "metadata": {},
   "outputs": [
    {
     "name": "stdout",
     "output_type": "stream",
     "text": [
      "\n",
      "MAX_SEQUENCE_LENGTH = 66\n",
      "NUM_EPOCHS = 5\n",
      "BATCH_SIZE = 32\n",
      "LEARNING_RATE = 2e-05\n",
      "L2 = 0.001\n",
      "REDUCE_LR_PATIENCE = 1\n",
      "EARLY_STOP_PATIENCE = 3\n",
      "MODEL_DIRECTORY = ../model/model\n",
      "LOG_DIRECTORY = ../model/log\n",
      "\n"
     ]
    }
   ],
   "source": [
    "print(\"\"\"\n",
    "MAX_SEQUENCE_LENGTH = {}\n",
    "NUM_EPOCHS = {}\n",
    "BATCH_SIZE = {}\n",
    "LEARNING_RATE = {}\n",
    "L2 = {}\n",
    "REDUCE_LR_PATIENCE = {}\n",
    "EARLY_STOP_PATIENCE = {}\n",
    "MODEL_DIRECTORY = {}\n",
    "LOG_DIRECTORY = {}\n",
    "\"\"\".format(\n",
    "    MAX_SEQUENCE_LENGTH,\n",
    "    NUM_EPOCHS,\n",
    "    BATCH_SIZE,\n",
    "    LEARNING_RATE,\n",
    "    L2,\n",
    "    REDUCE_LR_PATIENCE,\n",
    "    EARLY_STOP_PATIENCE,\n",
    "    MODEL_DIRECTORY,\n",
    "    LOG_DIRECTORY\n",
    "))"
   ]
  },
  {
   "cell_type": "code",
   "execution_count": 63,
   "metadata": {},
   "outputs": [
    {
     "name": "stdout",
     "output_type": "stream",
     "text": [
      "Epoch 1/5\n",
      "   6/1124 [..............................] - ETA: 5:48 - loss: 1.8396 - accuracy: 0.1562WARNING:tensorflow:Callback method `on_train_batch_end` is slow compared to the batch time (batch time: 0.1356s vs `on_train_batch_end` time: 0.1923s). Check your callbacks.\n",
      "1124/1124 [==============================] - ETA: 0s - loss: 0.9531 - accuracy: 0.6592\n",
      "Epoch 1: val_loss improved from inf to 0.82170, saving model to Sentiment_detection\n",
      "1124/1124 [==============================] - 399s 345ms/step - loss: 0.9531 - accuracy: 0.6592 - val_loss: 0.8217 - val_accuracy: 0.7159 - lr: 2.0000e-05\n",
      "Epoch 2/5\n",
      "1124/1124 [==============================] - ETA: 0s - loss: 0.7239 - accuracy: 0.7474\n",
      "Epoch 2: val_loss improved from 0.82170 to 0.79902, saving model to Sentiment_detection\n",
      "1124/1124 [==============================] - 379s 337ms/step - loss: 0.7239 - accuracy: 0.7474 - val_loss: 0.7990 - val_accuracy: 0.7271 - lr: 2.0000e-05\n",
      "Epoch 3/5\n",
      "1124/1124 [==============================] - ETA: 0s - loss: 0.6026 - accuracy: 0.7877\n",
      "Epoch 3: ReduceLROnPlateau reducing learning rate to 5.999999848427251e-06.\n",
      "\n",
      "Epoch 3: val_loss did not improve from 0.79902\n",
      "1124/1124 [==============================] - 383s 340ms/step - loss: 0.6026 - accuracy: 0.7877 - val_loss: 0.8405 - val_accuracy: 0.7215 - lr: 2.0000e-05\n",
      "Epoch 4/5\n",
      "1124/1124 [==============================] - ETA: 0s - loss: 0.4474 - accuracy: 0.8411\n",
      "Epoch 4: ReduceLROnPlateau reducing learning rate to 1.7999999272433341e-06.\n",
      "\n",
      "Epoch 4: val_loss did not improve from 0.79902\n",
      "1124/1124 [==============================] - 378s 337ms/step - loss: 0.4474 - accuracy: 0.8411 - val_loss: 0.9250 - val_accuracy: 0.7210 - lr: 6.0000e-06\n",
      "Epoch 5/5\n",
      "1124/1124 [==============================] - ETA: 0s - loss: 0.3872 - accuracy: 0.8618Restoring model weights from the end of the best epoch: 2.\n",
      "\n",
      "Epoch 5: ReduceLROnPlateau reducing learning rate to 5.399999849942105e-07.\n",
      "\n",
      "Epoch 5: val_loss did not improve from 0.79902\n",
      "1124/1124 [==============================] - 398s 354ms/step - loss: 0.3872 - accuracy: 0.8618 - val_loss: 0.9566 - val_accuracy: 0.7235 - lr: 1.8000e-06\n",
      "Epoch 5: early stopping\n"
     ]
    }
   ],
   "source": [
    "history = model.fit(\n",
    "    x=Train_Dataset,    # dictionary \n",
    "    # y=Y,\n",
    "    y=None,\n",
    "    epochs=NUM_EPOCHS,\n",
    "    batch_size=BATCH_SIZE,\n",
    "    validation_data=Val_Dataset,\n",
    "    callbacks=[\n",
    "        EarlyStoppingCallback(patience=EARLY_STOP_PATIENCE),\n",
    "        ReduceLRCallback(patience=REDUCE_LR_PATIENCE),\n",
    "        ModelCheckpointCallback(MODEL_FILE),\n",
    "        TensorBoardCallback(LOG_DIRECTORY)\n",
    "    ]\n",
    ")"
   ]
  },
  {
   "cell_type": "code",
   "execution_count": 64,
   "metadata": {},
   "outputs": [],
   "source": [
    "def predict(str,model):\n",
    "    str = to_tensor(str)\n",
    "    model.predict(str)"
   ]
  },
  {
   "cell_type": "code",
   "execution_count": 65,
   "metadata": {},
   "outputs": [
    {
     "name": "stdout",
     "output_type": "stream",
     "text": [
      "357/357 [==============================] - 41s 112ms/step - loss: 0.8344 - accuracy: 0.7156\n"
     ]
    },
    {
     "data": {
      "text/plain": [
       "[0.8343679308891296, 0.7156268954277039]"
      ]
     },
     "execution_count": 65,
     "metadata": {},
     "output_type": "execute_result"
    }
   ],
   "source": [
    "model.evaluate(Test_Dataset)"
   ]
  },
  {
   "cell_type": "code",
   "execution_count": 66,
   "metadata": {},
   "outputs": [],
   "source": [
    "predict = tf.data.Dataset.from_tensor_slices((\n",
    "    dict(tokenize(\"I love you\")),\n",
    ")).batch(BATCH_SIZE).prefetch(1)"
   ]
  },
  {
   "cell_type": "code",
   "execution_count": 67,
   "metadata": {},
   "outputs": [
    {
     "name": "stdout",
     "output_type": "stream",
     "text": [
      "1/1 [==============================] - 2s 2s/step\n"
     ]
    }
   ],
   "source": [
    "predict = model.predict(predict)"
   ]
  },
  {
   "cell_type": "code",
   "execution_count": 68,
   "metadata": {},
   "outputs": [],
   "source": [
    "def predice(array,model):\n",
    "    array = tf.data.Dataset.from_tensor_slices((\n",
    "    dict(tokenize(array)),\n",
    "    )).batch(BATCH_SIZE).prefetch(1)\n",
    "    return pd.DataFrame(columns=CATEGORIES,data=model.predict(array))\n",
    "    "
   ]
  },
  {
   "cell_type": "code",
   "execution_count": 69,
   "metadata": {},
   "outputs": [
    {
     "name": "stdout",
     "output_type": "stream",
     "text": [
      "WARNING:tensorflow:Skipping full serialization of Keras layer <keras.layers.regularization.dropout.Dropout object at 0x000001B96320D1B0>, because it is not built.\n",
      "WARNING:tensorflow:Skipping full serialization of Keras layer <keras.layers.regularization.dropout.Dropout object at 0x000001B96320D9C0>, because it is not built.\n",
      "WARNING:tensorflow:Skipping full serialization of Keras layer <keras.layers.regularization.dropout.Dropout object at 0x000001B87064A680>, because it is not built.\n",
      "WARNING:tensorflow:Skipping full serialization of Keras layer <keras.layers.regularization.dropout.Dropout object at 0x000001B87064B700>, because it is not built.\n",
      "WARNING:tensorflow:Skipping full serialization of Keras layer <keras.layers.regularization.dropout.Dropout object at 0x000001B871A92B60>, because it is not built.\n",
      "WARNING:tensorflow:Skipping full serialization of Keras layer <keras.layers.regularization.dropout.Dropout object at 0x000001B871B28940>, because it is not built.\n"
     ]
    },
    {
     "name": "stderr",
     "output_type": "stream",
     "text": [
      "WARNING:absl:Found untraced functions such as embeddings_layer_call_fn, embeddings_layer_call_and_return_conditional_losses, transformer_layer_call_fn, transformer_layer_call_and_return_conditional_losses, LayerNorm_layer_call_fn while saving (showing 5 of 164). These functions will not be directly callable after loading.\n"
     ]
    },
    {
     "name": "stdout",
     "output_type": "stream",
     "text": [
      "INFO:tensorflow:Assets written to: ../AnalisisSentimental\\assets\n"
     ]
    },
    {
     "name": "stderr",
     "output_type": "stream",
     "text": [
      "INFO:tensorflow:Assets written to: ../AnalisisSentimental\\assets\n"
     ]
    }
   ],
   "source": [
    "model.save(\"../AnalisisSentimental\", save_format='tf')"
   ]
  },
  {
   "cell_type": "code",
   "execution_count": 75,
   "metadata": {},
   "outputs": [
    {
     "name": "stdout",
     "output_type": "stream",
     "text": [
      "1/1 [==============================] - 0s 366ms/step\n"
     ]
    },
    {
     "data": {
      "text/html": [
       "<div>\n",
       "<style scoped>\n",
       "    .dataframe tbody tr th:only-of-type {\n",
       "        vertical-align: middle;\n",
       "    }\n",
       "\n",
       "    .dataframe tbody tr th {\n",
       "        vertical-align: top;\n",
       "    }\n",
       "\n",
       "    .dataframe thead th {\n",
       "        text-align: right;\n",
       "    }\n",
       "</style>\n",
       "<table border=\"1\" class=\"dataframe\">\n",
       "  <thead>\n",
       "    <tr style=\"text-align: right;\">\n",
       "      <th></th>\n",
       "      <th>sadness</th>\n",
       "      <th>joy</th>\n",
       "      <th>anger</th>\n",
       "      <th>fear</th>\n",
       "      <th>surprise</th>\n",
       "      <th>neutral</th>\n",
       "    </tr>\n",
       "  </thead>\n",
       "  <tbody>\n",
       "    <tr>\n",
       "      <th>0</th>\n",
       "      <td>0.004753</td>\n",
       "      <td>0.004911</td>\n",
       "      <td>0.003665</td>\n",
       "      <td>0.003814</td>\n",
       "      <td>0.918428</td>\n",
       "      <td>0.064429</td>\n",
       "    </tr>\n",
       "  </tbody>\n",
       "</table>\n",
       "</div>"
      ],
      "text/plain": [
       "    sadness       joy     anger      fear  surprise   neutral\n",
       "0  0.004753  0.004911  0.003665  0.003814  0.918428  0.064429"
      ]
     },
     "execution_count": 75,
     "metadata": {},
     "output_type": "execute_result"
    }
   ],
   "source": [
    "predice(\"I didnt expect you where here\",model)"
   ]
  },
  {
   "cell_type": "code",
   "execution_count": 76,
   "metadata": {},
   "outputs": [],
   "source": [
    "model.save('SentimentAnalysis.hdf5')"
   ]
  },
  {
   "cell_type": "code",
   "execution_count": 77,
   "metadata": {},
   "outputs": [],
   "source": [
    "new_model = tf.keras.models.load_model('SentimentAnalysis.hdf5', custom_objects={'TFDistilBertModel': TFDistilBertModel})"
   ]
  },
  {
   "cell_type": "code",
   "execution_count": 78,
   "metadata": {},
   "outputs": [
    {
     "name": "stdout",
     "output_type": "stream",
     "text": [
      "Collecting git+https://github.com/openai/whisper.git\n",
      "  Cloning https://github.com/openai/whisper.git to c:\\users\\mario\\appdata\\local\\temp\\pip-req-build-bhk5vwng\n",
      "  Resolved https://github.com/openai/whisper.git to commit b9265e5796f5d80c18d1f9231ab234225676780b\n",
      "  Preparing metadata (setup.py): started\n",
      "  Preparing metadata (setup.py): finished with status 'done'\n",
      "Requirement already satisfied: numpy in c:\\users\\mario\\anaconda3\\envs\\capstone_project\\lib\\site-packages (from whisper==1.0) (1.23.5)\n",
      "Requirement already satisfied: torch in c:\\users\\mario\\anaconda3\\envs\\capstone_project\\lib\\site-packages (from whisper==1.0) (1.12.1)\n",
      "Requirement already satisfied: tqdm in c:\\users\\mario\\anaconda3\\envs\\capstone_project\\lib\\site-packages (from whisper==1.0) (4.64.1)\n",
      "Collecting more-itertools\n",
      "  Using cached more_itertools-9.0.0-py3-none-any.whl (52 kB)\n",
      "Requirement already satisfied: transformers>=4.19.0 in c:\\users\\mario\\anaconda3\\envs\\capstone_project\\lib\\site-packages (from whisper==1.0) (4.24.0)\n",
      "Collecting ffmpeg-python==0.2.0\n",
      "  Using cached ffmpeg_python-0.2.0-py3-none-any.whl (25 kB)\n",
      "Requirement already satisfied: future in c:\\users\\mario\\anaconda3\\envs\\capstone_project\\lib\\site-packages (from ffmpeg-python==0.2.0->whisper==1.0) (0.18.2)\n",
      "Requirement already satisfied: regex!=2019.12.17 in c:\\users\\mario\\anaconda3\\envs\\capstone_project\\lib\\site-packages (from transformers>=4.19.0->whisper==1.0) (2022.7.9)\n",
      "Requirement already satisfied: huggingface-hub<1.0,>=0.10.0 in c:\\users\\mario\\anaconda3\\envs\\capstone_project\\lib\\site-packages (from transformers>=4.19.0->whisper==1.0) (0.10.1)\n",
      "Requirement already satisfied: filelock in c:\\users\\mario\\anaconda3\\envs\\capstone_project\\lib\\site-packages (from transformers>=4.19.0->whisper==1.0) (3.6.0)\n",
      "Requirement already satisfied: pyyaml>=5.1 in c:\\users\\mario\\anaconda3\\envs\\capstone_project\\lib\\site-packages (from transformers>=4.19.0->whisper==1.0) (6.0)\n",
      "Requirement already satisfied: packaging>=20.0 in c:\\users\\mario\\anaconda3\\envs\\capstone_project\\lib\\site-packages (from transformers>=4.19.0->whisper==1.0) (21.3)\n",
      "Requirement already satisfied: tokenizers!=0.11.3,<0.14,>=0.11.1 in c:\\users\\mario\\anaconda3\\envs\\capstone_project\\lib\\site-packages (from transformers>=4.19.0->whisper==1.0) (0.11.4)\n",
      "Requirement already satisfied: requests in c:\\users\\mario\\anaconda3\\envs\\capstone_project\\lib\\site-packages (from transformers>=4.19.0->whisper==1.0) (2.28.1)\n",
      "Requirement already satisfied: colorama in c:\\users\\mario\\anaconda3\\envs\\capstone_project\\lib\\site-packages (from tqdm->whisper==1.0) (0.4.5)\n",
      "Requirement already satisfied: typing_extensions in c:\\users\\mario\\anaconda3\\envs\\capstone_project\\lib\\site-packages (from torch->whisper==1.0) (4.4.0)\n",
      "Requirement already satisfied: pyparsing!=3.0.5,>=2.0.2 in c:\\users\\mario\\anaconda3\\envs\\capstone_project\\lib\\site-packages (from packaging>=20.0->transformers>=4.19.0->whisper==1.0) (3.0.9)\n",
      "Requirement already satisfied: charset-normalizer<3,>=2 in c:\\users\\mario\\anaconda3\\envs\\capstone_project\\lib\\site-packages (from requests->transformers>=4.19.0->whisper==1.0) (2.1.1)\n",
      "Requirement already satisfied: idna<4,>=2.5 in c:\\users\\mario\\anaconda3\\envs\\capstone_project\\lib\\site-packages (from requests->transformers>=4.19.0->whisper==1.0) (3.4)\n",
      "Requirement already satisfied: urllib3<1.27,>=1.21.1 in c:\\users\\mario\\anaconda3\\envs\\capstone_project\\lib\\site-packages (from requests->transformers>=4.19.0->whisper==1.0) (1.26.13)\n",
      "Requirement already satisfied: certifi>=2017.4.17 in c:\\users\\mario\\anaconda3\\envs\\capstone_project\\lib\\site-packages (from requests->transformers>=4.19.0->whisper==1.0) (2022.12.7)\n",
      "Building wheels for collected packages: whisper\n",
      "  Building wheel for whisper (setup.py): started\n",
      "  Building wheel for whisper (setup.py): finished with status 'done'\n",
      "  Created wheel for whisper: filename=whisper-1.0-py3-none-any.whl size=1187187 sha256=8ccb2caf13f867db4af426a96e204c26f455b186b7cbd85de8adb28b88bde76c\n",
      "  Stored in directory: C:\\Users\\mario\\AppData\\Local\\Temp\\pip-ephem-wheel-cache-cl746mhq\\wheels\\8b\\6c\\d0\\622666868c179f156cf595c8b6f06f88bc5d80c4b31dccaa03\n",
      "Successfully built whisper\n",
      "Installing collected packages: more-itertools, ffmpeg-python, whisper\n",
      "Successfully installed ffmpeg-python-0.2.0 more-itertools-9.0.0 whisper-1.0\n"
     ]
    },
    {
     "name": "stderr",
     "output_type": "stream",
     "text": [
      "  Running command git clone --filter=blob:none --quiet https://github.com/openai/whisper.git 'C:\\Users\\mario\\AppData\\Local\\Temp\\pip-req-build-bhk5vwng'\n"
     ]
    }
   ],
   "source": [
    "!pip install git+https://github.com/openai/whisper.git "
   ]
  },
  {
   "cell_type": "code",
   "execution_count": 82,
   "metadata": {},
   "outputs": [
    {
     "name": "stdout",
     "output_type": "stream",
     "text": [
      "[00:00.000 --> 00:07.000]  This is a test in a less fluid environment, to see how it works.\n",
      "[00:07.000 --> 00:34.000]  I understand that it does not work very well, but it is that it is wrong that it does not work as well in the other.\n"
     ]
    },
    {
     "name": "stderr",
     "output_type": "stream",
     "text": [
      "C:\\Users\\mario\\anaconda3\\envs\\CAPSTONE_PROJECT\\lib\\site-packages\\whisper\\transcribe.py:78: UserWarning: FP16 is not supported on CPU; using FP32 instead\n",
      "  warnings.warn(\"FP16 is not supported on CPU; using FP32 instead\")\n"
     ]
    }
   ],
   "source": []
  },
  {
   "cell_type": "code",
   "execution_count": null,
   "metadata": {},
   "outputs": [],
   "source": []
  }
 ],
 "metadata": {
  "kernelspec": {
   "display_name": "CAPSTONE_PROJECT",
   "language": "python",
   "name": "python3"
  },
  "language_info": {
   "codemirror_mode": {
    "name": "ipython",
    "version": 3
   },
   "file_extension": ".py",
   "mimetype": "text/x-python",
   "name": "python",
   "nbconvert_exporter": "python",
   "pygments_lexer": "ipython3",
   "version": "3.10.8"
  },
  "orig_nbformat": 4,
  "vscode": {
   "interpreter": {
    "hash": "528f1c4a8f5c6e5cd5d8d78b4daa41b3ade1cbafba6a160042eee37a16d4e513"
   }
  }
 },
 "nbformat": 4,
 "nbformat_minor": 2
}
