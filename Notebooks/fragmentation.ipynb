{
 "cells": [
  {
   "cell_type": "code",
   "execution_count": 5,
   "metadata": {},
   "outputs": [],
   "source": [
    "import numpy as np\n",
    "import wave\n",
    "from scipy.io import wavfile"
   ]
  },
  {
   "cell_type": "code",
   "execution_count": 7,
   "metadata": {},
   "outputs": [],
   "source": [
    "fs, signal = wavfile.read( \"cero_1_1.wav\" ) \n",
    "signal = signal / ( 2 ** 15 ) \n",
    "signal_len = len(signal) \n",
    "segment_size_t = 3 # segment size in seconds \n",
    "segment_size = segment_size_t * fs # segment size in samples # Break signal into list of segments in a single-line Python code \n",
    "segments = np.array([signal[x:x + segment_size] for x in np.arange( 0 , signal_len, segment_size)]) # Save each segment in a seperate filename \n",
    "for iS, s in enumerate(segments): wavfile.write( \"cero_{0:d}_{1:d}.wav\" .format(segment_size_t * iS, segment_size_t * (iS + 1 )), fs, (s))"
   ]
  },
  {
   "cell_type": "code",
   "execution_count": null,
   "metadata": {},
   "outputs": [],
   "source": []
  }
 ],
 "metadata": {
  "kernelspec": {
<<<<<<< Updated upstream
   "display_name": "Python 3.10.8 64-bit (microsoft store)",
=======
   "display_name": "Python 3.10.8 ('capstone')",
>>>>>>> Stashed changes
   "language": "python",
   "name": "python3"
  },
  "language_info": {
<<<<<<< Updated upstream
   "codemirror_mode": {
    "name": "ipython",
    "version": 3
   },
   "file_extension": ".py",
   "mimetype": "text/x-python",
   "name": "python",
   "nbconvert_exporter": "python",
   "pygments_lexer": "ipython3",
=======
   "name": "python",
>>>>>>> Stashed changes
   "version": "3.10.8"
  },
  "orig_nbformat": 4,
  "vscode": {
   "interpreter": {
<<<<<<< Updated upstream
    "hash": "3e1e0e9a3ddad5a08ac2f5a46b554786555d0b19967586a2dcb81f4f2504408c"
=======
    "hash": "057a599749e6261d8827d5f82f37c9e35cc336a28a6874cf82efdacf56183adc"
>>>>>>> Stashed changes
   }
  }
 },
 "nbformat": 4,
 "nbformat_minor": 2
}
