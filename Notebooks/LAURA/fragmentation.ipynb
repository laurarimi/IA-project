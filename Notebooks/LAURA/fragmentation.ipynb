{
 "cells": [
  {
   "cell_type": "code",
   "execution_count": 36,
   "metadata": {},
   "outputs": [],
   "source": [
    "import numpy as np\n",
    "import wave\n",
    "from scipy.io import wavfile"
   ]
  },
  {
   "cell_type": "code",
   "execution_count": 37,
   "metadata": {},
   "outputs": [
    {
     "name": "stderr",
     "output_type": "stream",
     "text": [
      "C:\\Users\\Laura\\AppData\\Local\\Temp\\ipykernel_23624\\3663446126.py:6: VisibleDeprecationWarning: Creating an ndarray from ragged nested sequences (which is a list-or-tuple of lists-or-tuples-or ndarrays with different lengths or shapes) is deprecated. If you meant to do this, you must specify 'dtype=object' when creating the ndarray.\n",
      "  segments = np.array([signal[x:x + segment_size] for x in np.arange( 0 , signal_len, segment_size)]) # Save each segment in a seperate filename\n"
     ]
    }
   ],
   "source": [
    "fs, signal = wavfile.read( \"carlos_1 (1).wav\" ) \n",
    "#signal = signal / ( 2 ** 15 ) \n",
    "signal_len = len(signal) \n",
    "segment_size_t = 3 # segment size in seconds \n",
    "segment_size = segment_size_t * fs # segment size in samples # Break signal into list of segments in a single-line Python code \n",
    "segments = np.array([signal[x:x + segment_size] for x in np.arange( 0 , signal_len, segment_size)]) # Save each segment in a seperate filename \n",
    "\n",
    "for iS, s in enumerate(segments): \n",
    "    audio_1 = wavfile.write( \"cero_{0:d}_{1:d}.wav\" .format(segment_size_t * iS, segment_size_t * (iS + 1 )),fs, (s))\n",
    "    "
   ]
  },
  {
   "cell_type": "code",
   "execution_count": null,
   "metadata": {},
   "outputs": [],
   "source": []
  }
 ],
 "metadata": {
  "kernelspec": {
   "display_name": "Python 3.10.8 ('PROYECTO')",
   "language": "python",
   "name": "python3"
  },
  "language_info": {
   "codemirror_mode": {
    "name": "ipython",
    "version": 3
   },
   "file_extension": ".py",
   "mimetype": "text/x-python",
   "name": "python",
   "nbconvert_exporter": "python",
   "pygments_lexer": "ipython3",
   "version": "3.10.8"
  },
  "orig_nbformat": 4,
  "vscode": {
   "interpreter": {
    "hash": "ceb99cfd8cc96d537b4c79851fa16c6a8fc59757c7cacb394289d93dbc14c0a6"
   }
  }
 },
 "nbformat": 4,
 "nbformat_minor": 2
}
