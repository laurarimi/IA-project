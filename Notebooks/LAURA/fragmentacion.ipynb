{
 "cells": [
  {
   "cell_type": "code",
   "execution_count": 1,
   "metadata": {},
   "outputs": [],
   "source": [
    "import numpy as np\n",
    "import wave\n",
    "from scipy.io import wavfile"
   ]
  },
  {
   "cell_type": "code",
   "execution_count": 2,
   "metadata": {},
   "outputs": [],
   "source": [
    "def fragmentacion(file):\n",
    "    fs, signal = wavfile.read(file) \n",
    "    signal = signal / ( 2 ** 15 ) \n",
    "    signal_len = len(signal) \n",
    "    segment_size_t = 3                 # segment size in seconds \n",
    "    segment_size = segment_size_t * fs # segment size in samples \n",
    "    # Break signal into list of segments in a single-line Python code \n",
    "    segments = np.array([signal[x:x + segment_size] for x in np.arange( 0 , signal_len, segment_size)]) # Save each segment in a seperate filename \n",
    "    for iS, s in enumerate(segments):\n",
    "        wavfile.write( \"cero_{0:d}_{1:d}.wav\" .format(segment_size_t * iS, segment_size_t * (iS + 1 )), fs, (s))\n",
    "\n",
    "fragmentacion(\"cero_1_1.wav\")"
   ]
  }
 ],
 "metadata": {
  "kernelspec": {
   "display_name": "Python 3.10.8 ('capstone')",
   "language": "python",
   "name": "python3"
  },
  "language_info": {
   "codemirror_mode": {
    "name": "ipython",
    "version": 3
   },
   "file_extension": ".py",
   "mimetype": "text/x-python",
   "name": "python",
   "nbconvert_exporter": "python",
   "pygments_lexer": "ipython3",
   "version": "3.10.8"
  },
  "orig_nbformat": 4,
  "vscode": {
   "interpreter": {
    "hash": "057a599749e6261d8827d5f82f37c9e35cc336a28a6874cf82efdacf56183adc"
   }
  }
 },
 "nbformat": 4,
 "nbformat_minor": 2
}
