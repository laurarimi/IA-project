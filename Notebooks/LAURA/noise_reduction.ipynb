{
 "cells": [
  {
   "cell_type": "code",
   "execution_count": 1,
   "metadata": {},
   "outputs": [
    {
     "name": "stdout",
     "output_type": "stream",
     "text": [
      "Requirement already satisfied: scipy in c:\\users\\mario\\anaconda3\\envs\\entornogpu\\lib\\site-packages (1.9.3)\n",
      "Requirement already satisfied: numpy<1.26.0,>=1.18.5 in c:\\users\\mario\\anaconda3\\envs\\entornogpu\\lib\\site-packages (from scipy) (1.21.5)\n",
      "Requirement already satisfied: noisereduce in c:\\users\\mario\\anaconda3\\envs\\entornogpu\\lib\\site-packages (2.0.1)\n",
      "Requirement already satisfied: tqdm in c:\\users\\mario\\anaconda3\\envs\\entornogpu\\lib\\site-packages (from noisereduce) (4.64.1)\n",
      "Requirement already satisfied: librosa in c:\\users\\mario\\anaconda3\\envs\\entornogpu\\lib\\site-packages (from noisereduce) (0.9.2)\n",
      "Requirement already satisfied: matplotlib in c:\\users\\mario\\anaconda3\\envs\\entornogpu\\lib\\site-packages (from noisereduce) (3.5.3)\n",
      "Requirement already satisfied: numpy in c:\\users\\mario\\anaconda3\\envs\\entornogpu\\lib\\site-packages (from noisereduce) (1.21.5)\n",
      "Requirement already satisfied: scipy in c:\\users\\mario\\anaconda3\\envs\\entornogpu\\lib\\site-packages (from noisereduce) (1.9.3)\n",
      "Requirement already satisfied: soundfile>=0.10.2 in c:\\users\\mario\\anaconda3\\envs\\entornogpu\\lib\\site-packages (from librosa->noisereduce) (0.11.0)\n",
      "Requirement already satisfied: joblib>=0.14 in c:\\users\\mario\\anaconda3\\envs\\entornogpu\\lib\\site-packages (from librosa->noisereduce) (1.1.1)\n",
      "Requirement already satisfied: packaging>=20.0 in c:\\users\\mario\\anaconda3\\envs\\entornogpu\\lib\\site-packages (from librosa->noisereduce) (21.3)\n",
      "Requirement already satisfied: pooch>=1.0 in c:\\users\\mario\\anaconda3\\envs\\entornogpu\\lib\\site-packages (from librosa->noisereduce) (1.6.0)\n",
      "Requirement already satisfied: numba>=0.45.1 in c:\\users\\mario\\anaconda3\\envs\\entornogpu\\lib\\site-packages (from librosa->noisereduce) (0.56.3)\n",
      "Requirement already satisfied: resampy>=0.2.2 in c:\\users\\mario\\anaconda3\\envs\\entornogpu\\lib\\site-packages (from librosa->noisereduce) (0.4.2)\n",
      "Requirement already satisfied: audioread>=2.1.9 in c:\\users\\mario\\anaconda3\\envs\\entornogpu\\lib\\site-packages (from librosa->noisereduce) (3.0.0)\n",
      "Requirement already satisfied: decorator>=4.0.10 in c:\\users\\mario\\anaconda3\\envs\\entornogpu\\lib\\site-packages (from librosa->noisereduce) (5.1.1)\n",
      "Requirement already satisfied: scikit-learn>=0.19.1 in c:\\users\\mario\\anaconda3\\envs\\entornogpu\\lib\\site-packages (from librosa->noisereduce) (1.1.3)\n",
      "Requirement already satisfied: kiwisolver>=1.0.1 in c:\\users\\mario\\anaconda3\\envs\\entornogpu\\lib\\site-packages (from matplotlib->noisereduce) (1.4.2)\n",
      "Requirement already satisfied: pillow>=6.2.0 in c:\\users\\mario\\anaconda3\\envs\\entornogpu\\lib\\site-packages (from matplotlib->noisereduce) (9.2.0)\n",
      "Requirement already satisfied: pyparsing>=2.2.1 in c:\\users\\mario\\anaconda3\\envs\\entornogpu\\lib\\site-packages (from matplotlib->noisereduce) (3.0.9)\n",
      "Requirement already satisfied: cycler>=0.10 in c:\\users\\mario\\anaconda3\\envs\\entornogpu\\lib\\site-packages (from matplotlib->noisereduce) (0.11.0)\n",
      "Requirement already satisfied: python-dateutil>=2.7 in c:\\users\\mario\\anaconda3\\envs\\entornogpu\\lib\\site-packages (from matplotlib->noisereduce) (2.8.2)\n",
      "Requirement already satisfied: fonttools>=4.22.0 in c:\\users\\mario\\anaconda3\\envs\\entornogpu\\lib\\site-packages (from matplotlib->noisereduce) (4.25.0)\n",
      "Requirement already satisfied: colorama in c:\\users\\mario\\anaconda3\\envs\\entornogpu\\lib\\site-packages (from tqdm->noisereduce) (0.4.5)\n",
      "Requirement already satisfied: setuptools in c:\\users\\mario\\anaconda3\\envs\\entornogpu\\lib\\site-packages (from numba>=0.45.1->librosa->noisereduce) (65.6.3)\n",
      "Requirement already satisfied: llvmlite<0.40,>=0.39.0dev0 in c:\\users\\mario\\anaconda3\\envs\\entornogpu\\lib\\site-packages (from numba>=0.45.1->librosa->noisereduce) (0.39.1)\n",
      "Requirement already satisfied: requests>=2.19.0 in c:\\users\\mario\\anaconda3\\envs\\entornogpu\\lib\\site-packages (from pooch>=1.0->librosa->noisereduce) (2.28.1)\n",
      "Requirement already satisfied: appdirs>=1.3.0 in c:\\users\\mario\\anaconda3\\envs\\entornogpu\\lib\\site-packages (from pooch>=1.0->librosa->noisereduce) (1.4.4)\n",
      "Requirement already satisfied: six>=1.5 in c:\\users\\mario\\anaconda3\\envs\\entornogpu\\lib\\site-packages (from python-dateutil>=2.7->matplotlib->noisereduce) (1.16.0)\n",
      "Requirement already satisfied: threadpoolctl>=2.0.0 in c:\\users\\mario\\anaconda3\\envs\\entornogpu\\lib\\site-packages (from scikit-learn>=0.19.1->librosa->noisereduce) (2.2.0)\n",
      "Requirement already satisfied: cffi>=1.0 in c:\\users\\mario\\anaconda3\\envs\\entornogpu\\lib\\site-packages (from soundfile>=0.10.2->librosa->noisereduce) (1.15.1)\n",
      "Requirement already satisfied: pycparser in c:\\users\\mario\\anaconda3\\envs\\entornogpu\\lib\\site-packages (from cffi>=1.0->soundfile>=0.10.2->librosa->noisereduce) (2.21)\n",
      "Requirement already satisfied: charset-normalizer<3,>=2 in c:\\users\\mario\\anaconda3\\envs\\entornogpu\\lib\\site-packages (from requests>=2.19.0->pooch>=1.0->librosa->noisereduce) (2.0.4)\n",
      "Requirement already satisfied: urllib3<1.27,>=1.21.1 in c:\\users\\mario\\anaconda3\\envs\\entornogpu\\lib\\site-packages (from requests>=2.19.0->pooch>=1.0->librosa->noisereduce) (1.26.12)\n",
      "Requirement already satisfied: idna<4,>=2.5 in c:\\users\\mario\\anaconda3\\envs\\entornogpu\\lib\\site-packages (from requests>=2.19.0->pooch>=1.0->librosa->noisereduce) (3.4)\n",
      "Requirement already satisfied: certifi>=2017.4.17 in c:\\users\\mario\\anaconda3\\envs\\entornogpu\\lib\\site-packages (from requests>=2.19.0->pooch>=1.0->librosa->noisereduce) (2022.9.24)\n"
     ]
    }
   ],
   "source": [
    "!pip install scipy\n",
    "!pip install noisereduce\n"
   ]
  },
  {
   "cell_type": "code",
   "execution_count": 5,
   "metadata": {},
   "outputs": [],
   "source": [
    "from scipy.io import wavfile\n",
    "import noisereduce as nr\n",
    "# load data\n",
    "rate, data = wavfile.read(\"cero_1_1.wav\")\n",
    "# perform noise reduction\n",
    "reduced_noise = nr.reduce_noise(y=data, sr=rate)\n",
    "wavfile.write(\"mywav_reduced_noise.wav\", rate, reduced_noise)"
   ]
  },
  {
   "cell_type": "code",
   "execution_count": null,
   "metadata": {},
   "outputs": [],
   "source": []
  }
 ],
 "metadata": {
  "kernelspec": {
   "display_name": "Python 3.9.13 ('entornoGPU')",
   "language": "python",
   "name": "python3"
  },
  "language_info": {
   "codemirror_mode": {
    "name": "ipython",
    "version": 3
   },
   "file_extension": ".py",
   "mimetype": "text/x-python",
   "name": "python",
   "nbconvert_exporter": "python",
   "pygments_lexer": "ipython3",
   "version": "3.9.13"
  },
  "orig_nbformat": 4,
  "vscode": {
   "interpreter": {
    "hash": "01b34738b84580687c62fc537ad80fea38859410cb32558d1c957df9f2f9e3fd"
   }
  }
 },
 "nbformat": 4,
 "nbformat_minor": 2
}
