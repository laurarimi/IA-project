{
 "cells": [
  {
   "cell_type": "code",
   "execution_count": 1,
   "metadata": {},
   "outputs": [
    {
     "name": "stdout",
     "output_type": "stream",
     "text": [
      "Requirement already satisfied: scipy in c:\\users\\mario\\anaconda3\\envs\\solving_problems\\lib\\site-packages (1.9.3)\n",
      "Requirement already satisfied: numpy<1.26.0,>=1.18.5 in c:\\users\\mario\\anaconda3\\envs\\solving_problems\\lib\\site-packages (from scipy) (1.23.4)\n",
      "Collecting noisereduce\n",
      "  Using cached noisereduce-2.0.1-py3-none-any.whl (15 kB)\n",
      "Requirement already satisfied: numpy in c:\\users\\mario\\anaconda3\\envs\\solving_problems\\lib\\site-packages (from noisereduce) (1.23.4)\n",
      "Collecting librosa\n",
      "  Using cached librosa-0.9.2-py3-none-any.whl (214 kB)\n",
      "Requirement already satisfied: scipy in c:\\users\\mario\\anaconda3\\envs\\solving_problems\\lib\\site-packages (from noisereduce) (1.9.3)\n",
      "Requirement already satisfied: matplotlib in c:\\users\\mario\\anaconda3\\envs\\solving_problems\\lib\\site-packages (from noisereduce) (3.6.2)\n",
      "Requirement already satisfied: tqdm in c:\\users\\mario\\anaconda3\\envs\\solving_problems\\lib\\site-packages (from noisereduce) (4.64.1)\n",
      "Collecting soundfile>=0.10.2\n",
      "  Using cached soundfile-0.11.0-py2.py3-none-win_amd64.whl (1.0 MB)\n",
      "Collecting audioread>=2.1.9\n",
      "  Using cached audioread-3.0.0.tar.gz (377 kB)\n",
      "  Preparing metadata (setup.py): started\n",
      "  Preparing metadata (setup.py): finished with status 'done'\n",
      "Requirement already satisfied: packaging>=20.0 in c:\\users\\mario\\anaconda3\\envs\\solving_problems\\lib\\site-packages (from librosa->noisereduce) (21.3)\n",
      "Requirement already satisfied: decorator>=4.0.10 in c:\\users\\mario\\anaconda3\\envs\\solving_problems\\lib\\site-packages (from librosa->noisereduce) (5.1.1)\n",
      "Collecting scikit-learn>=0.19.1\n",
      "  Downloading scikit_learn-1.1.3-cp310-cp310-win_amd64.whl (7.5 MB)\n",
      "     ---------------------------------------- 7.5/7.5 MB 12.7 MB/s eta 0:00:00\n",
      "Collecting resampy>=0.2.2\n",
      "  Using cached resampy-0.4.2-py3-none-any.whl (3.1 MB)\n",
      "Collecting pooch>=1.0\n",
      "  Using cached pooch-1.6.0-py3-none-any.whl (56 kB)\n",
      "Collecting numba>=0.45.1\n",
      "  Using cached numba-0.56.4-cp310-cp310-win_amd64.whl (2.5 MB)\n",
      "Collecting joblib>=0.14\n",
      "  Using cached joblib-1.2.0-py3-none-any.whl (297 kB)\n",
      "Requirement already satisfied: cycler>=0.10 in c:\\users\\mario\\anaconda3\\envs\\solving_problems\\lib\\site-packages (from matplotlib->noisereduce) (0.11.0)\n",
      "Requirement already satisfied: kiwisolver>=1.0.1 in c:\\users\\mario\\anaconda3\\envs\\solving_problems\\lib\\site-packages (from matplotlib->noisereduce) (1.4.4)\n",
      "Requirement already satisfied: pyparsing>=2.2.1 in c:\\users\\mario\\anaconda3\\envs\\solving_problems\\lib\\site-packages (from matplotlib->noisereduce) (3.0.9)\n",
      "Requirement already satisfied: contourpy>=1.0.1 in c:\\users\\mario\\anaconda3\\envs\\solving_problems\\lib\\site-packages (from matplotlib->noisereduce) (1.0.6)\n",
      "Requirement already satisfied: fonttools>=4.22.0 in c:\\users\\mario\\anaconda3\\envs\\solving_problems\\lib\\site-packages (from matplotlib->noisereduce) (4.38.0)\n",
      "Requirement already satisfied: python-dateutil>=2.7 in c:\\users\\mario\\anaconda3\\envs\\solving_problems\\lib\\site-packages (from matplotlib->noisereduce) (2.8.2)\n",
      "Requirement already satisfied: pillow>=6.2.0 in c:\\users\\mario\\anaconda3\\envs\\solving_problems\\lib\\site-packages (from matplotlib->noisereduce) (9.3.0)\n",
      "Requirement already satisfied: colorama in c:\\users\\mario\\anaconda3\\envs\\solving_problems\\lib\\site-packages (from tqdm->noisereduce) (0.4.5)\n",
      "Requirement already satisfied: setuptools in c:\\users\\mario\\anaconda3\\envs\\solving_problems\\lib\\site-packages (from numba>=0.45.1->librosa->noisereduce) (65.5.0)\n",
      "Collecting llvmlite<0.40,>=0.39.0dev0\n",
      "  Using cached llvmlite-0.39.1-cp310-cp310-win_amd64.whl (23.2 MB)\n",
      "Requirement already satisfied: requests>=2.19.0 in c:\\users\\mario\\anaconda3\\envs\\solving_problems\\lib\\site-packages (from pooch>=1.0->librosa->noisereduce) (2.28.1)\n",
      "Collecting appdirs>=1.3.0\n",
      "  Using cached appdirs-1.4.4-py2.py3-none-any.whl (9.6 kB)\n",
      "Requirement already satisfied: six>=1.5 in c:\\users\\mario\\anaconda3\\envs\\solving_problems\\lib\\site-packages (from python-dateutil>=2.7->matplotlib->noisereduce) (1.16.0)\n",
      "Collecting threadpoolctl>=2.0.0\n",
      "  Using cached threadpoolctl-3.1.0-py3-none-any.whl (14 kB)\n",
      "Collecting cffi>=1.0\n",
      "  Using cached cffi-1.15.1-cp310-cp310-win_amd64.whl (179 kB)\n",
      "Collecting pycparser\n",
      "  Using cached pycparser-2.21-py2.py3-none-any.whl (118 kB)\n",
      "Requirement already satisfied: urllib3<1.27,>=1.21.1 in c:\\users\\mario\\anaconda3\\envs\\solving_problems\\lib\\site-packages (from requests>=2.19.0->pooch>=1.0->librosa->noisereduce) (1.26.13)\n",
      "Requirement already satisfied: charset-normalizer<3,>=2 in c:\\users\\mario\\anaconda3\\envs\\solving_problems\\lib\\site-packages (from requests>=2.19.0->pooch>=1.0->librosa->noisereduce) (2.1.1)\n",
      "Requirement already satisfied: certifi>=2017.4.17 in c:\\users\\mario\\anaconda3\\envs\\solving_problems\\lib\\site-packages (from requests>=2.19.0->pooch>=1.0->librosa->noisereduce) (2022.9.24)\n",
      "Requirement already satisfied: idna<4,>=2.5 in c:\\users\\mario\\anaconda3\\envs\\solving_problems\\lib\\site-packages (from requests>=2.19.0->pooch>=1.0->librosa->noisereduce) (3.4)\n",
      "Building wheels for collected packages: audioread\n",
      "  Building wheel for audioread (setup.py): started\n",
      "  Building wheel for audioread (setup.py): finished with status 'done'\n",
      "  Created wheel for audioread: filename=audioread-3.0.0-py3-none-any.whl size=23703 sha256=d4f7b8eae3725177992e791dea30e108157fdf5afbd67cc7a63ff9dfd9c13d8c\n",
      "  Stored in directory: c:\\users\\mario\\appdata\\local\\pip\\cache\\wheels\\da\\4b\\39\\c5f6c4ee93b43281dda4dab5ac5f2bdf9d11074d427493cd55\n",
      "Successfully built audioread\n",
      "Installing collected packages: appdirs, threadpoolctl, pycparser, llvmlite, joblib, audioread, scikit-learn, pooch, numba, cffi, soundfile, resampy, librosa, noisereduce\n",
      "Successfully installed appdirs-1.4.4 audioread-3.0.0 cffi-1.15.1 joblib-1.2.0 librosa-0.9.2 llvmlite-0.39.1 noisereduce-2.0.1 numba-0.56.4 pooch-1.6.0 pycparser-2.21 resampy-0.4.2 scikit-learn-1.1.3 soundfile-0.11.0 threadpoolctl-3.1.0\n"
     ]
    }
   ],
   "source": [
    "!pip install scipy\n",
    "!pip install noisereduce\n"
   ]
  },
  {
   "cell_type": "code",
   "execution_count": 3,
   "metadata": {},
   "outputs": [],
   "source": [
    "from scipy.io import wavfile\n",
    "import noisereduce as nr\n",
    "# load data\n",
    "rate, data = wavfile.read(\"audio.wav\")\n",
    "# perform noise reduction\n",
    "reduced_noise = nr.reduce_noise(y=data, sr=rate)\n",
    "wavfile.write(\"mywav_reduced_noise.wav\", rate, reduced_noise)"
   ]
  },
  {
   "cell_type": "code",
   "execution_count": null,
   "metadata": {},
   "outputs": [],
   "source": []
  }
 ],
 "metadata": {
  "kernelspec": {
   "display_name": "Python 3.9.13",
   "language": "python",
   "name": "python3"
  },
  "language_info": {
   "codemirror_mode": {
    "name": "ipython",
    "version": 3
   },
   "file_extension": ".py",
   "mimetype": "text/x-python",
   "name": "python",
   "nbconvert_exporter": "python",
   "pygments_lexer": "ipython3",
   "version": "3.9.13"
  },
  "orig_nbformat": 4,
  "vscode": {
   "interpreter": {
    "hash": "f521394f08cd040eff41ddd4497650fb5906f8582f4afa2573e3a490f5a16027"
   }
  }
 },
 "nbformat": 4,
 "nbformat_minor": 2
}
