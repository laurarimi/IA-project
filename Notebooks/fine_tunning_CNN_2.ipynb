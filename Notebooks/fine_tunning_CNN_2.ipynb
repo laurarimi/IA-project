{
  "cells": [
    {
      "cell_type": "code",
      "execution_count": 1,
      "metadata": {
        "id": "ulHbyTkdrH-C"
      },
      "outputs": [],
      "source": [
        "import pandas as pd\n",
        "import zipfile \n",
        "from keras.utils import to_categorical\n",
        "import numpy as np\n",
        "import matplotlib.pyplot as plt\n",
        "import os\n",
        "import re\n",
        "from keras.utils import image_dataset_from_directory\n",
        "from keras import regularizers\n",
        "from keras.preprocessing.image import ImageDataGenerator\n",
        "from keras.layers import Dense, Conv2D, Flatten, MaxPool2D, Resizing, Rescaling, Input, Dropout, BatchNormalization\n",
        "from keras.models import Sequential, Model\n",
        "from keras.optimizers import Adam\n",
        "%matplotlib inline"
      ]
    },
    {
      "cell_type": "code",
      "source": [
        "file_name = \"data.zip\"\n",
        "zip_ref = zipfile.ZipFile(file_name, \"r\")\n",
        "zip_ref.extractall(\"datos\")\n",
        "zip_ref.close()"
      ],
      "metadata": {
        "id": "VZl0uZmptXuY"
      },
      "execution_count": 2,
      "outputs": []
    },
    {
      "cell_type": "code",
      "execution_count": 3,
      "metadata": {
        "colab": {
          "base_uri": "https://localhost:8080/"
        },
        "id": "8xdM6KRFrH-G",
        "outputId": "94fa89db-ed32-4060-cb12-e44f304d224d"
      },
      "outputs": [
        {
          "output_type": "stream",
          "name": "stdout",
          "text": [
            "Found 1440 files belonging to 5 classes.\n",
            "Using 1152 files for training.\n",
            "Found 1440 files belonging to 5 classes.\n",
            "Using 288 files for validation.\n"
          ]
        }
      ],
      "source": [
        "train_generator = image_dataset_from_directory(\"datos/data/\", color_mode=\"rgb\", label_mode=\"int\", batch_size=5,\n",
        "         image_size =(128,157),seed=123, shuffle=True, validation_split=0.2, subset=\"training\")\n",
        "validation_generator = image_dataset_from_directory(\"datos/data/\", color_mode=\"rgb\", label_mode=\"int\", batch_size=5,\n",
        "         image_size =(128,157),seed=123, shuffle=True, validation_split=0.2, subset=\"validation\")"
      ]
    },
    {
      "cell_type": "code",
      "execution_count": 4,
      "metadata": {
        "colab": {
          "base_uri": "https://localhost:8080/"
        },
        "id": "_bi43dSYrH-J",
        "outputId": "0b14cacb-dcb7-486f-8819-951d4d440d3c"
      },
      "outputs": [
        {
          "output_type": "stream",
          "name": "stdout",
          "text": [
            "Model: \"sequential\"\n",
            "_________________________________________________________________\n",
            " Layer (type)                Output Shape              Param #   \n",
            "=================================================================\n",
            " conv2d (Conv2D)             (None, 128, 157, 64)      4864      \n",
            "                                                                 \n",
            " max_pooling2d (MaxPooling2D  (None, 64, 78, 64)       0         \n",
            " )                                                               \n",
            "                                                                 \n",
            " conv2d_1 (Conv2D)           (None, 64, 78, 64)        36928     \n",
            "                                                                 \n",
            " max_pooling2d_1 (MaxPooling  (None, 32, 39, 64)       0         \n",
            " 2D)                                                             \n",
            "                                                                 \n",
            " conv2d_2 (Conv2D)           (None, 32, 39, 128)       73856     \n",
            "                                                                 \n",
            " max_pooling2d_2 (MaxPooling  (None, 16, 19, 128)      0         \n",
            " 2D)                                                             \n",
            "                                                                 \n",
            " conv2d_3 (Conv2D)           (None, 16, 19, 128)       147584    \n",
            "                                                                 \n",
            " max_pooling2d_3 (MaxPooling  (None, 4, 4, 128)        0         \n",
            " 2D)                                                             \n",
            "                                                                 \n",
            " flatten (Flatten)           (None, 2048)              0         \n",
            "                                                                 \n",
            " dense (Dense)               (None, 512)               1049088   \n",
            "                                                                 \n",
            " dropout (Dropout)           (None, 512)               0         \n",
            "                                                                 \n",
            " dense_1 (Dense)             (None, 256)               131328    \n",
            "                                                                 \n",
            " dropout_1 (Dropout)         (None, 256)               0         \n",
            "                                                                 \n",
            " dense_2 (Dense)             (None, 8)                 2056      \n",
            "                                                                 \n",
            "=================================================================\n",
            "Total params: 1,445,704\n",
            "Trainable params: 1,445,704\n",
            "Non-trainable params: 0\n",
            "_________________________________________________________________\n"
          ]
        }
      ],
      "source": [
        "model = Sequential()\n",
        "\n",
        "\n",
        "model.add(Conv2D(input_shape= (128,157,3),filters= 64, kernel_size= (5,5), activation=\"relu\", padding= \"same\",strides=(1,1) ,kernel_regularizer=regularizers.L2(0.01)))\n",
        "\n",
        "model.add( MaxPool2D(pool_size= (2,2),strides=(2,2)))\n",
        "model.add( Conv2D(64,(3,3), activation=\"relu\",padding= \"same\",strides=(1,1), kernel_regularizer=regularizers.L2(0.01)))\n",
        "\n",
        "\n",
        "model.add(MaxPool2D(pool_size= (2,2),strides=(2,2)))\n",
        "model.add( Conv2D(128,(3,3), activation=\"relu\",padding= \"same\",strides=(1,1), kernel_regularizer=regularizers.L2(0.01)))\n",
        "\n",
        "model.add( MaxPool2D(pool_size= (2,2),strides=(2,2)))\n",
        "model.add( Conv2D(128,(3,3), activation=\"relu\",padding= \"same\",strides=(1,1), kernel_regularizer=regularizers.L2(0.01)))\n",
        "\n",
        "model.add( MaxPool2D(pool_size= (4,4),strides=(4,4)))\n",
        "\n",
        "model.add( Flatten())\n",
        "model.add(Dense(512, activation=\"relu\"))\n",
        "model.add( Dropout(0.7))\n",
        "model.add( Dense(256, activation=\"relu\"))\n",
        "model.add( Dropout(0.7))\n",
        "\n",
        "model.add(Dense(8, activation=\"softmax\"))\n",
        "\n",
        "\n",
        "model.summary()\n",
        "\n"
      ]
    },
    {
      "cell_type": "code",
      "execution_count": 5,
      "metadata": {
        "id": "xjrlGDpurH-K"
      },
      "outputs": [],
      "source": [
        "model.compile(loss=\"sparse_categorical_crossentropy\", optimizer= Adam(learning_rate=0.001), metrics=[\"accuracy\"])"
      ]
    },
    {
      "cell_type": "code",
      "execution_count": 6,
      "metadata": {
        "colab": {
          "base_uri": "https://localhost:8080/"
        },
        "id": "-JkeOgn3rH-L",
        "outputId": "02e32b05-3d29-4b7e-8513-e82c6f330e29"
      },
      "outputs": [
        {
          "output_type": "stream",
          "name": "stdout",
          "text": [
            "Epoch 1/100\n",
            "231/231 [==============================] - 17s 32ms/step - loss: 6.2798 - accuracy: 0.2847 - val_loss: 3.8937 - val_accuracy: 0.3229\n",
            "Epoch 2/100\n",
            "231/231 [==============================] - 7s 30ms/step - loss: 3.6019 - accuracy: 0.3342 - val_loss: 3.3099 - val_accuracy: 0.4444\n",
            "Epoch 3/100\n",
            "231/231 [==============================] - 7s 30ms/step - loss: 3.2014 - accuracy: 0.3958 - val_loss: 3.0466 - val_accuracy: 0.3576\n",
            "Epoch 4/100\n",
            "231/231 [==============================] - 7s 31ms/step - loss: 2.8688 - accuracy: 0.4271 - val_loss: 2.7368 - val_accuracy: 0.3958\n",
            "Epoch 5/100\n",
            "231/231 [==============================] - 7s 30ms/step - loss: 2.6415 - accuracy: 0.4149 - val_loss: 2.5975 - val_accuracy: 0.3681\n",
            "Epoch 6/100\n",
            "231/231 [==============================] - 7s 30ms/step - loss: 2.4604 - accuracy: 0.4245 - val_loss: 2.3304 - val_accuracy: 0.4167\n",
            "Epoch 7/100\n",
            "231/231 [==============================] - 7s 31ms/step - loss: 2.2984 - accuracy: 0.4245 - val_loss: 2.1897 - val_accuracy: 0.4167\n",
            "Epoch 8/100\n",
            "231/231 [==============================] - 7s 31ms/step - loss: 2.1255 - accuracy: 0.4609 - val_loss: 2.1301 - val_accuracy: 0.3958\n",
            "Epoch 9/100\n",
            "231/231 [==============================] - 7s 31ms/step - loss: 2.0278 - accuracy: 0.4366 - val_loss: 2.0420 - val_accuracy: 0.3715\n",
            "Epoch 10/100\n",
            "231/231 [==============================] - 7s 31ms/step - loss: 1.9118 - accuracy: 0.4618 - val_loss: 1.9936 - val_accuracy: 0.3646\n",
            "Epoch 11/100\n",
            "231/231 [==============================] - 7s 29ms/step - loss: 1.8244 - accuracy: 0.4479 - val_loss: 1.7836 - val_accuracy: 0.4479\n",
            "Epoch 12/100\n",
            "231/231 [==============================] - 8s 34ms/step - loss: 1.7311 - accuracy: 0.4583 - val_loss: 1.8246 - val_accuracy: 0.3715\n",
            "Epoch 13/100\n",
            "231/231 [==============================] - 7s 30ms/step - loss: 1.6587 - accuracy: 0.4896 - val_loss: 1.6472 - val_accuracy: 0.4340\n",
            "Epoch 14/100\n",
            "231/231 [==============================] - 7s 30ms/step - loss: 1.5668 - accuracy: 0.4905 - val_loss: 1.6101 - val_accuracy: 0.4653\n",
            "Epoch 15/100\n",
            "231/231 [==============================] - 7s 30ms/step - loss: 1.5525 - accuracy: 0.4792 - val_loss: 1.6401 - val_accuracy: 0.4028\n",
            "Epoch 16/100\n",
            "231/231 [==============================] - 7s 30ms/step - loss: 1.5225 - accuracy: 0.4627 - val_loss: 1.6849 - val_accuracy: 0.4028\n",
            "Epoch 17/100\n",
            "231/231 [==============================] - 7s 30ms/step - loss: 1.4797 - accuracy: 0.4896 - val_loss: 1.5317 - val_accuracy: 0.4479\n",
            "Epoch 18/100\n",
            "231/231 [==============================] - 7s 30ms/step - loss: 1.4315 - accuracy: 0.4965 - val_loss: 1.5484 - val_accuracy: 0.4271\n",
            "Epoch 19/100\n",
            "231/231 [==============================] - 8s 35ms/step - loss: 1.3929 - accuracy: 0.4948 - val_loss: 1.5879 - val_accuracy: 0.4167\n",
            "Epoch 20/100\n",
            "231/231 [==============================] - 7s 30ms/step - loss: 1.3945 - accuracy: 0.4913 - val_loss: 1.5124 - val_accuracy: 0.4375\n",
            "Epoch 21/100\n",
            "231/231 [==============================] - 7s 30ms/step - loss: 1.3460 - accuracy: 0.5069 - val_loss: 1.5426 - val_accuracy: 0.4028\n",
            "Epoch 22/100\n",
            "231/231 [==============================] - 7s 30ms/step - loss: 1.3499 - accuracy: 0.5052 - val_loss: 1.4818 - val_accuracy: 0.4306\n",
            "Epoch 23/100\n",
            "231/231 [==============================] - 7s 30ms/step - loss: 1.3797 - accuracy: 0.4931 - val_loss: 1.5481 - val_accuracy: 0.4028\n",
            "Epoch 24/100\n",
            "231/231 [==============================] - 7s 30ms/step - loss: 1.3288 - accuracy: 0.5113 - val_loss: 1.5041 - val_accuracy: 0.4514\n",
            "Epoch 25/100\n",
            "231/231 [==============================] - 7s 30ms/step - loss: 1.3057 - accuracy: 0.5234 - val_loss: 1.4339 - val_accuracy: 0.4618\n",
            "Epoch 26/100\n",
            "231/231 [==============================] - 7s 30ms/step - loss: 1.2479 - accuracy: 0.5521 - val_loss: 1.5250 - val_accuracy: 0.4410\n",
            "Epoch 27/100\n",
            "231/231 [==============================] - 7s 30ms/step - loss: 1.2475 - accuracy: 0.5486 - val_loss: 1.4788 - val_accuracy: 0.4375\n",
            "Epoch 28/100\n",
            "231/231 [==============================] - 7s 30ms/step - loss: 1.2232 - accuracy: 0.5408 - val_loss: 1.4713 - val_accuracy: 0.4583\n",
            "Epoch 29/100\n",
            "231/231 [==============================] - 7s 30ms/step - loss: 1.2147 - accuracy: 0.5512 - val_loss: 1.4811 - val_accuracy: 0.4549\n",
            "Epoch 30/100\n",
            "231/231 [==============================] - 7s 30ms/step - loss: 1.1899 - accuracy: 0.5625 - val_loss: 1.4132 - val_accuracy: 0.4444\n",
            "Epoch 31/100\n",
            "231/231 [==============================] - 7s 31ms/step - loss: 1.1695 - accuracy: 0.5703 - val_loss: 1.5623 - val_accuracy: 0.4410\n",
            "Epoch 32/100\n",
            "231/231 [==============================] - 7s 30ms/step - loss: 1.1501 - accuracy: 0.5894 - val_loss: 1.4215 - val_accuracy: 0.4618\n",
            "Epoch 33/100\n",
            "231/231 [==============================] - 7s 30ms/step - loss: 1.1203 - accuracy: 0.5842 - val_loss: 1.5872 - val_accuracy: 0.4375\n",
            "Epoch 34/100\n",
            "231/231 [==============================] - 7s 30ms/step - loss: 1.1487 - accuracy: 0.5946 - val_loss: 1.5464 - val_accuracy: 0.4340\n",
            "Epoch 35/100\n",
            "231/231 [==============================] - 8s 35ms/step - loss: 1.1393 - accuracy: 0.5955 - val_loss: 1.5487 - val_accuracy: 0.4375\n",
            "Epoch 36/100\n",
            "231/231 [==============================] - 7s 30ms/step - loss: 1.1017 - accuracy: 0.6085 - val_loss: 1.5661 - val_accuracy: 0.4340\n",
            "Epoch 37/100\n",
            "231/231 [==============================] - 7s 30ms/step - loss: 1.0694 - accuracy: 0.6120 - val_loss: 1.6199 - val_accuracy: 0.4410\n",
            "Epoch 38/100\n",
            "231/231 [==============================] - 7s 30ms/step - loss: 1.1245 - accuracy: 0.6094 - val_loss: 1.4603 - val_accuracy: 0.4618\n",
            "Epoch 39/100\n",
            "231/231 [==============================] - 7s 30ms/step - loss: 1.0131 - accuracy: 0.6450 - val_loss: 1.5682 - val_accuracy: 0.4653\n",
            "Epoch 40/100\n",
            "231/231 [==============================] - 7s 30ms/step - loss: 1.0045 - accuracy: 0.6432 - val_loss: 1.7410 - val_accuracy: 0.4479\n",
            "Epoch 41/100\n",
            "231/231 [==============================] - 7s 30ms/step - loss: 0.9907 - accuracy: 0.6536 - val_loss: 1.6436 - val_accuracy: 0.4375\n",
            "Epoch 42/100\n",
            "231/231 [==============================] - 7s 30ms/step - loss: 0.9799 - accuracy: 0.6727 - val_loss: 1.5802 - val_accuracy: 0.4375\n",
            "Epoch 43/100\n",
            "231/231 [==============================] - 7s 30ms/step - loss: 0.9430 - accuracy: 0.6840 - val_loss: 1.7742 - val_accuracy: 0.4549\n",
            "Epoch 44/100\n",
            "231/231 [==============================] - 7s 30ms/step - loss: 0.9392 - accuracy: 0.6840 - val_loss: 1.6596 - val_accuracy: 0.4444\n",
            "Epoch 45/100\n",
            "231/231 [==============================] - 7s 31ms/step - loss: 0.9223 - accuracy: 0.6866 - val_loss: 1.7746 - val_accuracy: 0.4583\n",
            "Epoch 46/100\n",
            "231/231 [==============================] - 7s 31ms/step - loss: 0.9214 - accuracy: 0.6944 - val_loss: 1.8423 - val_accuracy: 0.4653\n",
            "Epoch 47/100\n",
            "231/231 [==============================] - 7s 31ms/step - loss: 0.9311 - accuracy: 0.6797 - val_loss: 1.7673 - val_accuracy: 0.4479\n",
            "Epoch 48/100\n",
            "231/231 [==============================] - 7s 30ms/step - loss: 0.9037 - accuracy: 0.7014 - val_loss: 1.8071 - val_accuracy: 0.4444\n",
            "Epoch 49/100\n",
            "231/231 [==============================] - 7s 31ms/step - loss: 0.8762 - accuracy: 0.7188 - val_loss: 1.8711 - val_accuracy: 0.4653\n",
            "Epoch 50/100\n",
            "231/231 [==============================] - 7s 30ms/step - loss: 0.8382 - accuracy: 0.7396 - val_loss: 1.8768 - val_accuracy: 0.4167\n",
            "Epoch 51/100\n",
            "231/231 [==============================] - 7s 30ms/step - loss: 0.8358 - accuracy: 0.7309 - val_loss: 2.0276 - val_accuracy: 0.4271\n",
            "Epoch 52/100\n",
            "231/231 [==============================] - 7s 30ms/step - loss: 0.8259 - accuracy: 0.7352 - val_loss: 2.3157 - val_accuracy: 0.4236\n",
            "Epoch 53/100\n",
            "231/231 [==============================] - 7s 30ms/step - loss: 0.9209 - accuracy: 0.7101 - val_loss: 1.9923 - val_accuracy: 0.4444\n",
            "Epoch 54/100\n",
            "231/231 [==============================] - 7s 30ms/step - loss: 0.7824 - accuracy: 0.7500 - val_loss: 2.1197 - val_accuracy: 0.4479\n",
            "Epoch 55/100\n",
            "231/231 [==============================] - 7s 30ms/step - loss: 0.7104 - accuracy: 0.7708 - val_loss: 2.1634 - val_accuracy: 0.4549\n",
            "Epoch 56/100\n",
            "231/231 [==============================] - 7s 30ms/step - loss: 0.8357 - accuracy: 0.7326 - val_loss: 2.2369 - val_accuracy: 0.4271\n",
            "Epoch 57/100\n",
            "231/231 [==============================] - 7s 30ms/step - loss: 0.8848 - accuracy: 0.7240 - val_loss: 2.0892 - val_accuracy: 0.4167\n",
            "Epoch 58/100\n",
            "231/231 [==============================] - 8s 35ms/step - loss: 0.8601 - accuracy: 0.7344 - val_loss: 1.9913 - val_accuracy: 0.4514\n",
            "Epoch 59/100\n",
            "231/231 [==============================] - 7s 30ms/step - loss: 0.7623 - accuracy: 0.7674 - val_loss: 2.3632 - val_accuracy: 0.4306\n",
            "Epoch 60/100\n",
            "231/231 [==============================] - 7s 30ms/step - loss: 0.7705 - accuracy: 0.7630 - val_loss: 2.2568 - val_accuracy: 0.4410\n",
            "Epoch 61/100\n",
            "231/231 [==============================] - 7s 30ms/step - loss: 0.6734 - accuracy: 0.8038 - val_loss: 2.3794 - val_accuracy: 0.4375\n",
            "Epoch 62/100\n",
            "231/231 [==============================] - 7s 30ms/step - loss: 0.7155 - accuracy: 0.7865 - val_loss: 2.2842 - val_accuracy: 0.4444\n",
            "Epoch 63/100\n",
            "231/231 [==============================] - 7s 30ms/step - loss: 0.7097 - accuracy: 0.7925 - val_loss: 2.2434 - val_accuracy: 0.4653\n",
            "Epoch 64/100\n",
            "231/231 [==============================] - 7s 30ms/step - loss: 1.0053 - accuracy: 0.7118 - val_loss: 2.0748 - val_accuracy: 0.4306\n",
            "Epoch 65/100\n",
            "231/231 [==============================] - 7s 30ms/step - loss: 0.7761 - accuracy: 0.7613 - val_loss: 2.0260 - val_accuracy: 0.4931\n",
            "Epoch 66/100\n",
            "231/231 [==============================] - 7s 30ms/step - loss: 0.7011 - accuracy: 0.7899 - val_loss: 2.3470 - val_accuracy: 0.4722\n",
            "Epoch 67/100\n",
            "231/231 [==============================] - 7s 31ms/step - loss: 0.6985 - accuracy: 0.7917 - val_loss: 2.4138 - val_accuracy: 0.4549\n",
            "Epoch 68/100\n",
            "231/231 [==============================] - 7s 30ms/step - loss: 0.6431 - accuracy: 0.8090 - val_loss: 2.4697 - val_accuracy: 0.4236\n",
            "Epoch 69/100\n",
            "231/231 [==============================] - 7s 30ms/step - loss: 0.6543 - accuracy: 0.8099 - val_loss: 2.4728 - val_accuracy: 0.4826\n",
            "Epoch 70/100\n",
            "231/231 [==============================] - 7s 30ms/step - loss: 0.6290 - accuracy: 0.8273 - val_loss: 3.0677 - val_accuracy: 0.4479\n",
            "Epoch 71/100\n",
            "231/231 [==============================] - 7s 30ms/step - loss: 0.6846 - accuracy: 0.8090 - val_loss: 2.5224 - val_accuracy: 0.4201\n",
            "Epoch 72/100\n",
            "231/231 [==============================] - 7s 30ms/step - loss: 0.6869 - accuracy: 0.8212 - val_loss: 2.3479 - val_accuracy: 0.4688\n",
            "Epoch 73/100\n",
            "231/231 [==============================] - 7s 30ms/step - loss: 0.7468 - accuracy: 0.7925 - val_loss: 2.5685 - val_accuracy: 0.4167\n",
            "Epoch 74/100\n",
            "231/231 [==============================] - 7s 30ms/step - loss: 0.7695 - accuracy: 0.7804 - val_loss: 2.2543 - val_accuracy: 0.4861\n",
            "Epoch 75/100\n",
            "231/231 [==============================] - 7s 30ms/step - loss: 0.6215 - accuracy: 0.8316 - val_loss: 2.7275 - val_accuracy: 0.4514\n",
            "Epoch 76/100\n",
            "231/231 [==============================] - 7s 30ms/step - loss: 0.5941 - accuracy: 0.8420 - val_loss: 2.8003 - val_accuracy: 0.4514\n",
            "Epoch 77/100\n",
            "231/231 [==============================] - 7s 30ms/step - loss: 0.6617 - accuracy: 0.8342 - val_loss: 2.8096 - val_accuracy: 0.4896\n",
            "Epoch 78/100\n",
            "231/231 [==============================] - 7s 30ms/step - loss: 0.6327 - accuracy: 0.8220 - val_loss: 2.7505 - val_accuracy: 0.4514\n",
            "Epoch 79/100\n",
            "231/231 [==============================] - 7s 30ms/step - loss: 0.6416 - accuracy: 0.8151 - val_loss: 2.5225 - val_accuracy: 0.4375\n",
            "Epoch 80/100\n",
            "231/231 [==============================] - 8s 35ms/step - loss: 0.6245 - accuracy: 0.8290 - val_loss: 2.9469 - val_accuracy: 0.4444\n",
            "Epoch 81/100\n",
            "231/231 [==============================] - 7s 30ms/step - loss: 0.6587 - accuracy: 0.8220 - val_loss: 2.7613 - val_accuracy: 0.4722\n",
            "Epoch 82/100\n",
            "231/231 [==============================] - 7s 30ms/step - loss: 0.6023 - accuracy: 0.8385 - val_loss: 2.7030 - val_accuracy: 0.4514\n",
            "Epoch 83/100\n",
            "231/231 [==============================] - 7s 30ms/step - loss: 0.5654 - accuracy: 0.8403 - val_loss: 3.0938 - val_accuracy: 0.4757\n",
            "Epoch 84/100\n",
            "231/231 [==============================] - 7s 31ms/step - loss: 0.5587 - accuracy: 0.8533 - val_loss: 3.8598 - val_accuracy: 0.4410\n",
            "Epoch 85/100\n",
            "231/231 [==============================] - 7s 30ms/step - loss: 0.6365 - accuracy: 0.8290 - val_loss: 2.9751 - val_accuracy: 0.4444\n",
            "Epoch 86/100\n",
            "231/231 [==============================] - 7s 30ms/step - loss: 0.5646 - accuracy: 0.8585 - val_loss: 2.9509 - val_accuracy: 0.4722\n",
            "Epoch 87/100\n",
            "231/231 [==============================] - 8s 35ms/step - loss: 0.6076 - accuracy: 0.8438 - val_loss: 2.8758 - val_accuracy: 0.4618\n",
            "Epoch 88/100\n",
            "231/231 [==============================] - 7s 30ms/step - loss: 0.5578 - accuracy: 0.8585 - val_loss: 2.8223 - val_accuracy: 0.4375\n",
            "Epoch 89/100\n",
            "231/231 [==============================] - 7s 30ms/step - loss: 0.6333 - accuracy: 0.8273 - val_loss: 3.0950 - val_accuracy: 0.4514\n",
            "Epoch 90/100\n",
            "231/231 [==============================] - 7s 30ms/step - loss: 0.6640 - accuracy: 0.8325 - val_loss: 3.1237 - val_accuracy: 0.4583\n",
            "Epoch 91/100\n",
            "231/231 [==============================] - 7s 31ms/step - loss: 0.5704 - accuracy: 0.8550 - val_loss: 3.7268 - val_accuracy: 0.4444\n",
            "Epoch 92/100\n",
            "231/231 [==============================] - 7s 31ms/step - loss: 0.6091 - accuracy: 0.8663 - val_loss: 3.1056 - val_accuracy: 0.4549\n",
            "Epoch 93/100\n",
            "231/231 [==============================] - 7s 31ms/step - loss: 0.5915 - accuracy: 0.8602 - val_loss: 3.0683 - val_accuracy: 0.4722\n",
            "Epoch 94/100\n",
            "231/231 [==============================] - 7s 31ms/step - loss: 0.6963 - accuracy: 0.8134 - val_loss: 2.9395 - val_accuracy: 0.4514\n",
            "Epoch 95/100\n",
            "231/231 [==============================] - 7s 31ms/step - loss: 0.5165 - accuracy: 0.8767 - val_loss: 3.2683 - val_accuracy: 0.4826\n",
            "Epoch 96/100\n",
            "231/231 [==============================] - 7s 31ms/step - loss: 0.5946 - accuracy: 0.8576 - val_loss: 3.4364 - val_accuracy: 0.4757\n",
            "Epoch 97/100\n",
            "231/231 [==============================] - 7s 31ms/step - loss: 0.6976 - accuracy: 0.8177 - val_loss: 3.0893 - val_accuracy: 0.4410\n",
            "Epoch 98/100\n",
            "231/231 [==============================] - 7s 31ms/step - loss: 0.6673 - accuracy: 0.8316 - val_loss: 2.8133 - val_accuracy: 0.4688\n",
            "Epoch 99/100\n",
            "231/231 [==============================] - 7s 30ms/step - loss: 0.5857 - accuracy: 0.8550 - val_loss: 3.5390 - val_accuracy: 0.4653\n",
            "Epoch 100/100\n",
            "231/231 [==============================] - 7s 31ms/step - loss: 0.5044 - accuracy: 0.8845 - val_loss: 3.6270 - val_accuracy: 0.4722\n"
          ]
        }
      ],
      "source": [
        "historico = model.fit (train_generator, epochs=100, validation_data= validation_generator)"
      ]
    },
    {
      "cell_type": "code",
      "execution_count": 7,
      "metadata": {
        "id": "7I-iFIkXrH-M",
        "colab": {
          "base_uri": "https://localhost:8080/"
        },
        "outputId": "5d97089f-d3f5-426e-ab16-f5f93511cf2a"
      },
      "outputs": [
        {
          "output_type": "stream",
          "name": "stderr",
          "text": [
            "WARNING:absl:Found untraced functions such as _jit_compiled_convolution_op, _jit_compiled_convolution_op, _jit_compiled_convolution_op, _jit_compiled_convolution_op while saving (showing 4 of 4). These functions will not be directly callable after loading.\n"
          ]
        }
      ],
      "source": [
        "model.save('model-laura-ad-hoc-2')"
      ]
    },
    {
      "cell_type": "code",
      "execution_count": null,
      "metadata": {
        "id": "fmz4zz3GrH-N"
      },
      "outputs": [],
      "source": []
    },
    {
      "cell_type": "code",
      "execution_count": null,
      "metadata": {
        "id": "J31lqVoLrH-N"
      },
      "outputs": [],
      "source": []
    }
  ],
  "metadata": {
    "kernelspec": {
      "display_name": "Python 3 (ipykernel)",
      "language": "python",
      "name": "python3"
    },
    "language_info": {
      "codemirror_mode": {
        "name": "ipython",
        "version": 3
      },
      "file_extension": ".py",
      "mimetype": "text/x-python",
      "name": "python",
      "nbconvert_exporter": "python",
      "pygments_lexer": "ipython3",
      "version": "3.9.13"
    },
    "vscode": {
      "interpreter": {
        "hash": "11be7db6fedfeee1b2da478998902baa875e856b3f6c75275692d0ed9ef7b16f"
      }
    },
    "colab": {
      "provenance": []
    },
    "accelerator": "GPU",
    "gpuClass": "standard"
  },
  "nbformat": 4,
  "nbformat_minor": 0
}