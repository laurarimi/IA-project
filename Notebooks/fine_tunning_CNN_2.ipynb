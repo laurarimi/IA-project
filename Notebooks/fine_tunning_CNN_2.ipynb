{
  "cells": [
    {
      "cell_type": "code",
      "execution_count": 2,
      "metadata": {
        "id": "ulHbyTkdrH-C"
      },
      "outputs": [],
      "source": [
        "import pandas as pd\n",
        "import zipfile \n",
        "from keras.utils import to_categorical\n",
        "import numpy as np\n",
        "import matplotlib.pyplot as plt\n",
        "import os\n",
        "import re\n",
        "from keras.utils import image_dataset_from_directory\n",
        "from keras import regularizers\n",
        "from keras.preprocessing.image import ImageDataGenerator\n",
        "from keras.layers import Dense, Conv2D, Flatten, MaxPool2D, Resizing, Rescaling, Input, Dropout, BatchNormalization\n",
        "from keras.models import Sequential, Model\n",
        "from keras.optimizers import Adam\n",
        "%matplotlib inline"
      ]
    },
    {
      "cell_type": "code",
      "execution_count": 3,
      "metadata": {
        "id": "VZl0uZmptXuY"
      },
      "outputs": [
        {
          "ename": "FileNotFoundError",
          "evalue": "[Errno 2] No such file or directory: 'data.zip'",
          "output_type": "error",
          "traceback": [
            "\u001b[1;31m---------------------------------------------------------------------------\u001b[0m",
            "\u001b[1;31mFileNotFoundError\u001b[0m                         Traceback (most recent call last)",
            "Cell \u001b[1;32mIn [3], line 2\u001b[0m\n\u001b[0;32m      1\u001b[0m file_name \u001b[39m=\u001b[39m \u001b[39m\"\u001b[39m\u001b[39mdata.zip\u001b[39m\u001b[39m\"\u001b[39m\n\u001b[1;32m----> 2\u001b[0m zip_ref \u001b[39m=\u001b[39m zipfile\u001b[39m.\u001b[39;49mZipFile(file_name, \u001b[39m\"\u001b[39;49m\u001b[39mr\u001b[39;49m\u001b[39m\"\u001b[39;49m)\n\u001b[0;32m      3\u001b[0m zip_ref\u001b[39m.\u001b[39mextractall(\u001b[39m\"\u001b[39m\u001b[39mdatos\u001b[39m\u001b[39m\"\u001b[39m)\n\u001b[0;32m      4\u001b[0m zip_ref\u001b[39m.\u001b[39mclose()\n",
            "File \u001b[1;32mc:\\Users\\lumin\\anaconda3\\envs\\capstone\\lib\\zipfile.py:1249\u001b[0m, in \u001b[0;36mZipFile.__init__\u001b[1;34m(self, file, mode, compression, allowZip64, compresslevel, strict_timestamps)\u001b[0m\n\u001b[0;32m   1247\u001b[0m \u001b[39mwhile\u001b[39;00m \u001b[39mTrue\u001b[39;00m:\n\u001b[0;32m   1248\u001b[0m     \u001b[39mtry\u001b[39;00m:\n\u001b[1;32m-> 1249\u001b[0m         \u001b[39mself\u001b[39m\u001b[39m.\u001b[39mfp \u001b[39m=\u001b[39m io\u001b[39m.\u001b[39;49mopen(file, filemode)\n\u001b[0;32m   1250\u001b[0m     \u001b[39mexcept\u001b[39;00m \u001b[39mOSError\u001b[39;00m:\n\u001b[0;32m   1251\u001b[0m         \u001b[39mif\u001b[39;00m filemode \u001b[39min\u001b[39;00m modeDict:\n",
            "\u001b[1;31mFileNotFoundError\u001b[0m: [Errno 2] No such file or directory: 'data.zip'"
          ]
        }
      ],
      "source": [
        "file_name = \"data.zip\"\n",
        "zip_ref = zipfile.ZipFile(file_name, \"r\")\n",
        "zip_ref.extractall(\"datos\")\n",
        "zip_ref.close()"
      ]
    },
    {
      "cell_type": "code",
      "execution_count": 4,
      "metadata": {
        "colab": {
          "base_uri": "https://localhost:8080/"
        },
        "id": "8xdM6KRFrH-G",
        "outputId": "70400d97-04ed-491d-bfc0-424e868808fa"
      },
      "outputs": [
        {
          "name": "stdout",
          "output_type": "stream",
          "text": [
            "Found 1440 files belonging to 8 classes.\n",
            "Using 1152 files for training.\n",
            "Found 1440 files belonging to 8 classes.\n",
            "Using 288 files for validation.\n"
          ]
        }
      ],
      "source": [
        "train_generator = image_dataset_from_directory(\"Datasets/audio/data/\", color_mode=\"rgb\", label_mode=\"int\", batch_size=5,\n",
        "         image_size =(128,157),seed=123, shuffle=True, validation_split=0.2, subset=\"training\")\n",
        "validation_generator = image_dataset_from_directory(\"Datasets/audio/data/\", color_mode=\"rgb\", label_mode=\"int\", batch_size=5,\n",
        "         image_size =(128,157),seed=123, shuffle=True, validation_split=0.2, subset=\"validation\")"
      ]
    },
    {
      "cell_type": "code",
      "execution_count": 5,
      "metadata": {},
      "outputs": [],
      "source": [
        "batch = next(iter(train_generator))"
      ]
    },
    {
      "cell_type": "code",
      "execution_count": 6,
      "metadata": {},
      "outputs": [
        {
          "data": {
            "text/plain": [
              "tuple"
            ]
          },
          "execution_count": 6,
          "metadata": {},
          "output_type": "execute_result"
        }
      ],
      "source": [
        "type(batch)"
      ]
    },
    {
      "cell_type": "code",
      "execution_count": 92,
      "metadata": {
        "colab": {
          "base_uri": "https://localhost:8080/"
        },
        "id": "_bi43dSYrH-J",
        "outputId": "b60b59ea-4d91-4ec5-bfab-0acdef82d3f6"
      },
      "outputs": [
        {
          "name": "stdout",
          "output_type": "stream",
          "text": [
            "Model: \"sequential_21\"\n",
            "_________________________________________________________________\n",
            " Layer (type)                Output Shape              Param #   \n",
            "=================================================================\n",
            " conv2d_80 (Conv2D)          (None, 128, 157, 64)      4864      \n",
            "                                                                 \n",
            " max_pooling2d_81 (MaxPoolin  (None, 64, 78, 64)       0         \n",
            " g2D)                                                            \n",
            "                                                                 \n",
            " conv2d_81 (Conv2D)          (None, 64, 78, 64)        36928     \n",
            "                                                                 \n",
            " max_pooling2d_82 (MaxPoolin  (None, 32, 39, 64)       0         \n",
            " g2D)                                                            \n",
            "                                                                 \n",
            " conv2d_82 (Conv2D)          (None, 32, 39, 128)       73856     \n",
            "                                                                 \n",
            " max_pooling2d_83 (MaxPoolin  (None, 16, 19, 128)      0         \n",
            " g2D)                                                            \n",
            "                                                                 \n",
            " conv2d_83 (Conv2D)          (None, 16, 19, 128)       147584    \n",
            "                                                                 \n",
            " max_pooling2d_84 (MaxPoolin  (None, 4, 4, 128)        0         \n",
            " g2D)                                                            \n",
            "                                                                 \n",
            " flatten_20 (Flatten)        (None, 2048)              0         \n",
            "                                                                 \n",
            " dense_58 (Dense)            (None, 512)               1049088   \n",
            "                                                                 \n",
            " dropout_38 (Dropout)        (None, 512)               0         \n",
            "                                                                 \n",
            " dense_59 (Dense)            (None, 256)               131328    \n",
            "                                                                 \n",
            " dropout_39 (Dropout)        (None, 256)               0         \n",
            "                                                                 \n",
            " dense_60 (Dense)            (None, 8)                 2056      \n",
            "                                                                 \n",
            "=================================================================\n",
            "Total params: 1,445,704\n",
            "Trainable params: 1,445,704\n",
            "Non-trainable params: 0\n",
            "_________________________________________________________________\n"
          ]
        }
      ],
      "source": [
        "model = Sequential()\n",
        "\n",
        "\n",
        "model.add(Conv2D(input_shape= (128,157,3),filters= 64, kernel_size= (5,5), activation=\"relu\", padding= \"same\",strides=(1,1) ,kernel_regularizer=regularizers.L2(0.01)))\n",
        "\n",
        "model.add( MaxPool2D(pool_size= (2,2),strides=(2,2)))\n",
        "model.add( Conv2D(64,(3,3), activation=\"relu\",padding= \"same\",strides=(1,1), kernel_regularizer=regularizers.L2(0.01)))\n",
        "\n",
        "\n",
        "model.add(MaxPool2D(pool_size= (2,2),strides=(2,2)))\n",
        "model.add( Conv2D(128,(3,3), activation=\"relu\",padding= \"same\",strides=(1,1), kernel_regularizer=regularizers.L2(0.01)))\n",
        "\n",
        "model.add( MaxPool2D(pool_size= (2,2),strides=(2,2)))\n",
        "model.add( Conv2D(128,(3,3), activation=\"relu\",padding= \"same\",strides=(1,1), kernel_regularizer=regularizers.L2(0.01)))\n",
        "\n",
        "model.add( MaxPool2D(pool_size= (4,4),strides=(4,4)))\n",
        "\n",
        "model.add( Flatten())\n",
        "model.add(Dense(512, activation=\"relu\"))\n",
        "model.add( Dropout(0.7))\n",
        "model.add( Dense(256, activation=\"relu\"))\n",
        "model.add( Dropout(0.7))\n",
        "\n",
        "model.add(Dense(8, activation=\"softmax\"))\n",
        "\n",
        "\n",
        "model.summary()\n",
        "\n"
      ]
    },
    {
      "cell_type": "code",
      "execution_count": 93,
      "metadata": {
        "id": "xjrlGDpurH-K"
      },
      "outputs": [],
      "source": [
        "model.compile(loss=\"sparse_categorical_crossentropy\", optimizer= Adam(learning_rate=0.001), metrics=[\"accuracy\"])"
      ]
    },
    {
      "cell_type": "code",
      "execution_count": 94,
      "metadata": {
        "colab": {
          "base_uri": "https://localhost:8080/"
        },
        "id": "-JkeOgn3rH-L",
        "outputId": "b3e2575f-c524-4ad7-e826-4f934b0eda54"
      },
      "outputs": [
        {
          "name": "stdout",
          "output_type": "stream",
          "text": [
            "Epoch 1/100\n",
            "231/231 [==============================] - 8s 32ms/step - loss: 6.2097 - accuracy: 0.1319 - val_loss: 4.2887 - val_accuracy: 0.1354\n",
            "Epoch 2/100\n",
            "231/231 [==============================] - 7s 32ms/step - loss: 4.0424 - accuracy: 0.1771 - val_loss: 3.7951 - val_accuracy: 0.2396\n",
            "Epoch 3/100\n",
            "231/231 [==============================] - 7s 32ms/step - loss: 3.6248 - accuracy: 0.2144 - val_loss: 3.4151 - val_accuracy: 0.2222\n",
            "Epoch 4/100\n",
            "231/231 [==============================] - 7s 31ms/step - loss: 3.3088 - accuracy: 0.2300 - val_loss: 3.1057 - val_accuracy: 0.2604\n",
            "Epoch 5/100\n",
            "231/231 [==============================] - 7s 31ms/step - loss: 3.0495 - accuracy: 0.2361 - val_loss: 2.9061 - val_accuracy: 0.3021\n",
            "Epoch 6/100\n",
            "231/231 [==============================] - 7s 31ms/step - loss: 2.8379 - accuracy: 0.2665 - val_loss: 2.7403 - val_accuracy: 0.3090\n",
            "Epoch 7/100\n",
            "231/231 [==============================] - 8s 32ms/step - loss: 2.6824 - accuracy: 0.2535 - val_loss: 2.5438 - val_accuracy: 0.3264\n",
            "Epoch 8/100\n",
            "231/231 [==============================] - 7s 31ms/step - loss: 2.5278 - accuracy: 0.2847 - val_loss: 2.4848 - val_accuracy: 0.3333\n",
            "Epoch 9/100\n",
            "231/231 [==============================] - 7s 31ms/step - loss: 2.4540 - accuracy: 0.2656 - val_loss: 2.3049 - val_accuracy: 0.3160\n",
            "Epoch 10/100\n",
            "231/231 [==============================] - 7s 31ms/step - loss: 2.3273 - accuracy: 0.2786 - val_loss: 2.2470 - val_accuracy: 0.3125\n",
            "Epoch 11/100\n",
            "231/231 [==============================] - 7s 31ms/step - loss: 2.2377 - accuracy: 0.2821 - val_loss: 2.1305 - val_accuracy: 0.3194\n",
            "Epoch 12/100\n",
            "231/231 [==============================] - 7s 31ms/step - loss: 2.1244 - accuracy: 0.3064 - val_loss: 2.0174 - val_accuracy: 0.3750\n",
            "Epoch 13/100\n",
            "231/231 [==============================] - 7s 31ms/step - loss: 2.0599 - accuracy: 0.3316 - val_loss: 2.0283 - val_accuracy: 0.3368\n",
            "Epoch 14/100\n",
            "231/231 [==============================] - 7s 31ms/step - loss: 1.9990 - accuracy: 0.3377 - val_loss: 2.0932 - val_accuracy: 0.2986\n",
            "Epoch 15/100\n",
            "231/231 [==============================] - 7s 31ms/step - loss: 1.9477 - accuracy: 0.3602 - val_loss: 1.9238 - val_accuracy: 0.3333\n",
            "Epoch 16/100\n",
            "231/231 [==============================] - 7s 31ms/step - loss: 1.8769 - accuracy: 0.3707 - val_loss: 1.9116 - val_accuracy: 0.3333\n",
            "Epoch 17/100\n",
            "231/231 [==============================] - 7s 31ms/step - loss: 1.8733 - accuracy: 0.3655 - val_loss: 1.9163 - val_accuracy: 0.3611\n",
            "Epoch 18/100\n",
            "231/231 [==============================] - 7s 31ms/step - loss: 1.8153 - accuracy: 0.3845 - val_loss: 1.7540 - val_accuracy: 0.3889\n",
            "Epoch 19/100\n",
            "231/231 [==============================] - 7s 31ms/step - loss: 1.7580 - accuracy: 0.4019 - val_loss: 1.8006 - val_accuracy: 0.3681\n",
            "Epoch 20/100\n",
            "231/231 [==============================] - 7s 32ms/step - loss: 1.7595 - accuracy: 0.3854 - val_loss: 1.7952 - val_accuracy: 0.3507\n",
            "Epoch 21/100\n",
            "231/231 [==============================] - 7s 31ms/step - loss: 1.6814 - accuracy: 0.4123 - val_loss: 1.8009 - val_accuracy: 0.3889\n",
            "Epoch 22/100\n",
            "231/231 [==============================] - 7s 31ms/step - loss: 1.6584 - accuracy: 0.4366 - val_loss: 1.7260 - val_accuracy: 0.3924\n",
            "Epoch 23/100\n",
            "231/231 [==============================] - 7s 32ms/step - loss: 1.6336 - accuracy: 0.4601 - val_loss: 1.7487 - val_accuracy: 0.3819\n",
            "Epoch 24/100\n",
            "231/231 [==============================] - 7s 31ms/step - loss: 1.5857 - accuracy: 0.4470 - val_loss: 1.7212 - val_accuracy: 0.4167\n",
            "Epoch 25/100\n",
            "231/231 [==============================] - 7s 31ms/step - loss: 1.5748 - accuracy: 0.4601 - val_loss: 1.7761 - val_accuracy: 0.3681\n",
            "Epoch 26/100\n",
            "231/231 [==============================] - 7s 32ms/step - loss: 1.5380 - accuracy: 0.4705 - val_loss: 1.6747 - val_accuracy: 0.4167\n",
            "Epoch 27/100\n",
            "231/231 [==============================] - 7s 31ms/step - loss: 1.5171 - accuracy: 0.4644 - val_loss: 1.6357 - val_accuracy: 0.3958\n",
            "Epoch 28/100\n",
            "231/231 [==============================] - 7s 31ms/step - loss: 1.4540 - accuracy: 0.5043 - val_loss: 1.5978 - val_accuracy: 0.4444\n",
            "Epoch 29/100\n",
            "231/231 [==============================] - 7s 32ms/step - loss: 1.4161 - accuracy: 0.5356 - val_loss: 1.6352 - val_accuracy: 0.4340\n",
            "Epoch 30/100\n",
            "231/231 [==============================] - 7s 31ms/step - loss: 1.4256 - accuracy: 0.5200 - val_loss: 1.6843 - val_accuracy: 0.4062\n",
            "Epoch 31/100\n",
            "231/231 [==============================] - 7s 31ms/step - loss: 1.4521 - accuracy: 0.5069 - val_loss: 1.6464 - val_accuracy: 0.4340\n",
            "Epoch 32/100\n",
            "231/231 [==============================] - 7s 31ms/step - loss: 1.4232 - accuracy: 0.5373 - val_loss: 1.6634 - val_accuracy: 0.4028\n",
            "Epoch 33/100\n",
            "231/231 [==============================] - 8s 32ms/step - loss: 1.3546 - accuracy: 0.5668 - val_loss: 1.7716 - val_accuracy: 0.3889\n",
            "Epoch 34/100\n",
            "231/231 [==============================] - 7s 31ms/step - loss: 1.3561 - accuracy: 0.5573 - val_loss: 1.6383 - val_accuracy: 0.4236\n",
            "Epoch 35/100\n",
            "231/231 [==============================] - 7s 32ms/step - loss: 1.2905 - accuracy: 0.5747 - val_loss: 1.6528 - val_accuracy: 0.4306\n",
            "Epoch 36/100\n",
            "231/231 [==============================] - 7s 31ms/step - loss: 1.2505 - accuracy: 0.6068 - val_loss: 1.7508 - val_accuracy: 0.4375\n",
            "Epoch 37/100\n",
            "231/231 [==============================] - 7s 31ms/step - loss: 1.2200 - accuracy: 0.6085 - val_loss: 1.7158 - val_accuracy: 0.4514\n",
            "Epoch 38/100\n",
            "231/231 [==============================] - 7s 31ms/step - loss: 1.1794 - accuracy: 0.6233 - val_loss: 1.8351 - val_accuracy: 0.4306\n",
            "Epoch 39/100\n",
            "231/231 [==============================] - 7s 31ms/step - loss: 1.1809 - accuracy: 0.6259 - val_loss: 1.7211 - val_accuracy: 0.4722\n",
            "Epoch 40/100\n",
            "231/231 [==============================] - 7s 32ms/step - loss: 1.1243 - accuracy: 0.6536 - val_loss: 1.8162 - val_accuracy: 0.4306\n",
            "Epoch 41/100\n",
            "231/231 [==============================] - 8s 36ms/step - loss: 1.1731 - accuracy: 0.6241 - val_loss: 1.7920 - val_accuracy: 0.4375\n",
            "Epoch 42/100\n",
            "231/231 [==============================] - 7s 31ms/step - loss: 1.1328 - accuracy: 0.6493 - val_loss: 1.7581 - val_accuracy: 0.4688\n",
            "Epoch 43/100\n",
            "231/231 [==============================] - 7s 31ms/step - loss: 1.1271 - accuracy: 0.6528 - val_loss: 1.7068 - val_accuracy: 0.4653\n",
            "Epoch 44/100\n",
            "231/231 [==============================] - 7s 31ms/step - loss: 1.0569 - accuracy: 0.6806 - val_loss: 1.8080 - val_accuracy: 0.4618\n",
            "Epoch 45/100\n",
            "231/231 [==============================] - 7s 31ms/step - loss: 1.1384 - accuracy: 0.6701 - val_loss: 1.7712 - val_accuracy: 0.4340\n",
            "Epoch 46/100\n",
            "231/231 [==============================] - 7s 31ms/step - loss: 1.1448 - accuracy: 0.6562 - val_loss: 1.8136 - val_accuracy: 0.5139\n",
            "Epoch 47/100\n",
            "231/231 [==============================] - 7s 31ms/step - loss: 1.1258 - accuracy: 0.6641 - val_loss: 1.7619 - val_accuracy: 0.4514\n",
            "Epoch 48/100\n",
            "231/231 [==============================] - 7s 31ms/step - loss: 0.9997 - accuracy: 0.7083 - val_loss: 1.9494 - val_accuracy: 0.4653\n",
            "Epoch 49/100\n",
            "231/231 [==============================] - 7s 31ms/step - loss: 0.9952 - accuracy: 0.7101 - val_loss: 1.9316 - val_accuracy: 0.4444\n",
            "Epoch 50/100\n",
            "231/231 [==============================] - 7s 31ms/step - loss: 1.0306 - accuracy: 0.6970 - val_loss: 1.9699 - val_accuracy: 0.4618\n",
            "Epoch 51/100\n",
            "231/231 [==============================] - 7s 31ms/step - loss: 1.0347 - accuracy: 0.7040 - val_loss: 2.0820 - val_accuracy: 0.4340\n",
            "Epoch 52/100\n",
            "231/231 [==============================] - 7s 31ms/step - loss: 0.9629 - accuracy: 0.7101 - val_loss: 2.1470 - val_accuracy: 0.4201\n",
            "Epoch 53/100\n",
            "231/231 [==============================] - 7s 31ms/step - loss: 0.9184 - accuracy: 0.7292 - val_loss: 2.0477 - val_accuracy: 0.4479\n",
            "Epoch 54/100\n",
            "231/231 [==============================] - 7s 31ms/step - loss: 0.9731 - accuracy: 0.7214 - val_loss: 1.9207 - val_accuracy: 0.4340\n",
            "Epoch 55/100\n",
            "231/231 [==============================] - 7s 31ms/step - loss: 1.0617 - accuracy: 0.6858 - val_loss: 1.9245 - val_accuracy: 0.4757\n",
            "Epoch 56/100\n",
            "231/231 [==============================] - 7s 31ms/step - loss: 0.8337 - accuracy: 0.7535 - val_loss: 2.2237 - val_accuracy: 0.4826\n",
            "Epoch 57/100\n",
            "231/231 [==============================] - 8s 36ms/step - loss: 0.9391 - accuracy: 0.7378 - val_loss: 2.0989 - val_accuracy: 0.4861\n",
            "Epoch 58/100\n",
            "231/231 [==============================] - 7s 31ms/step - loss: 0.9682 - accuracy: 0.7283 - val_loss: 1.9572 - val_accuracy: 0.4757\n",
            "Epoch 59/100\n",
            "231/231 [==============================] - 7s 31ms/step - loss: 0.8583 - accuracy: 0.7760 - val_loss: 2.3186 - val_accuracy: 0.4306\n",
            "Epoch 60/100\n",
            "231/231 [==============================] - 7s 31ms/step - loss: 0.8797 - accuracy: 0.7509 - val_loss: 2.1426 - val_accuracy: 0.4931\n",
            "Epoch 61/100\n",
            "231/231 [==============================] - 7s 31ms/step - loss: 0.9857 - accuracy: 0.7431 - val_loss: 2.2966 - val_accuracy: 0.4549\n",
            "Epoch 62/100\n",
            "231/231 [==============================] - 7s 31ms/step - loss: 0.8093 - accuracy: 0.7865 - val_loss: 2.5189 - val_accuracy: 0.4757\n",
            "Epoch 63/100\n",
            "231/231 [==============================] - 7s 31ms/step - loss: 0.8962 - accuracy: 0.7535 - val_loss: 2.1825 - val_accuracy: 0.4722\n",
            "Epoch 64/100\n",
            "231/231 [==============================] - 7s 32ms/step - loss: 0.8080 - accuracy: 0.8012 - val_loss: 2.4159 - val_accuracy: 0.4896\n",
            "Epoch 65/100\n",
            "231/231 [==============================] - 7s 31ms/step - loss: 0.9505 - accuracy: 0.7491 - val_loss: 2.1589 - val_accuracy: 0.4653\n",
            "Epoch 66/100\n",
            "231/231 [==============================] - 7s 32ms/step - loss: 0.8487 - accuracy: 0.7812 - val_loss: 2.3242 - val_accuracy: 0.4688\n",
            "Epoch 67/100\n",
            "231/231 [==============================] - 8s 32ms/step - loss: 0.7768 - accuracy: 0.8038 - val_loss: 2.2389 - val_accuracy: 0.5208\n",
            "Epoch 68/100\n",
            "231/231 [==============================] - 7s 31ms/step - loss: 0.8437 - accuracy: 0.7812 - val_loss: 2.4345 - val_accuracy: 0.4583\n",
            "Epoch 69/100\n",
            "231/231 [==============================] - 7s 31ms/step - loss: 0.8395 - accuracy: 0.7752 - val_loss: 2.6753 - val_accuracy: 0.4236\n",
            "Epoch 70/100\n",
            "231/231 [==============================] - 7s 31ms/step - loss: 0.8546 - accuracy: 0.7830 - val_loss: 2.3776 - val_accuracy: 0.4444\n",
            "Epoch 71/100\n",
            "231/231 [==============================] - 7s 31ms/step - loss: 0.8232 - accuracy: 0.7899 - val_loss: 2.2665 - val_accuracy: 0.4722\n",
            "Epoch 72/100\n",
            "231/231 [==============================] - 8s 32ms/step - loss: 0.7844 - accuracy: 0.8108 - val_loss: 2.5928 - val_accuracy: 0.4479\n",
            "Epoch 73/100\n",
            "231/231 [==============================] - 8s 35ms/step - loss: 0.8224 - accuracy: 0.7865 - val_loss: 2.5599 - val_accuracy: 0.4410\n",
            "Epoch 74/100\n",
            "231/231 [==============================] - 7s 32ms/step - loss: 0.8723 - accuracy: 0.7674 - val_loss: 2.4739 - val_accuracy: 0.4549\n",
            "Epoch 75/100\n",
            "231/231 [==============================] - 7s 31ms/step - loss: 0.8876 - accuracy: 0.7622 - val_loss: 2.4554 - val_accuracy: 0.4618\n",
            "Epoch 76/100\n",
            "231/231 [==============================] - 7s 31ms/step - loss: 0.7955 - accuracy: 0.8082 - val_loss: 2.3268 - val_accuracy: 0.4757\n",
            "Epoch 77/100\n",
            "231/231 [==============================] - 7s 31ms/step - loss: 0.7847 - accuracy: 0.7995 - val_loss: 2.2093 - val_accuracy: 0.4583\n",
            "Epoch 78/100\n",
            "231/231 [==============================] - 7s 31ms/step - loss: 0.8400 - accuracy: 0.7943 - val_loss: 2.4180 - val_accuracy: 0.4896\n",
            "Epoch 79/100\n",
            "231/231 [==============================] - 9s 37ms/step - loss: 0.7879 - accuracy: 0.8073 - val_loss: 2.6233 - val_accuracy: 0.4826\n",
            "Epoch 80/100\n",
            "231/231 [==============================] - 7s 32ms/step - loss: 0.8274 - accuracy: 0.8003 - val_loss: 2.2684 - val_accuracy: 0.4444\n",
            "Epoch 81/100\n",
            "231/231 [==============================] - 7s 32ms/step - loss: 0.7088 - accuracy: 0.8342 - val_loss: 2.5468 - val_accuracy: 0.4826\n",
            "Epoch 82/100\n",
            "231/231 [==============================] - 7s 32ms/step - loss: 0.7711 - accuracy: 0.8194 - val_loss: 2.1816 - val_accuracy: 0.4861\n",
            "Epoch 83/100\n",
            "231/231 [==============================] - 7s 32ms/step - loss: 0.6716 - accuracy: 0.8576 - val_loss: 2.6827 - val_accuracy: 0.4410\n",
            "Epoch 84/100\n",
            "231/231 [==============================] - 7s 32ms/step - loss: 0.7776 - accuracy: 0.8229 - val_loss: 2.4111 - val_accuracy: 0.4410\n",
            "Epoch 85/100\n",
            "231/231 [==============================] - 8s 32ms/step - loss: 0.8799 - accuracy: 0.7917 - val_loss: 2.6430 - val_accuracy: 0.4549\n",
            "Epoch 86/100\n",
            "231/231 [==============================] - 8s 32ms/step - loss: 0.7864 - accuracy: 0.8186 - val_loss: 2.5949 - val_accuracy: 0.4688\n",
            "Epoch 87/100\n",
            "231/231 [==============================] - 7s 31ms/step - loss: 0.7056 - accuracy: 0.8351 - val_loss: 2.9734 - val_accuracy: 0.4688\n",
            "Epoch 88/100\n",
            "231/231 [==============================] - 7s 32ms/step - loss: 0.6744 - accuracy: 0.8524 - val_loss: 2.8857 - val_accuracy: 0.3958\n",
            "Epoch 89/100\n",
            "231/231 [==============================] - 9s 37ms/step - loss: 0.8149 - accuracy: 0.8168 - val_loss: 2.7677 - val_accuracy: 0.4653\n",
            "Epoch 90/100\n",
            "231/231 [==============================] - 7s 31ms/step - loss: 0.7615 - accuracy: 0.8108 - val_loss: 2.5434 - val_accuracy: 0.4896\n",
            "Epoch 91/100\n",
            "231/231 [==============================] - 7s 31ms/step - loss: 0.7723 - accuracy: 0.8229 - val_loss: 2.4928 - val_accuracy: 0.4653\n",
            "Epoch 92/100\n",
            "231/231 [==============================] - 7s 32ms/step - loss: 0.8450 - accuracy: 0.8125 - val_loss: 2.1896 - val_accuracy: 0.5000\n",
            "Epoch 93/100\n",
            "231/231 [==============================] - 7s 31ms/step - loss: 0.8188 - accuracy: 0.8108 - val_loss: 2.7331 - val_accuracy: 0.3993\n",
            "Epoch 94/100\n",
            "231/231 [==============================] - 7s 31ms/step - loss: 0.7702 - accuracy: 0.8290 - val_loss: 2.9708 - val_accuracy: 0.4410\n",
            "Epoch 95/100\n",
            "231/231 [==============================] - 7s 31ms/step - loss: 0.7059 - accuracy: 0.8464 - val_loss: 3.1068 - val_accuracy: 0.4514\n",
            "Epoch 96/100\n",
            "231/231 [==============================] - 7s 31ms/step - loss: 0.6964 - accuracy: 0.8585 - val_loss: 2.6427 - val_accuracy: 0.4792\n",
            "Epoch 97/100\n",
            "231/231 [==============================] - 7s 31ms/step - loss: 0.7996 - accuracy: 0.8168 - val_loss: 2.4487 - val_accuracy: 0.4722\n",
            "Epoch 98/100\n",
            "231/231 [==============================] - 7s 31ms/step - loss: 0.7344 - accuracy: 0.8194 - val_loss: 2.5859 - val_accuracy: 0.4688\n",
            "Epoch 99/100\n",
            "231/231 [==============================] - 7s 31ms/step - loss: 0.7289 - accuracy: 0.8325 - val_loss: 2.9034 - val_accuracy: 0.4826\n",
            "Epoch 100/100\n",
            "231/231 [==============================] - 7s 31ms/step - loss: 0.6724 - accuracy: 0.8611 - val_loss: 2.9113 - val_accuracy: 0.4653\n"
          ]
        }
      ],
      "source": [
        "historico = model.fit (train_generator, epochs=100, validation_data= validation_generator)"
      ]
    },
    {
      "cell_type": "code",
      "execution_count": null,
      "metadata": {
        "id": "7I-iFIkXrH-M"
      },
      "outputs": [],
      "source": []
    },
    {
      "cell_type": "code",
      "execution_count": null,
      "metadata": {
        "id": "fmz4zz3GrH-N"
      },
      "outputs": [],
      "source": []
    },
    {
      "cell_type": "code",
      "execution_count": null,
      "metadata": {
        "id": "J31lqVoLrH-N"
      },
      "outputs": [],
      "source": []
    }
  ],
  "metadata": {
    "accelerator": "GPU",
    "colab": {
      "provenance": []
    },
    "gpuClass": "standard",
    "kernelspec": {
      "display_name": "Python 3.10.8 ('capstone')",
      "language": "python",
      "name": "python3"
    },
    "language_info": {
      "codemirror_mode": {
        "name": "ipython",
        "version": 3
      },
      "file_extension": ".py",
      "mimetype": "text/x-python",
      "name": "python",
      "nbconvert_exporter": "python",
      "pygments_lexer": "ipython3",
      "version": "3.10.8"
    },
    "vscode": {
      "interpreter": {
        "hash": "057a599749e6261d8827d5f82f37c9e35cc336a28a6874cf82efdacf56183adc"
      }
    }
  },
  "nbformat": 4,
  "nbformat_minor": 0
}
