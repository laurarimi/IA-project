{
 "cells": [
  {
   "cell_type": "code",
   "execution_count": 3,
   "metadata": {},
   "outputs": [
    {
     "name": "stdout",
     "output_type": "stream",
     "text": [
      "Requirement already satisfied: scipy in c:\\users\\laura\\anaconda3\\lib\\site-packages (1.7.1)\n",
      "Requirement already satisfied: numpy<1.23.0,>=1.16.5 in c:\\users\\laura\\anaconda3\\lib\\site-packages (from scipy) (1.20.3)\n",
      "Collecting noisereduce\n",
      "  Using cached noisereduce-2.0.1-py3-none-any.whl (15 kB)\n",
      "Collecting librosa\n",
      "  Using cached librosa-0.9.2-py3-none-any.whl (214 kB)\n",
      "Requirement already satisfied: matplotlib in c:\\users\\laura\\anaconda3\\lib\\site-packages (from noisereduce) (3.4.3)\n",
      "Requirement already satisfied: scipy in c:\\users\\laura\\anaconda3\\lib\\site-packages (from noisereduce) (1.7.1)\n",
      "Requirement already satisfied: tqdm in c:\\users\\laura\\anaconda3\\lib\\site-packages (from noisereduce) (4.62.3)\n",
      "Requirement already satisfied: numpy in c:\\users\\laura\\anaconda3\\lib\\site-packages (from noisereduce) (1.20.3)\n",
      "Collecting soundfile>=0.10.2\n",
      "  Using cached soundfile-0.11.0-py2.py3-none-win_amd64.whl (1.0 MB)\n",
      "Collecting audioread>=2.1.9\n",
      "  Using cached audioread-3.0.0.tar.gz (377 kB)\n",
      "Collecting pooch>=1.0\n",
      "  Using cached pooch-1.6.0-py3-none-any.whl (56 kB)\n",
      "Requirement already satisfied: numba>=0.45.1 in c:\\users\\laura\\anaconda3\\lib\\site-packages (from librosa->noisereduce) (0.54.1)\n",
      "Requirement already satisfied: joblib>=0.14 in c:\\users\\laura\\anaconda3\\lib\\site-packages (from librosa->noisereduce) (1.1.0)\n",
      "Requirement already satisfied: decorator>=4.0.10 in c:\\users\\laura\\appdata\\roaming\\python\\python39\\site-packages (from librosa->noisereduce) (5.1.1)\n",
      "Requirement already satisfied: packaging>=20.0 in c:\\users\\laura\\appdata\\roaming\\python\\python39\\site-packages (from librosa->noisereduce) (21.3)\n",
      "Collecting resampy>=0.2.2\n",
      "  Using cached resampy-0.4.2-py3-none-any.whl (3.1 MB)\n",
      "Requirement already satisfied: scikit-learn>=0.19.1 in c:\\users\\laura\\anaconda3\\lib\\site-packages (from librosa->noisereduce) (0.24.2)\n",
      "Requirement already satisfied: setuptools in c:\\users\\laura\\anaconda3\\lib\\site-packages (from numba>=0.45.1->librosa->noisereduce) (58.0.4)\n",
      "Requirement already satisfied: llvmlite<0.38,>=0.37.0rc1 in c:\\users\\laura\\anaconda3\\lib\\site-packages (from numba>=0.45.1->librosa->noisereduce) (0.37.0)\n",
      "Requirement already satisfied: pyparsing!=3.0.5,>=2.0.2 in c:\\users\\laura\\appdata\\roaming\\python\\python39\\site-packages (from packaging>=20.0->librosa->noisereduce) (3.0.9)\n",
      "Requirement already satisfied: appdirs>=1.3.0 in c:\\users\\laura\\anaconda3\\lib\\site-packages (from pooch>=1.0->librosa->noisereduce) (1.4.4)\n",
      "Requirement already satisfied: requests>=2.19.0 in c:\\users\\laura\\anaconda3\\lib\\site-packages (from pooch>=1.0->librosa->noisereduce) (2.28.1)\n",
      "Requirement already satisfied: certifi>=2017.4.17 in c:\\users\\laura\\anaconda3\\lib\\site-packages (from requests>=2.19.0->pooch>=1.0->librosa->noisereduce) (2021.10.8)\n",
      "Requirement already satisfied: charset-normalizer<3,>=2 in c:\\users\\laura\\anaconda3\\lib\\site-packages (from requests>=2.19.0->pooch>=1.0->librosa->noisereduce) (2.0.4)\n",
      "Requirement already satisfied: idna<4,>=2.5 in c:\\users\\laura\\anaconda3\\lib\\site-packages (from requests>=2.19.0->pooch>=1.0->librosa->noisereduce) (3.2)\n",
      "Requirement already satisfied: urllib3<1.27,>=1.21.1 in c:\\users\\laura\\anaconda3\\lib\\site-packages (from requests>=2.19.0->pooch>=1.0->librosa->noisereduce) (1.26.7)\n",
      "Requirement already satisfied: threadpoolctl>=2.0.0 in c:\\users\\laura\\anaconda3\\lib\\site-packages (from scikit-learn>=0.19.1->librosa->noisereduce) (2.2.0)\n",
      "Requirement already satisfied: cffi>=1.0 in c:\\users\\laura\\anaconda3\\lib\\site-packages (from soundfile>=0.10.2->librosa->noisereduce) (1.14.6)\n",
      "Requirement already satisfied: pycparser in c:\\users\\laura\\anaconda3\\lib\\site-packages (from cffi>=1.0->soundfile>=0.10.2->librosa->noisereduce) (2.20)\n",
      "Requirement already satisfied: cycler>=0.10 in c:\\users\\laura\\anaconda3\\lib\\site-packages (from matplotlib->noisereduce) (0.10.0)\n",
      "Requirement already satisfied: pillow>=6.2.0 in c:\\users\\laura\\anaconda3\\lib\\site-packages (from matplotlib->noisereduce) (8.4.0)\n",
      "Requirement already satisfied: python-dateutil>=2.7 in c:\\users\\laura\\appdata\\roaming\\python\\python39\\site-packages (from matplotlib->noisereduce) (2.8.2)\n",
      "Requirement already satisfied: kiwisolver>=1.0.1 in c:\\users\\laura\\anaconda3\\lib\\site-packages (from matplotlib->noisereduce) (1.3.1)\n",
      "Requirement already satisfied: six in c:\\users\\laura\\appdata\\roaming\\python\\python39\\site-packages (from cycler>=0.10->matplotlib->noisereduce) (1.16.0)\n",
      "Requirement already satisfied: colorama in c:\\users\\laura\\appdata\\roaming\\python\\python39\\site-packages (from tqdm->noisereduce) (0.4.6)\n",
      "Building wheels for collected packages: audioread\n",
      "  Building wheel for audioread (setup.py): started\n",
      "  Building wheel for audioread (setup.py): finished with status 'done'\n",
      "  Created wheel for audioread: filename=audioread-3.0.0-py3-none-any.whl size=23706 sha256=c985e76f2f2268195dd1bb9317332330d396f8cbafddcc2861a2d80c9b854596\n",
      "  Stored in directory: c:\\users\\laura\\appdata\\local\\pip\\cache\\wheels\\e4\\76\\a4\\cfb55573167a1f5bde7d7a348e95e509c64b2c3e8f921932c3\n",
      "Successfully built audioread\n",
      "Installing collected packages: soundfile, resampy, pooch, audioread, librosa, noisereduce\n",
      "Successfully installed audioread-3.0.0 librosa-0.9.2 noisereduce-2.0.1 pooch-1.6.0 resampy-0.4.2 soundfile-0.11.0\n"
     ]
    }
   ],
   "source": [
    "!pip install scipy\n",
    "!pip install noisereduce\n"
   ]
  },
  {
   "cell_type": "code",
   "execution_count": 5,
   "metadata": {},
   "outputs": [],
   "source": [
    "from scipy.io import wavfile\n",
    "import noisereduce as nr\n",
    "# load data\n",
    "rate, data = wavfile.read(\"cero_1_1.wav\")\n",
    "# perform noise reduction\n",
    "reduced_noise = nr.reduce_noise(y=data, sr=rate)\n",
    "wavfile.write(\"mywav_reduced_noise.wav\", rate, reduced_noise)"
   ]
  },
  {
   "cell_type": "code",
   "execution_count": null,
   "metadata": {},
   "outputs": [],
   "source": []
  }
 ],
 "metadata": {
  "kernelspec": {
   "display_name": "Python 3.9.7 ('base')",
   "language": "python",
   "name": "python3"
  },
  "language_info": {
   "codemirror_mode": {
    "name": "ipython",
    "version": 3
   },
   "file_extension": ".py",
   "mimetype": "text/x-python",
   "name": "python",
   "nbconvert_exporter": "python",
   "pygments_lexer": "ipython3",
   "version": "3.9.7"
  },
  "orig_nbformat": 4,
  "vscode": {
   "interpreter": {
    "hash": "36374a2df9da3f8adf0ff5c85a0e4674c25dd985be2a12f6a8e0a2c95871f4d2"
   }
  }
 },
 "nbformat": 4,
 "nbformat_minor": 2
}
