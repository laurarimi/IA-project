{
 "cells": [
  {
   "cell_type": "code",
   "execution_count": 1,
   "metadata": {},
   "outputs": [
    {
     "name": "stdout",
     "output_type": "stream",
     "text": [
      "Requirement already satisfied: webrtcvad in c:\\users\\laura\\anaconda3\\lib\\site-packages (2.0.10)\n",
      "Note: you may need to restart the kernel to use updated packages.\n"
     ]
    }
   ],
   "source": [
    "pip install webrtcvad\n"
   ]
  },
  {
   "cell_type": "code",
   "execution_count": 2,
   "metadata": {},
   "outputs": [],
   "source": [
    "import webrtcvad\n",
    "vad = webrtcvad.Vad()"
   ]
  },
  {
   "cell_type": "markdown",
   "metadata": {},
   "source": []
  },
  {
   "cell_type": "code",
   "execution_count": 3,
   "metadata": {},
   "outputs": [],
   "source": [
    "vad.set_mode(1)\n"
   ]
  },
  {
   "cell_type": "code",
   "execution_count": 9,
   "metadata": {},
   "outputs": [],
   "source": [
    "import wave\n",
    "import webrtcvad\n",
    "# Initialize a vad object\n",
    "audioFile = wave.open('cero_1_1.wav')\n",
    "framesAudio = audioFile.readframes(800)\n",
    "#print(fraud.frames)\n",
    "\n",
    "vad = webrtcvad.Vad()\n",
    "# Run the VAD on 10 ms of silence and 16000 sampling rate \n",
    "sample_rate = 16000\n",
    "frame_duration = 10  # in ms\n",
    "for f in framesAudio :\n",
    "    # Detecting speech\n",
    "    final_frame = f.to_bytes(2,\"big\")* int(sample_rate * frame_duration / 1000)\n",
    "\n",
    "    print(f'Contains speech: {vad.is_speech(final_frame, sample_rate)}')\n"
   ]
  },
  {
   "cell_type": "markdown",
   "metadata": {},
   "source": []
  }
 ],
 "metadata": {
  "kernelspec": {
   "display_name": "Python 3.9.7 ('base')",
   "language": "python",
   "name": "python3"
  },
  "language_info": {
   "codemirror_mode": {
    "name": "ipython",
    "version": 3
   },
   "file_extension": ".py",
   "mimetype": "text/x-python",
   "name": "python",
   "nbconvert_exporter": "python",
   "pygments_lexer": "ipython3",
   "version": "3.9.7"
  },
  "orig_nbformat": 4,
  "vscode": {
   "interpreter": {
    "hash": "36374a2df9da3f8adf0ff5c85a0e4674c25dd985be2a12f6a8e0a2c95871f4d2"
   }
  }
 },
 "nbformat": 4,
 "nbformat_minor": 2
}
