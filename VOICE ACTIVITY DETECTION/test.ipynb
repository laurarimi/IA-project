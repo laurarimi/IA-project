{
 "cells": [
  {
   "cell_type": "code",
   "execution_count": 1,
   "metadata": {},
   "outputs": [],
   "source": [
    "import webrtcvad"
   ]
  },
  {
   "cell_type": "code",
   "execution_count": 4,
   "metadata": {},
   "outputs": [],
   "source": [
    "vad = webrtcvad.Vad()\n",
    "vad.set_mode(1)"
   ]
  },
  {
   "cell_type": "code",
   "execution_count": 8,
   "metadata": {},
   "outputs": [
    {
     "ename": "Error",
     "evalue": "Error while processing frame",
     "output_type": "error",
     "traceback": [
      "\u001b[1;31m---------------------------------------------------------------------------\u001b[0m",
      "\u001b[1;31mError\u001b[0m                                     Traceback (most recent call last)",
      "\u001b[1;32m~\\AppData\\Local\\Temp\\ipykernel_2716\\4109088928.py\u001b[0m in \u001b[0;36m<module>\u001b[1;34m\u001b[0m\n\u001b[0;32m     15\u001b[0m \u001b[1;31m# Use the VAD object to detect audio in each frame\u001b[0m\u001b[1;33m\u001b[0m\u001b[1;33m\u001b[0m\u001b[0m\n\u001b[0;32m     16\u001b[0m \u001b[1;32mfor\u001b[0m \u001b[0mframe\u001b[0m \u001b[1;32min\u001b[0m \u001b[0mframes\u001b[0m\u001b[1;33m:\u001b[0m\u001b[1;33m\u001b[0m\u001b[1;33m\u001b[0m\u001b[0m\n\u001b[1;32m---> 17\u001b[1;33m     \u001b[0mis_speech\u001b[0m \u001b[1;33m=\u001b[0m \u001b[0mvad\u001b[0m\u001b[1;33m.\u001b[0m\u001b[0mis_speech\u001b[0m\u001b[1;33m(\u001b[0m\u001b[0mframe\u001b[0m\u001b[1;33m,\u001b[0m \u001b[1;36m16000\u001b[0m\u001b[1;33m)\u001b[0m  \u001b[1;31m# 16 kHz sample rate\u001b[0m\u001b[1;33m\u001b[0m\u001b[1;33m\u001b[0m\u001b[0m\n\u001b[0m\u001b[0;32m     18\u001b[0m     \u001b[1;32mif\u001b[0m \u001b[0mis_speech\u001b[0m\u001b[1;33m:\u001b[0m\u001b[1;33m\u001b[0m\u001b[1;33m\u001b[0m\u001b[0m\n\u001b[0;32m     19\u001b[0m         \u001b[1;31m# Audio detected in this frame\u001b[0m\u001b[1;33m\u001b[0m\u001b[1;33m\u001b[0m\u001b[0m\n",
      "\u001b[1;32m~\\anaconda3\\lib\\site-packages\\webrtcvad.py\u001b[0m in \u001b[0;36mis_speech\u001b[1;34m(self, buf, sample_rate, length)\u001b[0m\n\u001b[0;32m     25\u001b[0m                 'buffer has %s frames, but length argument was %s' % (\n\u001b[0;32m     26\u001b[0m                     int(len(buf) / 2.0), length))\n\u001b[1;32m---> 27\u001b[1;33m         \u001b[1;32mreturn\u001b[0m \u001b[0m_webrtcvad\u001b[0m\u001b[1;33m.\u001b[0m\u001b[0mprocess\u001b[0m\u001b[1;33m(\u001b[0m\u001b[0mself\u001b[0m\u001b[1;33m.\u001b[0m\u001b[0m_vad\u001b[0m\u001b[1;33m,\u001b[0m \u001b[0msample_rate\u001b[0m\u001b[1;33m,\u001b[0m \u001b[0mbuf\u001b[0m\u001b[1;33m,\u001b[0m \u001b[0mlength\u001b[0m\u001b[1;33m)\u001b[0m\u001b[1;33m\u001b[0m\u001b[1;33m\u001b[0m\u001b[0m\n\u001b[0m\u001b[0;32m     28\u001b[0m \u001b[1;33m\u001b[0m\u001b[0m\n\u001b[0;32m     29\u001b[0m \u001b[1;33m\u001b[0m\u001b[0m\n",
      "\u001b[1;31mError\u001b[0m: Error while processing frame"
     ]
    }
   ],
   "source": [
    "import webrtcvad\n",
    "\n",
    "# Create a VAD object with the default settings\n",
    "vad = webrtcvad.Vad()\n",
    "\n",
    "# Read the audio data from a file\n",
    "with open('audio.wav', 'rb') as f:\n",
    "    audio_data = f.read()\n",
    "\n",
    "# Split the audio data into 10 ms frames\n",
    "frame_duration = 10  # 10 ms\n",
    "frame_size = frame_duration * 16000 // 1000  # 16 kHz sample rate\n",
    "frames = [audio_data[i:i + frame_size] for i in range(0, len(audio_data), frame_size)]\n",
    "\n",
    "# Use the VAD object to detect audio in each frame\n",
    "for frame in frames:\n",
    "    is_speech = vad.is_speech(frame, 16000)  # 16 kHz sample rate\n",
    "    if is_speech:\n",
    "        # Audio detected in this frame\n",
    "        print('Speech detected!')\n",
    "    else:\n",
    "        # No audio detected in this frame\n",
    "        print('No speech detected.')\n"
   ]
  },
  {
   "cell_type": "code",
   "execution_count": null,
   "metadata": {},
   "outputs": [],
   "source": []
  }
 ],
 "metadata": {
  "kernelspec": {
   "display_name": "Python ('CAPSTONE_PROJECT')",
   "language": "python",
   "name": "python3"
  },
  "language_info": {
   "codemirror_mode": {
    "name": "ipython",
    "version": 3
   },
   "file_extension": ".py",
   "mimetype": "text/x-python",
   "name": "python",
   "nbconvert_exporter": "python",
   "pygments_lexer": "ipython3",
   "version": "3.9.13"
  },
  "orig_nbformat": 4,
  "vscode": {
   "interpreter": {
    "hash": "25a19fbe0a9132dfb9279d48d161753c6352f8f9478c2e74383d340069b907c3"
   }
  }
 },
 "nbformat": 4,
 "nbformat_minor": 2
}
