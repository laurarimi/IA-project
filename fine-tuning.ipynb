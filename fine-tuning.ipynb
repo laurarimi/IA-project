{
 "cells": [
  {
   "cell_type": "code",
<<<<<<< HEAD
   "execution_count": 1,
=======
   "execution_count": 16,
>>>>>>> 2dd9b74ae6028aeb6597e47cdcefdc428eb3c60b
   "metadata": {},
   "outputs": [],
   "source": [
    "import pandas as pd\n",
    "from keras.utils import to_categorical\n",
<<<<<<< HEAD
=======
    "import librosa, librosa.display\n",
>>>>>>> 2dd9b74ae6028aeb6597e47cdcefdc428eb3c60b
    "import numpy as np\n",
    "import matplotlib.pyplot as plt\n",
    "import os\n",
    "import re\n",
    "%matplotlib inline"
   ]
  },
  {
   "cell_type": "markdown",
   "metadata": {},
   "source": [
    "0 sadness, 1 joy, 2 love, 3 anger, 4 fear"
   ]
  },
  {
   "cell_type": "code",
<<<<<<< HEAD
   "execution_count": null,
=======
   "execution_count": 2,
>>>>>>> 2dd9b74ae6028aeb6597e47cdcefdc428eb3c60b
   "metadata": {},
   "outputs": [],
   "source": [
    "df_train = pd.read_csv('./Datasets/text/training.csv')\n",
    "df_test = pd.read_csv('./Datasets/text/test.csv')\n",
    "df_val = pd.read_csv('./Datasets/text/validation.csv')"
   ]
  },
  {
   "cell_type": "code",
<<<<<<< HEAD
   "execution_count": null,
=======
   "execution_count": 3,
>>>>>>> 2dd9b74ae6028aeb6597e47cdcefdc428eb3c60b
   "metadata": {},
   "outputs": [],
   "source": [
    "y_train = to_categorical(df_train.label, num_classes=6)\n",
    "X_train = df_train.text.to_numpy()\n",
    "\n",
    "y_test = to_categorical(df_test.label, num_classes=6)\n",
    "X_test = df_test.text.to_numpy()\n",
    "\n",
    "y_val = to_categorical(df_val.label, num_classes=6)\n",
    "X_val = df_val.text.to_numpy()"
   ]
  },
  {
   "cell_type": "code",
   "execution_count": 9,
   "metadata": {},
   "outputs": [],
   "source": [
    "def melSpectrogram(dir, file):\n",
    "    signal, sr = librosa.load(f'{dir}\\{file}')\n",
    "    n_fft = 2048\n",
    "    hop_length = 512\n",
    "    mel_signal = librosa.feature.melspectrogram(y=signal, sr=sr, hop_length=hop_length, \n",
    "     n_fft=n_fft)\n",
    "    spectrogram = np.abs(mel_signal)\n",
    "    power_to_db = librosa.power_to_db(spectrogram, ref=np.max)\n",
    "    plt.figure(figsize=(8, 7))\n",
    "    librosa.display.specshow(power_to_db, sr=sr, x_axis=\"time\", y_axis=\"mel\", cmap=\"magma\", \n",
    "     hop_length=hop_length)\n",
    "\n",
    "    plt.axis('off')\n",
    "    plt.savefig(f'{dir}/mel{file}.png', bbox_inches='tight',pad_inches = 0)\n"
   ]
  },
  {
   "cell_type": "code",
   "execution_count": null,
   "metadata": {},
   "outputs": [],
   "source": [
    "data_dir = \"./Datasets/audio/data\"\n",
    "emotions = [\"neutral\", \"calm\", \"happy\", \"sad\", \"angry\", \"fearful\", \"disgust\",\"surprised\"]\n",
    "index = dict(enumerate(emotions,start=1))\n",
    "os.mkdir(data_dir)\n",
    "for emotion in emotions:\n",
    "    os.mkdir(data_dir + \"/\" + emotion)"
   ]
  },
  {
   "cell_type": "code",
   "execution_count": null,
   "metadata": {},
   "outputs": [],
   "source": [
    "index"
   ]
  },
  {
   "cell_type": "code",
   "execution_count": null,
   "metadata": {},
   "outputs": [],
   "source": [
    "def melSpectrogram(dir, file):\n",
    "    signal, sr = librosa.load(f'{dir}\\{file}')\n",
    "    n_fft = 2048\n",
    "    hop_length = 512\n",
    "    mel_signal = librosa.feature.melspectrogram(y=signal, sr=sr, hop_length=hop_length, \n",
    "     n_fft=n_fft)\n",
    "    spectrogram = np.abs(mel_signal)\n",
    "    power_to_db = librosa.power_to_db(spectrogram, ref=np.max)\n",
    "    plt.figure(figsize=(8, 7))\n",
    "    librosa.display.specshow(power_to_db, sr=sr, x_axis=\"time\", y_axis=\"mel\", cmap=\"magma\", \n",
    "     hop_length=hop_length)\n",
    "\n",
    "    plt.axis('off')     \n",
    "    emotion = int(file[:8][-2:])\n",
    "    plt.savefig(f'Datasets/audio/data/{index[emotion]}/mel{file[:-3]}.png', bbox_inches='tight',pad_inches = 0)\n"
   ]
  },
  {
   "cell_type": "code",
   "execution_count": null,
   "metadata": {
    "scrolled": true
   },
   "outputs": [],
   "source": [
    "for actor in os.listdir(\"Datasets/audio/\"):\n",
    "    for file in os.listdir(f\"Datasets/audio/{actor}\"):\n",
    "        melSpectrogram(f\"Datasets/audio/{actor}/\", file)"
   ]
  },
  {
   "cell_type": "code",
   "execution_count": null,
   "metadata": {},
   "outputs": [],
   "source": [
    "melSpectrogram(\"Datasets/audio/Actor_01/\", \"03-01-01-01-01-01-01.wav\")"
   ]
  },
  {
   "cell_type": "code",
   "execution_count": 7,
   "metadata": {},
   "outputs": [],
   "source": [
    "from keras.models import Sequential\n",
    "from tensorflow.keras.layers import Dense, Conv2D, MaxPooling2D, Reshape, Flatten\n",
    "from tensorflow.compat.v1 import ConfigProto\n",
    "from tensorflow.compat.v1 import InteractiveSession\n",
    "\n",
    "config = ConfigProto()\n",
    "config.gpu_options.per_process_gpu_memory_fraction = 0.333\n",
    "session = InteractiveSession(config=config)"
   ]
  },
  {
   "cell_type": "code",
   "execution_count": 8,
   "metadata": {},
   "outputs": [],
   "source": [
    "n_class = 8\n",
    "model = Sequential()\n",
    "\n",
    "model.add(Conv2D(filters=64, kernel_size=(3,3), activation=\"relu\", padding=\"same\"))\n",
    "model.add(Conv2D(filters=64, kernel_size=(3,3), activation=\"relu\", padding=\"same\"))\n",
    "model.add(MaxPooling2D(pool_size=(2, 2), strides=(2,2)))\n",
    "model.add(Conv2D(filters=128, kernel_size=(3,3), activation=\"relu\", padding=\"same\"))\n",
    "model.add(Conv2D(filters=128, kernel_size=(3,3), activation=\"relu\", padding=\"same\"))\n",
    "model.add(MaxPooling2D(pool_size=(2, 2), strides=(2,2)))\n",
    "model.add(Conv2D(filters=256, kernel_size=(3,3), activation=\"relu\", padding=\"same\"))\n",
    "model.add(Conv2D(filters=256, kernel_size=(3,3), activation=\"relu\", padding=\"same\"))\n",
    "model.add(Conv2D(filters=256, kernel_size=(3,3), activation=\"relu\", padding=\"same\"))\n",
    "model.add(MaxPooling2D(pool_size=(2, 2), strides=(2,2)))\n",
    "model.add(Conv2D(filters=512, kernel_size=(3,3), activation=\"relu\", padding=\"same\"))\n",
    "model.add(Conv2D(filters=512, kernel_size=(3,3), activation=\"relu\", padding=\"same\"))\n",
    "model.add(Conv2D(filters=512, kernel_size=(3,3), activation=\"relu\", padding=\"same\"))\n",
    "model.add(MaxPooling2D(pool_size=(2, 2), strides=(2,2)))\n",
    "model.add(Conv2D(filters=512, kernel_size=(3,3), activation=\"relu\", padding=\"same\"))\n",
    "model.add(Conv2D(filters=512, kernel_size=(3,3), activation=\"relu\", padding=\"same\"))\n",
    "model.add(Conv2D(filters=512, kernel_size=(3,3), activation=\"relu\", padding=\"same\"))\n",
    "model.add(MaxPooling2D(pool_size=(2, 2), strides=(2,2)))\n",
    "model.add(Flatten())\n",
    "model.add(Dense(units=4096,activation=\"relu\"))\n",
    "model.add(Dense(units=4096,activation=\"relu\"))\n",
    "model.add(Dense(units=n_class,activation=\"softmax\"))"
   ]
  },
  {
   "cell_type": "code",
   "execution_count": 9,
   "metadata": {},
   "outputs": [],
   "source": [
    "from tensorflow.keras.utils import image_dataset_from_directory\n",
    "from keras.preprocessing.image import ImageDataGenerator\n",
    "import keras"
   ]
  },
  {
   "cell_type": "code",
   "execution_count": 10,
   "metadata": {},
   "outputs": [
    {
     "name": "stdout",
     "output_type": "stream",
     "text": [
      "Found 1155 images belonging to 8 classes.\n",
      "Found 285 images belonging to 8 classes.\n"
     ]
    }
   ],
   "source": [
    "trdata = ImageDataGenerator(validation_split=0.2)\n",
    "traindata = trdata.flow_from_directory(batch_size=20,directory=\"Datasets/audio/data/\",target_size=(224,224),seed=123, subset=\"training\")\n",
    "testdata = trdata.flow_from_directory(batch_size=20,directory=\"Datasets/audio/data/\",target_size=(224,224),seed=123, subset=\"validation\")\n"
   ]
  },
  {
   "cell_type": "code",
   "execution_count": 11,
   "metadata": {},
   "outputs": [],
   "source": [
    "from tensorflow.keras.optimizers import Adam\n",
    "model.compile(optimizer=Adam(learning_rate=0.0001), loss=keras.losses.categorical_crossentropy, metrics=[\"accuracy\"])"
   ]
  },
  {
   "cell_type": "code",
   "execution_count": 12,
   "metadata": {},
   "outputs": [
    {
     "name": "stdout",
     "output_type": "stream",
     "text": [
      "Epoch 1/100\n",
      "58/58 [==============================] - 36s 490ms/step - loss: 2.1521 - accuracy: 0.1455 - val_loss: 2.0415 - val_accuracy: 0.1860\n",
      "Epoch 2/100\n",
      "58/58 [==============================] - 22s 372ms/step - loss: 1.8705 - accuracy: 0.2727 - val_loss: 1.8839 - val_accuracy: 0.2737\n",
      "Epoch 3/100\n",
      "58/58 [==============================] - 22s 369ms/step - loss: 1.7244 - accuracy: 0.3420 - val_loss: 1.7929 - val_accuracy: 0.3263\n",
      "Epoch 4/100\n",
      "58/58 [==============================] - 22s 372ms/step - loss: 1.6016 - accuracy: 0.3835 - val_loss: 1.8011 - val_accuracy: 0.2702\n",
      "Epoch 5/100\n",
      "58/58 [==============================] - 22s 377ms/step - loss: 1.3192 - accuracy: 0.4857 - val_loss: 1.5994 - val_accuracy: 0.4035\n",
      "Epoch 6/100\n",
      "58/58 [==============================] - 22s 377ms/step - loss: 1.1463 - accuracy: 0.5654 - val_loss: 1.4076 - val_accuracy: 0.4737\n",
      "Epoch 7/100\n",
      "58/58 [==============================] - 22s 374ms/step - loss: 0.8947 - accuracy: 0.6597 - val_loss: 1.5472 - val_accuracy: 0.4702\n",
      "Epoch 8/100\n",
      "58/58 [==============================] - 22s 378ms/step - loss: 0.7279 - accuracy: 0.7325 - val_loss: 1.9083 - val_accuracy: 0.4211\n",
      "Epoch 9/100\n",
      "58/58 [==============================] - 22s 381ms/step - loss: 0.5359 - accuracy: 0.8009 - val_loss: 1.3770 - val_accuracy: 0.5579\n",
      "Epoch 10/100\n",
      "58/58 [==============================] - 22s 375ms/step - loss: 0.3878 - accuracy: 0.8589 - val_loss: 1.6006 - val_accuracy: 0.4982\n",
      "Epoch 11/100\n",
      "58/58 [==============================] - 22s 378ms/step - loss: 0.2989 - accuracy: 0.8909 - val_loss: 1.7404 - val_accuracy: 0.5789\n",
      "Epoch 12/100\n",
      "58/58 [==============================] - 22s 373ms/step - loss: 0.2027 - accuracy: 0.9247 - val_loss: 1.9173 - val_accuracy: 0.5754\n",
      "Epoch 13/100\n",
      "58/58 [==============================] - 22s 376ms/step - loss: 0.1545 - accuracy: 0.9429 - val_loss: 1.5663 - val_accuracy: 0.6070\n",
      "Epoch 14/100\n",
      "58/58 [==============================] - 22s 382ms/step - loss: 0.1347 - accuracy: 0.9524 - val_loss: 1.9684 - val_accuracy: 0.5368\n",
      "Epoch 15/100\n",
      "58/58 [==============================] - 22s 374ms/step - loss: 0.1510 - accuracy: 0.9515 - val_loss: 2.0332 - val_accuracy: 0.5789\n",
      "Epoch 16/100\n",
      "58/58 [==============================] - 22s 378ms/step - loss: 0.1546 - accuracy: 0.9532 - val_loss: 2.4326 - val_accuracy: 0.5895\n",
      "Epoch 17/100\n",
      "58/58 [==============================] - 22s 379ms/step - loss: 0.0778 - accuracy: 0.9740 - val_loss: 1.9525 - val_accuracy: 0.6316\n",
      "Epoch 18/100\n",
      "58/58 [==============================] - 22s 372ms/step - loss: 0.0568 - accuracy: 0.9784 - val_loss: 2.2254 - val_accuracy: 0.5930\n",
      "Epoch 19/100\n",
      "58/58 [==============================] - 22s 375ms/step - loss: 0.0629 - accuracy: 0.9801 - val_loss: 1.9835 - val_accuracy: 0.5719\n",
      "Epoch 20/100\n",
      "58/58 [==============================] - 22s 380ms/step - loss: 0.0691 - accuracy: 0.9749 - val_loss: 1.9071 - val_accuracy: 0.5579\n",
      "Epoch 21/100\n",
      "58/58 [==============================] - 22s 377ms/step - loss: 0.0479 - accuracy: 0.9870 - val_loss: 3.6145 - val_accuracy: 0.5123\n",
      "Epoch 22/100\n",
      "58/58 [==============================] - 22s 373ms/step - loss: 0.0844 - accuracy: 0.9723 - val_loss: 2.8827 - val_accuracy: 0.5263\n",
      "Epoch 23/100\n",
      "58/58 [==============================] - 22s 376ms/step - loss: 0.0835 - accuracy: 0.9749 - val_loss: 1.8875 - val_accuracy: 0.6246\n",
      "Epoch 24/100\n",
      "58/58 [==============================] - 22s 375ms/step - loss: 0.0107 - accuracy: 0.9965 - val_loss: 2.2584 - val_accuracy: 0.6105\n",
      "Epoch 25/100\n",
      "58/58 [==============================] - 22s 377ms/step - loss: 0.0384 - accuracy: 0.9887 - val_loss: 2.2076 - val_accuracy: 0.5965\n",
      "Epoch 26/100\n",
      "58/58 [==============================] - 22s 383ms/step - loss: 0.0253 - accuracy: 0.9905 - val_loss: 2.4383 - val_accuracy: 0.6175\n",
      "Epoch 27/100\n",
      "58/58 [==============================] - 22s 376ms/step - loss: 0.0103 - accuracy: 0.9983 - val_loss: 2.8109 - val_accuracy: 0.5860\n",
      "Epoch 28/100\n",
      "58/58 [==============================] - 22s 377ms/step - loss: 0.0224 - accuracy: 0.9957 - val_loss: 2.6878 - val_accuracy: 0.5158\n",
      "Epoch 29/100\n",
      "58/58 [==============================] - 22s 377ms/step - loss: 0.0119 - accuracy: 0.9957 - val_loss: 2.4643 - val_accuracy: 0.6000\n",
      "Epoch 30/100\n",
      "58/58 [==============================] - 22s 376ms/step - loss: 0.0173 - accuracy: 0.9965 - val_loss: 1.8672 - val_accuracy: 0.6175\n",
      "Epoch 31/100\n",
      "58/58 [==============================] - 22s 377ms/step - loss: 0.0087 - accuracy: 0.9974 - val_loss: 3.1088 - val_accuracy: 0.6035\n",
      "Epoch 32/100\n",
      "58/58 [==============================] - 22s 378ms/step - loss: 0.0224 - accuracy: 0.9913 - val_loss: 2.8967 - val_accuracy: 0.6246\n",
      "Epoch 33/100\n",
      "58/58 [==============================] - 22s 379ms/step - loss: 0.0760 - accuracy: 0.9749 - val_loss: 3.5869 - val_accuracy: 0.5193\n",
      "Epoch 34/100\n",
      "58/58 [==============================] - 22s 381ms/step - loss: 0.0679 - accuracy: 0.9801 - val_loss: 2.6333 - val_accuracy: 0.5368\n",
      "Epoch 35/100\n",
      "58/58 [==============================] - 22s 379ms/step - loss: 0.0837 - accuracy: 0.9680 - val_loss: 2.4092 - val_accuracy: 0.5719\n",
      "Epoch 36/100\n",
      "58/58 [==============================] - 22s 378ms/step - loss: 0.0394 - accuracy: 0.9879 - val_loss: 1.9964 - val_accuracy: 0.6000\n",
      "Epoch 37/100\n",
      "58/58 [==============================] - 22s 373ms/step - loss: 0.0612 - accuracy: 0.9810 - val_loss: 2.2148 - val_accuracy: 0.5930\n",
      "Epoch 38/100\n",
      "58/58 [==============================] - 22s 379ms/step - loss: 0.0375 - accuracy: 0.9887 - val_loss: 1.6021 - val_accuracy: 0.6386\n",
      "Epoch 39/100\n",
      "58/58 [==============================] - 22s 383ms/step - loss: 0.0326 - accuracy: 0.9879 - val_loss: 1.7761 - val_accuracy: 0.6596\n",
      "Epoch 40/100\n",
      "58/58 [==============================] - 22s 372ms/step - loss: 0.0572 - accuracy: 0.9931 - val_loss: 1.3465 - val_accuracy: 0.5965\n",
      "Epoch 41/100\n",
      "58/58 [==============================] - 22s 380ms/step - loss: 0.0124 - accuracy: 0.9974 - val_loss: 2.9677 - val_accuracy: 0.5509\n",
      "Epoch 42/100\n",
      "58/58 [==============================] - 22s 373ms/step - loss: 4.6187e-04 - accuracy: 1.0000 - val_loss: 2.6805 - val_accuracy: 0.5930\n",
      "Epoch 43/100\n",
      "58/58 [==============================] - 22s 378ms/step - loss: 7.7801e-05 - accuracy: 1.0000 - val_loss: 2.7277 - val_accuracy: 0.5860\n",
      "Epoch 44/100\n",
      "58/58 [==============================] - 22s 380ms/step - loss: 2.6257e-05 - accuracy: 1.0000 - val_loss: 2.7404 - val_accuracy: 0.5895\n",
      "Epoch 45/100\n",
      "58/58 [==============================] - 22s 375ms/step - loss: 1.8984e-05 - accuracy: 1.0000 - val_loss: 2.7552 - val_accuracy: 0.5895\n",
      "Epoch 46/100\n",
      "58/58 [==============================] - 22s 378ms/step - loss: 1.3850e-05 - accuracy: 1.0000 - val_loss: 2.7651 - val_accuracy: 0.5825\n",
      "Epoch 47/100\n",
      "58/58 [==============================] - 22s 381ms/step - loss: 1.0998e-05 - accuracy: 1.0000 - val_loss: 2.7750 - val_accuracy: 0.5825\n",
      "Epoch 48/100\n",
      "58/58 [==============================] - 22s 378ms/step - loss: 9.1089e-06 - accuracy: 1.0000 - val_loss: 2.7880 - val_accuracy: 0.5754\n",
      "Epoch 49/100\n",
      "58/58 [==============================] - 22s 386ms/step - loss: 7.6753e-06 - accuracy: 1.0000 - val_loss: 2.8004 - val_accuracy: 0.5825\n",
      "Epoch 50/100\n",
      "58/58 [==============================] - 22s 375ms/step - loss: 6.5805e-06 - accuracy: 1.0000 - val_loss: 2.8151 - val_accuracy: 0.5825\n",
      "Epoch 51/100\n",
      "58/58 [==============================] - 22s 377ms/step - loss: 5.6633e-06 - accuracy: 1.0000 - val_loss: 2.8265 - val_accuracy: 0.5825\n",
      "Epoch 52/100\n",
      "58/58 [==============================] - 22s 378ms/step - loss: 4.9590e-06 - accuracy: 1.0000 - val_loss: 2.8398 - val_accuracy: 0.5825\n",
      "Epoch 53/100\n",
      "58/58 [==============================] - 22s 380ms/step - loss: 4.3791e-06 - accuracy: 1.0000 - val_loss: 2.8543 - val_accuracy: 0.5825\n",
      "Epoch 54/100\n",
      "58/58 [==============================] - 22s 373ms/step - loss: 3.8423e-06 - accuracy: 1.0000 - val_loss: 2.8668 - val_accuracy: 0.5860\n",
      "Epoch 55/100\n",
      "58/58 [==============================] - 22s 378ms/step - loss: 3.4225e-06 - accuracy: 1.0000 - val_loss: 2.8840 - val_accuracy: 0.5895\n",
      "Epoch 56/100\n",
      "58/58 [==============================] - 22s 377ms/step - loss: 3.0499e-06 - accuracy: 1.0000 - val_loss: 2.8982 - val_accuracy: 0.5895\n",
      "Epoch 57/100\n"
     ]
    },
    {
     "name": "stdout",
     "output_type": "stream",
     "text": [
      "58/58 [==============================] - 22s 380ms/step - loss: 2.7246e-06 - accuracy: 1.0000 - val_loss: 2.9135 - val_accuracy: 0.5895\n",
      "Epoch 58/100\n",
      "58/58 [==============================] - 22s 383ms/step - loss: 2.4431e-06 - accuracy: 1.0000 - val_loss: 2.9289 - val_accuracy: 0.5930\n",
      "Epoch 59/100\n",
      "58/58 [==============================] - 22s 373ms/step - loss: 2.1974e-06 - accuracy: 1.0000 - val_loss: 2.9458 - val_accuracy: 0.5930\n",
      "Epoch 60/100\n",
      "58/58 [==============================] - 22s 375ms/step - loss: 1.9848e-06 - accuracy: 1.0000 - val_loss: 2.9597 - val_accuracy: 0.5930\n",
      "Epoch 61/100\n",
      "58/58 [==============================] - 22s 380ms/step - loss: 1.8123e-06 - accuracy: 1.0000 - val_loss: 2.9766 - val_accuracy: 0.5930\n",
      "Epoch 62/100\n",
      "58/58 [==============================] - 22s 380ms/step - loss: 1.6523e-06 - accuracy: 1.0000 - val_loss: 2.9927 - val_accuracy: 0.5930\n",
      "Epoch 63/100\n",
      "58/58 [==============================] - 22s 377ms/step - loss: 1.5083e-06 - accuracy: 1.0000 - val_loss: 3.0043 - val_accuracy: 0.5930\n",
      "Epoch 64/100\n",
      "58/58 [==============================] - 22s 382ms/step - loss: 1.3888e-06 - accuracy: 1.0000 - val_loss: 3.0201 - val_accuracy: 0.5930\n",
      "Epoch 65/100\n",
      "58/58 [==============================] - 22s 383ms/step - loss: 1.2786e-06 - accuracy: 1.0000 - val_loss: 3.0370 - val_accuracy: 0.5930\n",
      "Epoch 66/100\n",
      "58/58 [==============================] - 22s 378ms/step - loss: 1.1784e-06 - accuracy: 1.0000 - val_loss: 3.0519 - val_accuracy: 0.5930\n",
      "Epoch 67/100\n",
      "58/58 [==============================] - 22s 377ms/step - loss: 1.0972e-06 - accuracy: 1.0000 - val_loss: 3.0613 - val_accuracy: 0.5930\n",
      "Epoch 68/100\n",
      "58/58 [==============================] - 23s 402ms/step - loss: 1.0120e-06 - accuracy: 1.0000 - val_loss: 3.0775 - val_accuracy: 0.5930\n",
      "Epoch 69/100\n",
      "58/58 [==============================] - 22s 376ms/step - loss: 9.4159e-07 - accuracy: 1.0000 - val_loss: 3.0866 - val_accuracy: 0.5930\n",
      "Epoch 70/100\n",
      "58/58 [==============================] - 22s 376ms/step - loss: 8.8070e-07 - accuracy: 1.0000 - val_loss: 3.0982 - val_accuracy: 0.5930\n",
      "Epoch 71/100\n",
      "58/58 [==============================] - 22s 377ms/step - loss: 8.2362e-07 - accuracy: 1.0000 - val_loss: 3.1096 - val_accuracy: 0.5930\n",
      "Epoch 72/100\n",
      "58/58 [==============================] - 22s 373ms/step - loss: 7.6748e-07 - accuracy: 1.0000 - val_loss: 3.1252 - val_accuracy: 0.5965\n",
      "Epoch 73/100\n",
      "58/58 [==============================] - 22s 373ms/step - loss: 7.2330e-07 - accuracy: 1.0000 - val_loss: 3.1351 - val_accuracy: 0.5965\n",
      "Epoch 74/100\n",
      "58/58 [==============================] - 22s 372ms/step - loss: 6.8006e-07 - accuracy: 1.0000 - val_loss: 3.1461 - val_accuracy: 0.5965\n",
      "Epoch 75/100\n",
      "58/58 [==============================] - 22s 374ms/step - loss: 6.4063e-07 - accuracy: 1.0000 - val_loss: 3.1560 - val_accuracy: 0.6000\n",
      "Epoch 76/100\n",
      "58/58 [==============================] - 22s 375ms/step - loss: 6.0461e-07 - accuracy: 1.0000 - val_loss: 3.1695 - val_accuracy: 0.6000\n",
      "Epoch 77/100\n",
      "58/58 [==============================] - 22s 375ms/step - loss: 5.6921e-07 - accuracy: 1.0000 - val_loss: 3.1793 - val_accuracy: 0.6000\n",
      "Epoch 78/100\n",
      "58/58 [==============================] - 22s 379ms/step - loss: 5.3897e-07 - accuracy: 1.0000 - val_loss: 3.1892 - val_accuracy: 0.5965\n",
      "Epoch 79/100\n",
      "58/58 [==============================] - 22s 378ms/step - loss: 5.0997e-07 - accuracy: 1.0000 - val_loss: 3.1999 - val_accuracy: 0.6000\n",
      "Epoch 80/100\n",
      "58/58 [==============================] - 22s 374ms/step - loss: 4.8437e-07 - accuracy: 1.0000 - val_loss: 3.2091 - val_accuracy: 0.6000\n",
      "Epoch 81/100\n",
      "58/58 [==============================] - 22s 378ms/step - loss: 4.5826e-07 - accuracy: 1.0000 - val_loss: 3.2168 - val_accuracy: 0.6000\n",
      "Epoch 82/100\n",
      "58/58 [==============================] - 22s 373ms/step - loss: 4.3473e-07 - accuracy: 1.0000 - val_loss: 3.2232 - val_accuracy: 0.6000\n",
      "Epoch 83/100\n",
      "58/58 [==============================] - 22s 377ms/step - loss: 4.1460e-07 - accuracy: 1.0000 - val_loss: 3.2329 - val_accuracy: 0.6000\n",
      "Epoch 84/100\n",
      "58/58 [==============================] - 22s 378ms/step - loss: 3.9334e-07 - accuracy: 1.0000 - val_loss: 3.2444 - val_accuracy: 0.6000\n",
      "Epoch 85/100\n",
      "58/58 [==============================] - 22s 374ms/step - loss: 3.7414e-07 - accuracy: 1.0000 - val_loss: 3.2520 - val_accuracy: 0.5965\n",
      "Epoch 86/100\n",
      "58/58 [==============================] - 22s 377ms/step - loss: 3.5835e-07 - accuracy: 1.0000 - val_loss: 3.2617 - val_accuracy: 0.5965\n",
      "Epoch 87/100\n",
      "58/58 [==============================] - 22s 378ms/step - loss: 3.4194e-07 - accuracy: 1.0000 - val_loss: 3.2651 - val_accuracy: 0.5965\n",
      "Epoch 88/100\n",
      "58/58 [==============================] - 22s 375ms/step - loss: 3.2563e-07 - accuracy: 1.0000 - val_loss: 3.2756 - val_accuracy: 0.5965\n",
      "Epoch 89/100\n",
      "58/58 [==============================] - 22s 372ms/step - loss: 3.1118e-07 - accuracy: 1.0000 - val_loss: 3.2840 - val_accuracy: 0.5965\n",
      "Epoch 90/100\n",
      "58/58 [==============================] - 22s 381ms/step - loss: 2.9787e-07 - accuracy: 1.0000 - val_loss: 3.2907 - val_accuracy: 0.5965\n",
      "Epoch 91/100\n",
      "58/58 [==============================] - 22s 376ms/step - loss: 2.8404e-07 - accuracy: 1.0000 - val_loss: 3.2970 - val_accuracy: 0.5965\n",
      "Epoch 92/100\n",
      "58/58 [==============================] - 22s 382ms/step - loss: 2.7351e-07 - accuracy: 1.0000 - val_loss: 3.3082 - val_accuracy: 0.5965\n",
      "Epoch 93/100\n",
      "58/58 [==============================] - 22s 379ms/step - loss: 2.6360e-07 - accuracy: 1.0000 - val_loss: 3.3151 - val_accuracy: 0.5965\n",
      "Epoch 94/100\n",
      "58/58 [==============================] - 22s 384ms/step - loss: 2.5029e-07 - accuracy: 1.0000 - val_loss: 3.3219 - val_accuracy: 0.5965\n",
      "Epoch 95/100\n",
      "58/58 [==============================] - 22s 377ms/step - loss: 2.4110e-07 - accuracy: 1.0000 - val_loss: 3.3284 - val_accuracy: 0.5965\n",
      "Epoch 96/100\n",
      "58/58 [==============================] - 22s 375ms/step - loss: 2.3057e-07 - accuracy: 1.0000 - val_loss: 3.3367 - val_accuracy: 0.5965\n",
      "Epoch 97/100\n",
      "58/58 [==============================] - 22s 374ms/step - loss: 2.2221e-07 - accuracy: 1.0000 - val_loss: 3.3430 - val_accuracy: 0.6000\n",
      "Epoch 98/100\n",
      "58/58 [==============================] - 22s 377ms/step - loss: 2.1334e-07 - accuracy: 1.0000 - val_loss: 3.3494 - val_accuracy: 0.6035\n",
      "Epoch 99/100\n",
      "58/58 [==============================] - 22s 377ms/step - loss: 2.0405e-07 - accuracy: 1.0000 - val_loss: 3.3551 - val_accuracy: 0.5965\n",
      "Epoch 100/100\n",
      "58/58 [==============================] - 22s 379ms/step - loss: 1.9755e-07 - accuracy: 1.0000 - val_loss: 3.3606 - val_accuracy: 0.6000\n"
     ]
    }
   ],
   "source": [
    "hist = model.fit(traindata, validation_data= testdata, batch_size=20,epochs=100)"
   ]
  },
  {
   "cell_type": "code",
   "execution_count": 10,
   "metadata": {},
   "outputs": [
    {
     "name": "stdout",
     "output_type": "stream",
     "text": [
      "Model: \"sequential\"\n",
      "_________________________________________________________________\n",
      " Layer (type)                Output Shape              Param #   \n",
      "=================================================================\n",
      " conv2d (Conv2D)             (None, None, None, 64)    1792      \n",
      "                                                                 \n",
      " conv2d_1 (Conv2D)           (None, None, None, 64)    36928     \n",
      "                                                                 \n",
      " max_pooling2d (MaxPooling2D  (None, None, None, 64)   0         \n",
      " )                                                               \n",
      "                                                                 \n",
      " conv2d_2 (Conv2D)           (None, None, None, 128)   73856     \n",
      "                                                                 \n",
      " conv2d_3 (Conv2D)           (None, None, None, 128)   147584    \n",
      "                                                                 \n",
      " max_pooling2d_1 (MaxPooling  (None, None, None, 128)  0         \n",
      " 2D)                                                             \n",
      "                                                                 \n",
      " conv2d_4 (Conv2D)           (None, None, None, 256)   295168    \n",
      "                                                                 \n",
      " conv2d_5 (Conv2D)           (None, None, None, 256)   590080    \n",
      "                                                                 \n",
      " conv2d_6 (Conv2D)           (None, None, None, 256)   590080    \n",
      "                                                                 \n",
      " max_pooling2d_2 (MaxPooling  (None, None, None, 256)  0         \n",
      " 2D)                                                             \n",
      "                                                                 \n",
      " conv2d_7 (Conv2D)           (None, None, None, 512)   1180160   \n",
      "                                                                 \n",
      " conv2d_8 (Conv2D)           (None, None, None, 512)   2359808   \n",
      "                                                                 \n",
      " conv2d_9 (Conv2D)           (None, None, None, 512)   2359808   \n",
      "                                                                 \n",
      " max_pooling2d_3 (MaxPooling  (None, None, None, 512)  0         \n",
      " 2D)                                                             \n",
      "                                                                 \n",
      " conv2d_10 (Conv2D)          (None, None, None, 512)   2359808   \n",
      "                                                                 \n",
      " conv2d_11 (Conv2D)          (None, None, None, 512)   2359808   \n",
      "                                                                 \n",
      " conv2d_12 (Conv2D)          (None, None, None, 512)   2359808   \n",
      "                                                                 \n",
      " max_pooling2d_4 (MaxPooling  (None, None, None, 512)  0         \n",
      " 2D)                                                             \n",
      "                                                                 \n",
      " flatten (Flatten)           (None, None)              0         \n",
      "                                                                 \n",
      " dense (Dense)               (None, 4096)              102764544 \n",
      "                                                                 \n",
      " dense_1 (Dense)             (None, 4096)              16781312  \n",
      "                                                                 \n",
      " dense_2 (Dense)             (None, 8)                 32776     \n",
      "                                                                 \n",
      "=================================================================\n",
      "Total params: 134,293,320\n",
      "Trainable params: 134,293,320\n",
      "Non-trainable params: 0\n",
      "_________________________________________________________________\n"
     ]
    }
   ],
   "source": [
    "model.summary()"
   ]
  },
  {
   "cell_type": "code",
   "execution_count": 8,
   "metadata": {},
   "outputs": [
    {
     "name": "stdout",
     "output_type": "stream",
     "text": [
      "/device:GPU:0\n"
     ]
    }
   ],
   "source": [
    "import tensorflow as tf\n",
    "\n",
    "gpu_device_name = tf.test.gpu_device_name()\n",
    "print(gpu_device_name)"
   ]
  },
  {
   "cell_type": "code",
   "execution_count": 9,
   "metadata": {},
   "outputs": [
    {
     "data": {
      "text/plain": [
       "[PhysicalDevice(name='/physical_device:GPU:0', device_type='GPU')]"
      ]
     },
     "execution_count": 9,
     "metadata": {},
     "output_type": "execute_result"
    }
   ],
   "source": [
    "tf.config.list_physical_devices('GPU')"
   ]
  },
  {
   "cell_type": "code",
   "execution_count": 13,
   "metadata": {},
   "outputs": [],
   "source": [
    "model.save('model.h5')"
   ]
  },
  {
   "cell_type": "code",
   "execution_count": null,
   "metadata": {},
   "outputs": [],
   "source": []
  }
 ],
 "metadata": {
  "kernelspec": {
   "display_name": "Python 3 (ipykernel)",
   "language": "python",
   "name": "python3"
  },
  "language_info": {
   "codemirror_mode": {
    "name": "ipython",
    "version": 3
   },
   "file_extension": ".py",
   "mimetype": "text/x-python",
   "name": "python",
   "nbconvert_exporter": "python",
   "pygments_lexer": "ipython3",
<<<<<<< HEAD
   "version": "3.9.12"
=======
   "version": "3.7.15"
>>>>>>> 2dd9b74ae6028aeb6597e47cdcefdc428eb3c60b
  },
  "vscode": {
   "interpreter": {
    "hash": "057a599749e6261d8827d5f82f37c9e35cc336a28a6874cf82efdacf56183adc"
   }
  }
 },
 "nbformat": 4,
 "nbformat_minor": 2
}
