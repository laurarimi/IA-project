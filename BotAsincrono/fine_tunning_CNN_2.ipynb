{
  "cells": [
    {
      "cell_type": "code",
      "execution_count": 1,
      "metadata": {
        "id": "ulHbyTkdrH-C"
      },
      "outputs": [],
      "source": [
        "import pandas as pd\n",
        "import zipfile \n",
        "from keras.utils import to_categorical\n",
        "import numpy as np\n",
        "import matplotlib.pyplot as plt\n",
        "import librosa, librosa.display\n",
        "import os\n",
        "import re\n",
        "from keras.utils import image_dataset_from_directory\n",
        "from keras import regularizers\n",
        "from keras.preprocessing.image import ImageDataGenerator\n",
        "from keras.layers import Dense, Conv2D, Flatten, MaxPool2D, Resizing, Rescaling, Input, Dropout, BatchNormalization\n",
        "from keras.models import Sequential, Model\n",
        "from sklearn.preprocessing import MinMaxScaler\n",
        "from keras.optimizers import Adam\n",
        "import tensorflow as tf\n",
        "%matplotlib inline"
      ]
    },
    {
      "cell_type": "code",
      "execution_count": null,
      "metadata": {
        "id": "VZl0uZmptXuY"
      },
      "outputs": [],
      "source": [
        "file_name = \"data.zip\"\n",
        "zip_ref = zipfile.ZipFile(file_name, \"r\")\n",
        "zip_ref.extractall(\"datos\")\n",
        "zip_ref.close()"
      ]
    },
    {
      "cell_type": "code",
      "execution_count": 200,
      "metadata": {},
      "outputs": [],
      "source": [
        "desiredLength = 16000 * 8\n",
        "def melSpectrogram(dir, file):\n",
        "    #librosa.load(f'{dir}\\{file}')\n",
        "    signal, sr = librosa.load(f'{dir}/{file}', sr=16000)\n",
        "    n_fft = 2048\n",
        "    hop_length = 512\n",
        "    padding = desiredLength - len(signal) #cantidad de tiempo que falta\n",
        "    signal = np.concatenate([np.zeros((padding)), signal])\n",
        "    mel_signal = librosa.feature.melspectrogram(y=signal, sr=sr, hop_length=hop_length, n_fft=n_fft)\n",
        "    spectrogram = np.abs(mel_signal)\n",
        "    power_to_db = librosa.power_to_db(spectrogram, ref=np.min)\n",
        "    return power_to_db"
      ]
    },
    {
      "cell_type": "code",
      "execution_count": 2,
      "metadata": {},
      "outputs": [],
      "source": [
        "data_dir = \"audio\""
      ]
    },
    {
      "cell_type": "code",
      "execution_count": 3,
      "metadata": {},
      "outputs": [],
      "source": [
        "emotions = [\"neutral\", \"calm\", \"happy\", \"sad\", \"angry\", \"fearful\", \"disgust\",\"surprised\"]\n",
        "index = dict(enumerate(emotions,start=1))\n",
        "for emotion in emotions:\n",
        "    os.mkdir(f\"{data_dir}/{emotion}\")"
      ]
    },
    {
      "cell_type": "code",
      "execution_count": 4,
      "metadata": {},
      "outputs": [
        {
          "ename": "NameError",
          "evalue": "name 'melSpectrogram' is not defined",
          "output_type": "error",
          "traceback": [
            "\u001b[1;31m---------------------------------------------------------------------------\u001b[0m",
            "\u001b[1;31mNameError\u001b[0m                                 Traceback (most recent call last)",
            "\u001b[1;32m~\\AppData\\Local\\Temp\\ipykernel_16640\\2865904465.py\u001b[0m in \u001b[0;36m<module>\u001b[1;34m\u001b[0m\n\u001b[0;32m      3\u001b[0m         \u001b[1;32mfor\u001b[0m \u001b[0mfile\u001b[0m \u001b[1;32min\u001b[0m \u001b[0mos\u001b[0m\u001b[1;33m.\u001b[0m\u001b[0mlistdir\u001b[0m\u001b[1;33m(\u001b[0m\u001b[1;34mf\"./audio/{actor}\"\u001b[0m\u001b[1;33m)\u001b[0m\u001b[1;33m:\u001b[0m\u001b[1;33m\u001b[0m\u001b[1;33m\u001b[0m\u001b[0m\n\u001b[0;32m      4\u001b[0m             \u001b[1;32mif\u001b[0m \u001b[0mfile\u001b[0m\u001b[1;33m[\u001b[0m\u001b[1;33m-\u001b[0m\u001b[1;36m3\u001b[0m\u001b[1;33m:\u001b[0m\u001b[1;33m]\u001b[0m \u001b[1;33m!=\u001b[0m \u001b[1;34m\"png\"\u001b[0m\u001b[1;33m:\u001b[0m\u001b[1;33m\u001b[0m\u001b[1;33m\u001b[0m\u001b[0m\n\u001b[1;32m----> 5\u001b[1;33m                 \u001b[0mmatrix\u001b[0m \u001b[1;33m=\u001b[0m \u001b[0mmelSpectrogram\u001b[0m\u001b[1;33m(\u001b[0m\u001b[1;34mf\"./audio/{actor}/\"\u001b[0m\u001b[1;33m,\u001b[0m \u001b[0mfile\u001b[0m\u001b[1;33m)\u001b[0m\u001b[1;33m\u001b[0m\u001b[1;33m\u001b[0m\u001b[0m\n\u001b[0m\u001b[0;32m      6\u001b[0m                 \u001b[0memotion\u001b[0m \u001b[1;33m=\u001b[0m \u001b[0mint\u001b[0m\u001b[1;33m(\u001b[0m\u001b[0mfile\u001b[0m\u001b[1;33m[\u001b[0m\u001b[1;33m:\u001b[0m\u001b[1;36m8\u001b[0m\u001b[1;33m]\u001b[0m\u001b[1;33m[\u001b[0m\u001b[1;33m-\u001b[0m\u001b[1;36m2\u001b[0m\u001b[1;33m:\u001b[0m\u001b[1;33m]\u001b[0m\u001b[1;33m)\u001b[0m\u001b[1;33m\u001b[0m\u001b[1;33m\u001b[0m\u001b[0m\n\u001b[0;32m      7\u001b[0m                 \u001b[0mnp\u001b[0m\u001b[1;33m.\u001b[0m\u001b[0msave\u001b[0m\u001b[1;33m(\u001b[0m\u001b[1;34mf'./audio/{index[emotion]}/{file[:-4]}'\u001b[0m\u001b[1;33m,\u001b[0m \u001b[0mmatrix\u001b[0m\u001b[1;33m)\u001b[0m\u001b[1;33m\u001b[0m\u001b[1;33m\u001b[0m\u001b[0m\n",
            "\u001b[1;31mNameError\u001b[0m: name 'melSpectrogram' is not defined"
          ]
        }
      ],
      "source": [
        "for actor in os.listdir(\"./audio\"):\n",
        "    if actor not in emotions:\n",
        "        for file in os.listdir(f\"./audio/{actor}\"):\n",
        "            if file[-3:] != \"png\":\n",
        "                matrix = melSpectrogram(f\"./audio/{actor}/\", file)\n",
        "                emotion = int(file[:8][-2:])\n",
        "                np.save(f'./audio/{index[emotion]}/{file[:-4]}', matrix)"
      ]
    },
    {
      "cell_type": "markdown",
      "metadata": {},
      "source": [
        "A partir de aquí empieza el entrenamiento del modelo"
      ]
    },
    {
      "cell_type": "code",
      "execution_count": 2,
      "metadata": {},
      "outputs": [],
      "source": [
        "dataset_dir = \"./Dataset/\""
      ]
    },
    {
      "cell_type": "code",
      "execution_count": 45,
      "metadata": {},
      "outputs": [
        {
          "name": "stdout",
          "output_type": "stream",
          "text": [
            "[7 2 8 9]\n",
            "[ 8  3  9 10]\n"
          ]
        }
      ],
      "source": [
        "a = np.array([1,2,3,4,5,6,7,8,9,10])\n",
        "b = np.random.choice(np.arange(10),size=4,replace=False)\n",
        "print(b)\n",
        "print(a[b])"
      ]
    },
    {
      "cell_type": "code",
      "execution_count": 3,
      "metadata": {},
      "outputs": [
        {
          "name": "stderr",
          "output_type": "stream",
          "text": [
            "c:\\Users\\cfp\\anaconda3\\envs\\bot\\lib\\site-packages\\ipykernel_launcher.py:8: VisibleDeprecationWarning: Creating an ndarray from ragged nested sequences (which is a list-or-tuple of lists-or-tuples-or ndarrays with different lengths or shapes) is deprecated. If you meant to do this, you must specify 'dtype=object' when creating the ndarray.\n",
            "  \n"
          ]
        }
      ],
      "source": [
        "emotions = [\"happy\", \"sad\", \"fearful\", \"angry\",\"surprised\"]\n",
        "full_data = []\n",
        "labels    = []\n",
        "for label in os.listdir(dataset_dir):\n",
        "    intermediate = list()\n",
        "    for file in os.listdir(dataset_dir+\"/\"+label):\n",
        "        intermediate.append([np.load(dataset_dir +  label+\"/\" +file), emotions.index(label)])\n",
        "    full_data.append(np.array(intermediate)[np.random.choice(np.arange(len(intermediate)), size=192, replace=False)])"
      ]
    },
    {
      "cell_type": "code",
      "execution_count": 4,
      "metadata": {},
      "outputs": [],
      "source": [
        "full_data = np.array(full_data).reshape(192*5, 2)"
      ]
    },
    {
      "cell_type": "code",
      "execution_count": 5,
      "metadata": {},
      "outputs": [],
      "source": [
        "np.random.shuffle(full_data)"
      ]
    },
    {
      "cell_type": "code",
      "execution_count": 6,
      "metadata": {},
      "outputs": [],
      "source": [
        "trainInd = int(len(full_data) * 0.7)\n",
        "train = full_data[:trainInd]\n",
        "validation = full_data[trainInd:]"
      ]
    },
    {
      "cell_type": "code",
      "execution_count": 7,
      "metadata": {},
      "outputs": [],
      "source": [
        "happy       = np.load('Dataset/happy/03-01-01-01-01-01-01.npy')\n",
        "sad         = np.load('Dataset/sad/03-01-04-01-01-01-01.npy')\n",
        "fearful     = np.load('Dataset/fearful/03-01-06-01-01-01-01.npy')\n",
        "angry       = np.load('Dataset/angry/03-01-05-01-01-01-01.npy')\n",
        "surprised   = np.load('Dataset/surprised/03-01-08-01-01-01-01.npy')\n",
        "\n",
        "pruebas = np.array([happy, sad, fearful, angry, surprised])\n",
        "labels  = np.array([0,1,2,3,4])"
      ]
    },
    {
      "cell_type": "code",
      "execution_count": 8,
      "metadata": {},
      "outputs": [],
      "source": [
        "scaler = MinMaxScaler()\n",
        "def separate(array):\n",
        "    audios = []\n",
        "    labels  =  []\n",
        "    for audio, label in array:\n",
        "        audios.append(np.expand_dims(audio, axis=2))\n",
        "        labels.append(label)\n",
        "    return [np.array(audios), np.array(labels)]"
      ]
    },
    {
      "cell_type": "code",
      "execution_count": 9,
      "metadata": {},
      "outputs": [],
      "source": [
        "scaler.fit(pruebas.reshape(-1,1))\n",
        "lista = list()\n",
        "for i in pruebas[:]:\n",
        "    lista.append(scaler.transform(i.reshape(-1,1)).reshape(128,train[0][0].shape[1],1))\n",
        "pruebas = np.array(lista)"
      ]
    },
    {
      "cell_type": "code",
      "execution_count": 10,
      "metadata": {},
      "outputs": [],
      "source": [
        "train = separate(full_data)\n",
        "#validation = separate(validation)"
      ]
    },
    {
      "cell_type": "code",
      "execution_count": 11,
      "metadata": {},
      "outputs": [
        {
          "data": {
            "text/plain": [
              "MinMaxScaler()"
            ]
          },
          "execution_count": 11,
          "metadata": {},
          "output_type": "execute_result"
        }
      ],
      "source": [
        "scaler.fit(np.squeeze(train[0]).reshape(-1,1))"
      ]
    },
    {
      "cell_type": "code",
      "execution_count": 12,
      "metadata": {},
      "outputs": [],
      "source": [
        "aux = []\n",
        "for image in train[0]:\n",
        "    aux.append(scaler.transform(np.squeeze(image).reshape(-1,1)).reshape((128,train[0][0].shape[1],1)))\n",
        "aux = np.array(aux)"
      ]
    },
    {
      "cell_type": "code",
      "execution_count": 13,
      "metadata": {},
      "outputs": [],
      "source": [
        "train[0] = aux"
      ]
    },
    {
      "cell_type": "code",
      "execution_count": 14,
      "metadata": {},
      "outputs": [],
      "source": [
        "def generator(images, labels):\n",
        "    for im,label in zip(images, labels):\n",
        "        yield np.array(im),np.array(label)"
      ]
    },
    {
      "cell_type": "code",
      "execution_count": 15,
      "metadata": {
        "colab": {
          "base_uri": "https://localhost:8080/"
        },
        "id": "_bi43dSYrH-J",
        "outputId": "0b14cacb-dcb7-486f-8819-951d4d440d3c"
      },
      "outputs": [],
      "source": [
        "model = Sequential()\n",
        "model.add(Input((128, 251, 1)))\n",
        "model.add(Resizing(224,224))\n",
        "\n",
        "model.add(Conv2D(filters= 32, kernel_size= (3,3), activation=\"relu\", padding= \"same\",strides=(1,1)))\n",
        "model.add(Conv2D(filters= 32, kernel_size= (3,3), activation=\"relu\", padding= \"same\",strides=(1,1)))\n",
        "\n",
        "model.add( MaxPool2D(pool_size= (2,2),strides=(2,2)))\n",
        "model.add( Conv2D(64,(3,3), activation=\"relu\",padding= \"same\",strides=(1,1)))\n",
        "model.add( Conv2D(64,(3,3), activation=\"relu\",padding= \"same\",strides=(1,1)))\n",
        "\n",
        "model.add(MaxPool2D(pool_size= (2,2),strides=(2,2)))\n",
        "model.add( Conv2D(128,(3,3), activation=\"relu\",padding= \"same\",strides=(1,1)))\n",
        "model.add( Conv2D(128,(3,3), activation=\"relu\",padding= \"same\",strides=(1,1)))\n",
        "\n",
        "model.add( MaxPool2D(pool_size= (2,2),strides=(2,2)))\n",
        "model.add( Conv2D(128,(3,3), activation=\"relu\",padding= \"same\",strides=(1,1)))\n",
        "model.add( Conv2D(128,(3,3), activation=\"relu\",padding= \"same\",strides=(1,1)))\n",
        "\n",
        "model.add( MaxPool2D(pool_size= (2,2),strides=(2,2)))\n",
        "\n",
        "model.add(Flatten())\n",
        "model.add(Dense(512, activation=\"relu\"))\n",
        "model.add(Dropout(0.5))\n",
        "model.add(Dense(512, activation=\"relu\"))\n",
        "model.add(Dropout(0.5))\n",
        "model.add(Dense(5, activation=\"softmax\"))"
      ]
    },
    {
      "cell_type": "code",
      "execution_count": 16,
      "metadata": {},
      "outputs": [
        {
          "name": "stdout",
          "output_type": "stream",
          "text": [
            "Model: \"sequential\"\n",
            "_________________________________________________________________\n",
            " Layer (type)                Output Shape              Param #   \n",
            "=================================================================\n",
            " resizing (Resizing)         (None, 224, 224, 1)       0         \n",
            "                                                                 \n",
            " conv2d (Conv2D)             (None, 224, 224, 32)      320       \n",
            "                                                                 \n",
            " conv2d_1 (Conv2D)           (None, 224, 224, 32)      9248      \n",
            "                                                                 \n",
            " max_pooling2d (MaxPooling2D  (None, 112, 112, 32)     0         \n",
            " )                                                               \n",
            "                                                                 \n",
            " conv2d_2 (Conv2D)           (None, 112, 112, 64)      18496     \n",
            "                                                                 \n",
            " conv2d_3 (Conv2D)           (None, 112, 112, 64)      36928     \n",
            "                                                                 \n",
            " max_pooling2d_1 (MaxPooling  (None, 56, 56, 64)       0         \n",
            " 2D)                                                             \n",
            "                                                                 \n",
            " conv2d_4 (Conv2D)           (None, 56, 56, 128)       73856     \n",
            "                                                                 \n",
            " conv2d_5 (Conv2D)           (None, 56, 56, 128)       147584    \n",
            "                                                                 \n",
            " max_pooling2d_2 (MaxPooling  (None, 28, 28, 128)      0         \n",
            " 2D)                                                             \n",
            "                                                                 \n",
            " conv2d_6 (Conv2D)           (None, 28, 28, 128)       147584    \n",
            "                                                                 \n",
            " conv2d_7 (Conv2D)           (None, 28, 28, 128)       147584    \n",
            "                                                                 \n",
            " max_pooling2d_3 (MaxPooling  (None, 14, 14, 128)      0         \n",
            " 2D)                                                             \n",
            "                                                                 \n",
            " flatten (Flatten)           (None, 25088)             0         \n",
            "                                                                 \n",
            " dense (Dense)               (None, 512)               12845568  \n",
            "                                                                 \n",
            " dropout (Dropout)           (None, 512)               0         \n",
            "                                                                 \n",
            " dense_1 (Dense)             (None, 512)               262656    \n",
            "                                                                 \n",
            " dropout_1 (Dropout)         (None, 512)               0         \n",
            "                                                                 \n",
            " dense_2 (Dense)             (None, 5)                 2565      \n",
            "                                                                 \n",
            "=================================================================\n",
            "Total params: 13,692,389\n",
            "Trainable params: 13,692,389\n",
            "Non-trainable params: 0\n",
            "_________________________________________________________________\n"
          ]
        }
      ],
      "source": [
        "model.summary()"
      ]
    },
    {
      "cell_type": "code",
      "execution_count": 17,
      "metadata": {
        "id": "xjrlGDpurH-K"
      },
      "outputs": [],
      "source": [
        "model.compile(loss=\"sparse_categorical_crossentropy\", optimizer= Adam(learning_rate=0.00001), metrics=[\"accuracy\"])"
      ]
    },
    {
      "cell_type": "code",
      "execution_count": 18,
      "metadata": {},
      "outputs": [
        {
          "data": {
            "text/plain": [
              "(960, 128, 251, 1)"
            ]
          },
          "execution_count": 18,
          "metadata": {},
          "output_type": "execute_result"
        }
      ],
      "source": [
        "train[0].shape"
      ]
    },
    {
      "cell_type": "code",
      "execution_count": 19,
      "metadata": {},
      "outputs": [
        {
          "data": {
            "text/plain": [
              "(5, 128, 251, 1)"
            ]
          },
          "execution_count": 19,
          "metadata": {},
          "output_type": "execute_result"
        }
      ],
      "source": [
        "pruebas.shape"
      ]
    },
    {
      "cell_type": "code",
      "execution_count": 20,
      "metadata": {
        "colab": {
          "base_uri": "https://localhost:8080/"
        },
        "id": "-JkeOgn3rH-L",
        "outputId": "02e32b05-3d29-4b7e-8513-e82c6f330e29"
      },
      "outputs": [
        {
          "name": "stdout",
          "output_type": "stream",
          "text": [
            "Epoch 1/30\n",
            "192/192 [==============================] - 31s 140ms/step - loss: 1.6093 - accuracy: 0.2010\n",
            "Epoch 2/30\n",
            "192/192 [==============================] - 25s 131ms/step - loss: 1.6061 - accuracy: 0.2167\n",
            "Epoch 3/30\n",
            "192/192 [==============================] - 22s 114ms/step - loss: 1.5936 - accuracy: 0.2229\n",
            "Epoch 4/30\n",
            "192/192 [==============================] - 22s 115ms/step - loss: 1.5725 - accuracy: 0.2937\n",
            "Epoch 5/30\n",
            "192/192 [==============================] - 22s 115ms/step - loss: 1.5379 - accuracy: 0.3156\n",
            "Epoch 6/30\n",
            "192/192 [==============================] - 22s 115ms/step - loss: 1.4874 - accuracy: 0.3365\n",
            "Epoch 7/30\n",
            "192/192 [==============================] - 22s 115ms/step - loss: 1.4835 - accuracy: 0.3542\n",
            "Epoch 8/30\n",
            "192/192 [==============================] - 22s 115ms/step - loss: 1.4504 - accuracy: 0.3490\n",
            "Epoch 9/30\n",
            "192/192 [==============================] - 22s 116ms/step - loss: 1.4238 - accuracy: 0.3729\n",
            "Epoch 10/30\n",
            "192/192 [==============================] - 22s 116ms/step - loss: 1.4351 - accuracy: 0.3646\n",
            "Epoch 11/30\n",
            "192/192 [==============================] - 22s 116ms/step - loss: 1.4095 - accuracy: 0.4042\n",
            "Epoch 12/30\n",
            "192/192 [==============================] - 22s 116ms/step - loss: 1.4061 - accuracy: 0.3875\n",
            "Epoch 13/30\n",
            "192/192 [==============================] - 22s 116ms/step - loss: 1.3900 - accuracy: 0.3927\n",
            "Epoch 14/30\n",
            "192/192 [==============================] - 22s 116ms/step - loss: 1.4058 - accuracy: 0.3979\n",
            "Epoch 15/30\n",
            "192/192 [==============================] - 22s 116ms/step - loss: 1.3908 - accuracy: 0.4021\n",
            "Epoch 16/30\n",
            "192/192 [==============================] - 22s 116ms/step - loss: 1.3791 - accuracy: 0.4021\n",
            "Epoch 17/30\n",
            "192/192 [==============================] - 22s 116ms/step - loss: 1.3791 - accuracy: 0.4156\n",
            "Epoch 18/30\n",
            "192/192 [==============================] - 22s 116ms/step - loss: 1.3823 - accuracy: 0.4104\n",
            "Epoch 19/30\n",
            "192/192 [==============================] - 22s 116ms/step - loss: 1.3467 - accuracy: 0.4375\n",
            "Epoch 20/30\n",
            "192/192 [==============================] - 22s 116ms/step - loss: 1.3568 - accuracy: 0.4292\n",
            "Epoch 21/30\n",
            "192/192 [==============================] - 22s 116ms/step - loss: 1.3598 - accuracy: 0.4083\n",
            "Epoch 22/30\n",
            "192/192 [==============================] - 22s 116ms/step - loss: 1.3722 - accuracy: 0.4156\n",
            "Epoch 23/30\n",
            "192/192 [==============================] - 22s 116ms/step - loss: 1.3556 - accuracy: 0.4177\n",
            "Epoch 24/30\n",
            "192/192 [==============================] - 22s 116ms/step - loss: 1.3592 - accuracy: 0.4104\n",
            "Epoch 25/30\n",
            "192/192 [==============================] - 22s 116ms/step - loss: 1.3402 - accuracy: 0.4333\n",
            "Epoch 26/30\n",
            "192/192 [==============================] - 22s 116ms/step - loss: 1.3360 - accuracy: 0.4365\n",
            "Epoch 27/30\n",
            "192/192 [==============================] - 22s 116ms/step - loss: 1.3272 - accuracy: 0.4323\n",
            "Epoch 28/30\n",
            "192/192 [==============================] - 22s 117ms/step - loss: 1.3326 - accuracy: 0.4260\n",
            "Epoch 29/30\n",
            "192/192 [==============================] - 25s 131ms/step - loss: 1.3138 - accuracy: 0.4406\n",
            "Epoch 30/30\n",
            "192/192 [==============================] - 30s 158ms/step - loss: 1.3117 - accuracy: 0.4583\n"
          ]
        }
      ],
      "source": [
        "historico = model.fit(x=train[0], y=train[1],batch_size=5, epochs=30)"
      ]
    },
    {
      "cell_type": "code",
      "execution_count": 21,
      "metadata": {},
      "outputs": [
        {
          "name": "stdout",
          "output_type": "stream",
          "text": [
            "Epoch 1/200\n",
            "192/192 [==============================] - 28s 146ms/step - loss: 1.3147 - accuracy: 0.4219\n",
            "Epoch 2/200\n",
            "192/192 [==============================] - 24s 122ms/step - loss: 1.2964 - accuracy: 0.4500\n",
            "Epoch 3/200\n",
            "192/192 [==============================] - 24s 123ms/step - loss: 1.3026 - accuracy: 0.4479\n",
            "Epoch 4/200\n",
            "192/192 [==============================] - 24s 123ms/step - loss: 1.3064 - accuracy: 0.4604\n",
            "Epoch 5/200\n",
            "192/192 [==============================] - 24s 123ms/step - loss: 1.2871 - accuracy: 0.4594\n",
            "Epoch 6/200\n",
            "192/192 [==============================] - 24s 123ms/step - loss: 1.2897 - accuracy: 0.4688\n",
            "Epoch 7/200\n",
            "192/192 [==============================] - 24s 123ms/step - loss: 1.2758 - accuracy: 0.4708\n",
            "Epoch 8/200\n",
            "192/192 [==============================] - 24s 122ms/step - loss: 1.2605 - accuracy: 0.4708\n",
            "Epoch 9/200\n",
            "192/192 [==============================] - 24s 123ms/step - loss: 1.2495 - accuracy: 0.4875\n",
            "Epoch 10/200\n",
            "192/192 [==============================] - 24s 123ms/step - loss: 1.2583 - accuracy: 0.4844\n",
            "Epoch 11/200\n",
            "192/192 [==============================] - 24s 123ms/step - loss: 1.2533 - accuracy: 0.4802\n",
            "Epoch 12/200\n",
            "192/192 [==============================] - 24s 123ms/step - loss: 1.2415 - accuracy: 0.5021\n",
            "Epoch 13/200\n",
            "192/192 [==============================] - 24s 123ms/step - loss: 1.2268 - accuracy: 0.5271\n",
            "Epoch 14/200\n",
            "192/192 [==============================] - 24s 123ms/step - loss: 1.2429 - accuracy: 0.4958\n",
            "Epoch 15/200\n",
            "192/192 [==============================] - 24s 124ms/step - loss: 1.2172 - accuracy: 0.5083\n",
            "Epoch 16/200\n",
            "192/192 [==============================] - 24s 124ms/step - loss: 1.2073 - accuracy: 0.5271\n",
            "Epoch 17/200\n",
            "192/192 [==============================] - 24s 124ms/step - loss: 1.1866 - accuracy: 0.5167\n",
            "Epoch 18/200\n",
            "192/192 [==============================] - 24s 124ms/step - loss: 1.1918 - accuracy: 0.5042\n",
            "Epoch 19/200\n",
            "192/192 [==============================] - 24s 124ms/step - loss: 1.1811 - accuracy: 0.5375\n",
            "Epoch 20/200\n",
            "192/192 [==============================] - 24s 124ms/step - loss: 1.1986 - accuracy: 0.5135\n",
            "Epoch 21/200\n",
            "192/192 [==============================] - 24s 124ms/step - loss: 1.1613 - accuracy: 0.5542\n",
            "Epoch 22/200\n",
            "192/192 [==============================] - 24s 124ms/step - loss: 1.1523 - accuracy: 0.5312\n",
            "Epoch 23/200\n",
            "192/192 [==============================] - 24s 124ms/step - loss: 1.1598 - accuracy: 0.5344\n",
            "Epoch 24/200\n",
            "192/192 [==============================] - 24s 125ms/step - loss: 1.1472 - accuracy: 0.5500\n",
            "Epoch 25/200\n",
            "192/192 [==============================] - 24s 124ms/step - loss: 1.1450 - accuracy: 0.5510\n",
            "Epoch 26/200\n",
            "192/192 [==============================] - 24s 124ms/step - loss: 1.1339 - accuracy: 0.5521\n",
            "Epoch 27/200\n",
            "192/192 [==============================] - 24s 124ms/step - loss: 1.1336 - accuracy: 0.5344\n",
            "Epoch 28/200\n",
            "192/192 [==============================] - 24s 124ms/step - loss: 1.1173 - accuracy: 0.5479\n",
            "Epoch 29/200\n",
            "192/192 [==============================] - 24s 124ms/step - loss: 1.1047 - accuracy: 0.5760\n",
            "Epoch 30/200\n",
            "192/192 [==============================] - 24s 124ms/step - loss: 1.0803 - accuracy: 0.5740\n",
            "Epoch 31/200\n",
            "192/192 [==============================] - 24s 124ms/step - loss: 1.0914 - accuracy: 0.5688\n",
            "Epoch 32/200\n",
            "192/192 [==============================] - 24s 125ms/step - loss: 1.0711 - accuracy: 0.5677\n",
            "Epoch 33/200\n",
            "192/192 [==============================] - 24s 124ms/step - loss: 1.0426 - accuracy: 0.5885\n",
            "Epoch 34/200\n",
            "192/192 [==============================] - 24s 124ms/step - loss: 1.0646 - accuracy: 0.6052\n",
            "Epoch 35/200\n",
            "192/192 [==============================] - 24s 125ms/step - loss: 1.0519 - accuracy: 0.5823\n",
            "Epoch 36/200\n",
            "192/192 [==============================] - 24s 124ms/step - loss: 1.0118 - accuracy: 0.6135\n",
            "Epoch 37/200\n",
            "192/192 [==============================] - 24s 125ms/step - loss: 1.0071 - accuracy: 0.5833\n",
            "Epoch 38/200\n",
            "192/192 [==============================] - 24s 125ms/step - loss: 1.0164 - accuracy: 0.5979\n",
            "Epoch 39/200\n",
            "192/192 [==============================] - 24s 125ms/step - loss: 0.9976 - accuracy: 0.6198\n",
            "Epoch 40/200\n",
            "192/192 [==============================] - 24s 124ms/step - loss: 0.9661 - accuracy: 0.6156\n",
            "Epoch 41/200\n",
            "192/192 [==============================] - 24s 124ms/step - loss: 0.9693 - accuracy: 0.6229\n",
            "Epoch 42/200\n",
            "192/192 [==============================] - 24s 124ms/step - loss: 0.9803 - accuracy: 0.6260\n",
            "Epoch 43/200\n",
            "192/192 [==============================] - 24s 124ms/step - loss: 0.9670 - accuracy: 0.6094\n",
            "Epoch 44/200\n",
            "192/192 [==============================] - 24s 125ms/step - loss: 0.9460 - accuracy: 0.6156\n",
            "Epoch 45/200\n",
            "192/192 [==============================] - 24s 124ms/step - loss: 0.9534 - accuracy: 0.6167\n",
            "Epoch 46/200\n",
            "192/192 [==============================] - 24s 124ms/step - loss: 0.9199 - accuracy: 0.6490\n",
            "Epoch 47/200\n",
            "192/192 [==============================] - 24s 125ms/step - loss: 0.9378 - accuracy: 0.6271\n",
            "Epoch 48/200\n",
            "192/192 [==============================] - 24s 124ms/step - loss: 0.9007 - accuracy: 0.6438\n",
            "Epoch 49/200\n",
            "192/192 [==============================] - 24s 124ms/step - loss: 0.9212 - accuracy: 0.6438\n",
            "Epoch 50/200\n",
            "192/192 [==============================] - 24s 125ms/step - loss: 0.8656 - accuracy: 0.6708\n",
            "Epoch 51/200\n",
            "192/192 [==============================] - 24s 124ms/step - loss: 0.8843 - accuracy: 0.6448\n",
            "Epoch 52/200\n",
            "192/192 [==============================] - 24s 125ms/step - loss: 0.8669 - accuracy: 0.6823\n",
            "Epoch 53/200\n",
            "192/192 [==============================] - 24s 125ms/step - loss: 0.8514 - accuracy: 0.6719\n",
            "Epoch 54/200\n",
            "192/192 [==============================] - 24s 124ms/step - loss: 0.8367 - accuracy: 0.6698\n",
            "Epoch 55/200\n",
            "192/192 [==============================] - 24s 124ms/step - loss: 0.8171 - accuracy: 0.6906\n",
            "Epoch 56/200\n",
            "192/192 [==============================] - 24s 125ms/step - loss: 0.8263 - accuracy: 0.7010\n",
            "Epoch 57/200\n",
            "192/192 [==============================] - 24s 125ms/step - loss: 0.8400 - accuracy: 0.6708\n",
            "Epoch 58/200\n",
            "192/192 [==============================] - 24s 125ms/step - loss: 0.8126 - accuracy: 0.6958\n",
            "Epoch 59/200\n",
            "192/192 [==============================] - 24s 125ms/step - loss: 0.7774 - accuracy: 0.7042\n",
            "Epoch 60/200\n",
            "192/192 [==============================] - 24s 124ms/step - loss: 0.7873 - accuracy: 0.7021\n",
            "Epoch 61/200\n",
            "192/192 [==============================] - 24s 124ms/step - loss: 0.7885 - accuracy: 0.6958\n",
            "Epoch 62/200\n",
            "192/192 [==============================] - 24s 124ms/step - loss: 0.7638 - accuracy: 0.7104\n",
            "Epoch 63/200\n",
            "192/192 [==============================] - 24s 124ms/step - loss: 0.7205 - accuracy: 0.7177\n",
            "Epoch 64/200\n",
            "192/192 [==============================] - 24s 124ms/step - loss: 0.7522 - accuracy: 0.7167\n",
            "Epoch 65/200\n",
            "192/192 [==============================] - 24s 124ms/step - loss: 0.7332 - accuracy: 0.7271\n",
            "Epoch 66/200\n",
            "192/192 [==============================] - 24s 125ms/step - loss: 0.7411 - accuracy: 0.7135\n",
            "Epoch 67/200\n",
            "192/192 [==============================] - 24s 124ms/step - loss: 0.7103 - accuracy: 0.7281\n",
            "Epoch 68/200\n",
            "192/192 [==============================] - 24s 124ms/step - loss: 0.7128 - accuracy: 0.7365\n",
            "Epoch 69/200\n",
            "192/192 [==============================] - 24s 124ms/step - loss: 0.7118 - accuracy: 0.7271\n",
            "Epoch 70/200\n",
            "192/192 [==============================] - 24s 125ms/step - loss: 0.6869 - accuracy: 0.7302\n",
            "Epoch 71/200\n",
            "192/192 [==============================] - 24s 125ms/step - loss: 0.6876 - accuracy: 0.7302\n",
            "Epoch 72/200\n",
            "192/192 [==============================] - 24s 125ms/step - loss: 0.6724 - accuracy: 0.7479\n",
            "Epoch 73/200\n",
            "192/192 [==============================] - 24s 125ms/step - loss: 0.6406 - accuracy: 0.7615\n",
            "Epoch 74/200\n",
            "192/192 [==============================] - 24s 125ms/step - loss: 0.6431 - accuracy: 0.7563\n",
            "Epoch 75/200\n",
            "192/192 [==============================] - 24s 125ms/step - loss: 0.6486 - accuracy: 0.7531\n",
            "Epoch 76/200\n",
            "192/192 [==============================] - 24s 124ms/step - loss: 0.6315 - accuracy: 0.7563\n",
            "Epoch 77/200\n",
            "192/192 [==============================] - 24s 124ms/step - loss: 0.6255 - accuracy: 0.7688\n",
            "Epoch 78/200\n",
            "192/192 [==============================] - 24s 124ms/step - loss: 0.6091 - accuracy: 0.7542\n",
            "Epoch 79/200\n",
            "192/192 [==============================] - 24s 124ms/step - loss: 0.5832 - accuracy: 0.7865\n",
            "Epoch 80/200\n",
            "192/192 [==============================] - 24s 124ms/step - loss: 0.5855 - accuracy: 0.7708\n",
            "Epoch 81/200\n",
            "192/192 [==============================] - 24s 125ms/step - loss: 0.6006 - accuracy: 0.7708\n",
            "Epoch 82/200\n",
            "192/192 [==============================] - 24s 125ms/step - loss: 0.5593 - accuracy: 0.7927\n",
            "Epoch 83/200\n",
            "192/192 [==============================] - 24s 125ms/step - loss: 0.5564 - accuracy: 0.7823\n",
            "Epoch 84/200\n",
            "192/192 [==============================] - 24s 125ms/step - loss: 0.5702 - accuracy: 0.7833\n",
            "Epoch 85/200\n",
            "192/192 [==============================] - 24s 124ms/step - loss: 0.5263 - accuracy: 0.8146\n",
            "Epoch 86/200\n",
            "192/192 [==============================] - 24s 125ms/step - loss: 0.5551 - accuracy: 0.7854\n",
            "Epoch 87/200\n",
            "192/192 [==============================] - 24s 125ms/step - loss: 0.5038 - accuracy: 0.8010\n",
            "Epoch 88/200\n",
            "192/192 [==============================] - 24s 125ms/step - loss: 0.5274 - accuracy: 0.8000\n",
            "Epoch 89/200\n",
            "192/192 [==============================] - 24s 124ms/step - loss: 0.5225 - accuracy: 0.8062\n",
            "Epoch 90/200\n",
            "192/192 [==============================] - 24s 124ms/step - loss: 0.4919 - accuracy: 0.8167\n",
            "Epoch 91/200\n",
            "192/192 [==============================] - 24s 125ms/step - loss: 0.4813 - accuracy: 0.8229\n",
            "Epoch 92/200\n",
            "192/192 [==============================] - 24s 125ms/step - loss: 0.4648 - accuracy: 0.8448\n",
            "Epoch 93/200\n",
            "192/192 [==============================] - 24s 125ms/step - loss: 0.4864 - accuracy: 0.8062\n",
            "Epoch 94/200\n",
            "192/192 [==============================] - 24s 124ms/step - loss: 0.4555 - accuracy: 0.8260\n",
            "Epoch 95/200\n",
            "192/192 [==============================] - 24s 125ms/step - loss: 0.4487 - accuracy: 0.8323\n",
            "Epoch 96/200\n",
            "192/192 [==============================] - 24s 124ms/step - loss: 0.4647 - accuracy: 0.8313\n",
            "Epoch 97/200\n",
            "192/192 [==============================] - 24s 124ms/step - loss: 0.4057 - accuracy: 0.8604\n",
            "Epoch 98/200\n",
            "192/192 [==============================] - 24s 124ms/step - loss: 0.4230 - accuracy: 0.8573\n",
            "Epoch 99/200\n",
            "192/192 [==============================] - 24s 124ms/step - loss: 0.4107 - accuracy: 0.8438\n",
            "Epoch 100/200\n",
            "192/192 [==============================] - 24s 125ms/step - loss: 0.4426 - accuracy: 0.8375\n",
            "Epoch 101/200\n",
            "192/192 [==============================] - 24s 124ms/step - loss: 0.4066 - accuracy: 0.8365\n",
            "Epoch 102/200\n",
            "192/192 [==============================] - 24s 125ms/step - loss: 0.3841 - accuracy: 0.8490\n",
            "Epoch 103/200\n",
            "192/192 [==============================] - 24s 125ms/step - loss: 0.4113 - accuracy: 0.8333\n",
            "Epoch 104/200\n",
            "192/192 [==============================] - 24s 124ms/step - loss: 0.4078 - accuracy: 0.8427\n",
            "Epoch 105/200\n",
            "192/192 [==============================] - 24s 124ms/step - loss: 0.3790 - accuracy: 0.8646\n",
            "Epoch 106/200\n",
            "192/192 [==============================] - 24s 124ms/step - loss: 0.3687 - accuracy: 0.8625\n",
            "Epoch 107/200\n",
            "192/192 [==============================] - 24s 125ms/step - loss: 0.3556 - accuracy: 0.8667\n",
            "Epoch 108/200\n",
            "192/192 [==============================] - 24s 124ms/step - loss: 0.3625 - accuracy: 0.8677\n",
            "Epoch 109/200\n",
            "192/192 [==============================] - 24s 124ms/step - loss: 0.3668 - accuracy: 0.8781\n",
            "Epoch 110/200\n",
            "192/192 [==============================] - 24s 124ms/step - loss: 0.3287 - accuracy: 0.8677\n",
            "Epoch 111/200\n",
            "192/192 [==============================] - 24s 124ms/step - loss: 0.3574 - accuracy: 0.8698\n",
            "Epoch 112/200\n",
            "192/192 [==============================] - 24s 125ms/step - loss: 0.3325 - accuracy: 0.8708\n",
            "Epoch 113/200\n",
            "192/192 [==============================] - 24s 125ms/step - loss: 0.3186 - accuracy: 0.8865\n",
            "Epoch 114/200\n",
            "192/192 [==============================] - 24s 125ms/step - loss: 0.3100 - accuracy: 0.8792\n",
            "Epoch 115/200\n",
            "192/192 [==============================] - 24s 125ms/step - loss: 0.3033 - accuracy: 0.8917\n",
            "Epoch 116/200\n",
            "192/192 [==============================] - 24s 125ms/step - loss: 0.3018 - accuracy: 0.8813\n",
            "Epoch 117/200\n",
            "192/192 [==============================] - 24s 124ms/step - loss: 0.2985 - accuracy: 0.8875\n",
            "Epoch 118/200\n",
            "192/192 [==============================] - 24s 124ms/step - loss: 0.2881 - accuracy: 0.8844\n",
            "Epoch 119/200\n",
            "192/192 [==============================] - 24s 124ms/step - loss: 0.2875 - accuracy: 0.9042\n",
            "Epoch 120/200\n",
            "192/192 [==============================] - 24s 125ms/step - loss: 0.2730 - accuracy: 0.8990\n",
            "Epoch 121/200\n",
            "192/192 [==============================] - 24s 124ms/step - loss: 0.2779 - accuracy: 0.8906\n",
            "Epoch 122/200\n",
            "192/192 [==============================] - 24s 125ms/step - loss: 0.2616 - accuracy: 0.9125\n",
            "Epoch 123/200\n",
            "192/192 [==============================] - 24s 125ms/step - loss: 0.2519 - accuracy: 0.9042\n",
            "Epoch 124/200\n",
            "192/192 [==============================] - 24s 125ms/step - loss: 0.2481 - accuracy: 0.9042\n",
            "Epoch 125/200\n",
            "192/192 [==============================] - 24s 124ms/step - loss: 0.2993 - accuracy: 0.8917\n",
            "Epoch 126/200\n",
            "192/192 [==============================] - 24s 125ms/step - loss: 0.2562 - accuracy: 0.9115\n",
            "Epoch 127/200\n",
            "192/192 [==============================] - 24s 125ms/step - loss: 0.2822 - accuracy: 0.9010\n",
            "Epoch 128/200\n",
            "192/192 [==============================] - 24s 124ms/step - loss: 0.2400 - accuracy: 0.9094\n",
            "Epoch 129/200\n",
            "192/192 [==============================] - 24s 124ms/step - loss: 0.2269 - accuracy: 0.9135\n",
            "Epoch 130/200\n",
            "192/192 [==============================] - 24s 125ms/step - loss: 0.2574 - accuracy: 0.9000\n",
            "Epoch 131/200\n",
            "192/192 [==============================] - 24s 124ms/step - loss: 0.2237 - accuracy: 0.9187\n",
            "Epoch 132/200\n",
            "192/192 [==============================] - 24s 124ms/step - loss: 0.2188 - accuracy: 0.9177\n",
            "Epoch 133/200\n",
            "192/192 [==============================] - 24s 124ms/step - loss: 0.2080 - accuracy: 0.9302\n",
            "Epoch 134/200\n",
            "192/192 [==============================] - 24s 124ms/step - loss: 0.2311 - accuracy: 0.9167\n",
            "Epoch 135/200\n",
            "192/192 [==============================] - 24s 124ms/step - loss: 0.2097 - accuracy: 0.9177\n",
            "Epoch 136/200\n",
            "192/192 [==============================] - 24s 124ms/step - loss: 0.2122 - accuracy: 0.9167\n",
            "Epoch 137/200\n",
            "192/192 [==============================] - 24s 125ms/step - loss: 0.2190 - accuracy: 0.9229\n",
            "Epoch 138/200\n",
            "192/192 [==============================] - 24s 124ms/step - loss: 0.1937 - accuracy: 0.9281\n",
            "Epoch 139/200\n",
            "192/192 [==============================] - 24s 124ms/step - loss: 0.2079 - accuracy: 0.9333\n",
            "Epoch 140/200\n",
            "192/192 [==============================] - 24s 124ms/step - loss: 0.2037 - accuracy: 0.9281\n",
            "Epoch 141/200\n",
            "192/192 [==============================] - 24s 124ms/step - loss: 0.1743 - accuracy: 0.9365\n",
            "Epoch 142/200\n",
            "192/192 [==============================] - 24s 125ms/step - loss: 0.2057 - accuracy: 0.9229\n",
            "Epoch 143/200\n",
            "192/192 [==============================] - 24s 124ms/step - loss: 0.1717 - accuracy: 0.9406\n",
            "Epoch 144/200\n",
            "192/192 [==============================] - 24s 125ms/step - loss: 0.1761 - accuracy: 0.9323\n",
            "Epoch 145/200\n",
            "192/192 [==============================] - 24s 125ms/step - loss: 0.1942 - accuracy: 0.9229\n",
            "Epoch 146/200\n",
            "192/192 [==============================] - 24s 124ms/step - loss: 0.1680 - accuracy: 0.9333\n",
            "Epoch 147/200\n",
            "192/192 [==============================] - 24s 125ms/step - loss: 0.2203 - accuracy: 0.9240\n",
            "Epoch 148/200\n",
            "192/192 [==============================] - 24s 124ms/step - loss: 0.2055 - accuracy: 0.9229\n",
            "Epoch 149/200\n",
            "192/192 [==============================] - 24s 124ms/step - loss: 0.1812 - accuracy: 0.9427\n",
            "Epoch 150/200\n",
            "192/192 [==============================] - 24s 124ms/step - loss: 0.1518 - accuracy: 0.9458\n",
            "Epoch 151/200\n",
            "192/192 [==============================] - 24s 125ms/step - loss: 0.1670 - accuracy: 0.9375\n",
            "Epoch 152/200\n",
            "192/192 [==============================] - 24s 124ms/step - loss: 0.1576 - accuracy: 0.9490\n",
            "Epoch 153/200\n",
            "192/192 [==============================] - 24s 124ms/step - loss: 0.1641 - accuracy: 0.9427\n",
            "Epoch 154/200\n",
            "192/192 [==============================] - 24s 124ms/step - loss: 0.1678 - accuracy: 0.9333\n",
            "Epoch 155/200\n",
            "192/192 [==============================] - 24s 125ms/step - loss: 0.1665 - accuracy: 0.9417\n",
            "Epoch 156/200\n",
            "192/192 [==============================] - 24s 125ms/step - loss: 0.1607 - accuracy: 0.9448\n",
            "Epoch 157/200\n",
            "192/192 [==============================] - 24s 125ms/step - loss: 0.1273 - accuracy: 0.9552\n",
            "Epoch 158/200\n",
            "192/192 [==============================] - 24s 124ms/step - loss: 0.1519 - accuracy: 0.9469\n",
            "Epoch 159/200\n",
            "192/192 [==============================] - 24s 124ms/step - loss: 0.1577 - accuracy: 0.9396\n",
            "Epoch 160/200\n",
            "192/192 [==============================] - 24s 124ms/step - loss: 0.1935 - accuracy: 0.9281\n",
            "Epoch 161/200\n",
            "192/192 [==============================] - 24s 125ms/step - loss: 0.1512 - accuracy: 0.9438\n",
            "Epoch 162/200\n",
            "192/192 [==============================] - 24s 125ms/step - loss: 0.1512 - accuracy: 0.9344\n",
            "Epoch 163/200\n",
            "192/192 [==============================] - 24s 125ms/step - loss: 0.1455 - accuracy: 0.9448\n",
            "Epoch 164/200\n",
            "192/192 [==============================] - 24s 125ms/step - loss: 0.1200 - accuracy: 0.9531\n",
            "Epoch 165/200\n",
            "192/192 [==============================] - 24s 125ms/step - loss: 0.1521 - accuracy: 0.9333\n",
            "Epoch 166/200\n",
            "192/192 [==============================] - 24s 125ms/step - loss: 0.1445 - accuracy: 0.9542\n",
            "Epoch 167/200\n",
            "192/192 [==============================] - 24s 125ms/step - loss: 0.1344 - accuracy: 0.9448\n",
            "Epoch 168/200\n",
            "192/192 [==============================] - 24s 125ms/step - loss: 0.1464 - accuracy: 0.9500\n",
            "Epoch 169/200\n",
            "192/192 [==============================] - 24s 125ms/step - loss: 0.1365 - accuracy: 0.9563\n",
            "Epoch 170/200\n",
            "192/192 [==============================] - 24s 124ms/step - loss: 0.1104 - accuracy: 0.9615\n",
            "Epoch 171/200\n",
            "192/192 [==============================] - 24s 124ms/step - loss: 0.1480 - accuracy: 0.9490\n",
            "Epoch 172/200\n",
            "192/192 [==============================] - 24s 124ms/step - loss: 0.1267 - accuracy: 0.9625\n",
            "Epoch 173/200\n",
            "192/192 [==============================] - 24s 124ms/step - loss: 0.1235 - accuracy: 0.9500\n",
            "Epoch 174/200\n",
            "192/192 [==============================] - 24s 125ms/step - loss: 0.1208 - accuracy: 0.9615\n",
            "Epoch 175/200\n",
            "192/192 [==============================] - 24s 124ms/step - loss: 0.1144 - accuracy: 0.9563\n",
            "Epoch 176/200\n",
            "192/192 [==============================] - 24s 124ms/step - loss: 0.1160 - accuracy: 0.9656\n",
            "Epoch 177/200\n",
            "192/192 [==============================] - 24s 125ms/step - loss: 0.0984 - accuracy: 0.9635\n",
            "Epoch 178/200\n",
            "192/192 [==============================] - 24s 125ms/step - loss: 0.1229 - accuracy: 0.9615\n",
            "Epoch 179/200\n",
            "192/192 [==============================] - 24s 125ms/step - loss: 0.0929 - accuracy: 0.9646\n",
            "Epoch 180/200\n",
            "192/192 [==============================] - 24s 125ms/step - loss: 0.1108 - accuracy: 0.9604\n",
            "Epoch 181/200\n",
            "192/192 [==============================] - 24s 125ms/step - loss: 0.0949 - accuracy: 0.9688\n",
            "Epoch 182/200\n",
            "192/192 [==============================] - 24s 125ms/step - loss: 0.0954 - accuracy: 0.9625\n",
            "Epoch 183/200\n",
            "192/192 [==============================] - 24s 125ms/step - loss: 0.0963 - accuracy: 0.9667\n",
            "Epoch 184/200\n",
            "192/192 [==============================] - 24s 124ms/step - loss: 0.1205 - accuracy: 0.9563\n",
            "Epoch 185/200\n",
            "192/192 [==============================] - 24s 124ms/step - loss: 0.1149 - accuracy: 0.9625\n",
            "Epoch 186/200\n",
            "192/192 [==============================] - 24s 124ms/step - loss: 0.1014 - accuracy: 0.9583\n",
            "Epoch 187/200\n",
            "192/192 [==============================] - 24s 125ms/step - loss: 0.1005 - accuracy: 0.9719\n",
            "Epoch 188/200\n",
            "192/192 [==============================] - 24s 125ms/step - loss: 0.1349 - accuracy: 0.9552\n",
            "Epoch 189/200\n",
            "192/192 [==============================] - 24s 125ms/step - loss: 0.0766 - accuracy: 0.9750\n",
            "Epoch 190/200\n",
            "192/192 [==============================] - 24s 125ms/step - loss: 0.1061 - accuracy: 0.9646\n",
            "Epoch 191/200\n",
            "192/192 [==============================] - 24s 124ms/step - loss: 0.0876 - accuracy: 0.9708\n",
            "Epoch 192/200\n",
            "192/192 [==============================] - 24s 124ms/step - loss: 0.0938 - accuracy: 0.9688\n",
            "Epoch 193/200\n",
            "192/192 [==============================] - 24s 125ms/step - loss: 0.1243 - accuracy: 0.9510\n",
            "Epoch 194/200\n",
            "192/192 [==============================] - 24s 124ms/step - loss: 0.1009 - accuracy: 0.9510\n",
            "Epoch 195/200\n",
            "192/192 [==============================] - 24s 124ms/step - loss: 0.0911 - accuracy: 0.9698\n",
            "Epoch 196/200\n",
            "192/192 [==============================] - 24s 124ms/step - loss: 0.1296 - accuracy: 0.9479\n",
            "Epoch 197/200\n",
            "192/192 [==============================] - 24s 124ms/step - loss: 0.0906 - accuracy: 0.9760\n",
            "Epoch 198/200\n",
            "192/192 [==============================] - 24s 124ms/step - loss: 0.0990 - accuracy: 0.9656\n",
            "Epoch 199/200\n",
            "192/192 [==============================] - 24s 125ms/step - loss: 0.0697 - accuracy: 0.9771\n",
            "Epoch 200/200\n",
            "192/192 [==============================] - 24s 125ms/step - loss: 0.0870 - accuracy: 0.9708\n"
          ]
        }
      ],
      "source": [
        "historico = model.fit(x=train[0], y=train[1],batch_size=5, epochs=200)"
      ]
    },
    {
      "cell_type": "code",
      "execution_count": 22,
      "metadata": {},
      "outputs": [
        {
          "data": {
            "text/plain": [
              "[<matplotlib.lines.Line2D at 0x1eb0f91a248>]"
            ]
          },
          "execution_count": 22,
          "metadata": {},
          "output_type": "execute_result"
        },
        {
          "data": {
            "image/png": "[encoded data removed]",
            "text/plain": [
              "<Figure size 640x480 with 1 Axes>"
            ]
          },
          "metadata": {},
          "output_type": "display_data"
        }
      ],
      "source": [
        "plt.plot(historico.history['accuracy'])"
      ]
    },
    {
      "cell_type": "code",
      "execution_count": 24,
      "metadata": {
        "colab": {
          "base_uri": "https://localhost:8080/"
        },
        "id": "7I-iFIkXrH-M",
        "outputId": "5d97089f-d3f5-426e-ab16-f5f93511cf2a"
      },
      "outputs": [],
      "source": [
        "model.save('modelNoImage.h5')"
      ]
    },
    {
      "cell_type": "code",
      "execution_count": 69,
      "metadata": {},
      "outputs": [
        {
          "data": {
            "text/plain": [
              "(128, 251, 1)"
            ]
          },
          "execution_count": 69,
          "metadata": {},
          "output_type": "execute_result"
        }
      ],
      "source": [
        "train[0][0].shape"
      ]
    },
    {
      "cell_type": "code",
      "execution_count": 18,
      "metadata": {},
      "outputs": [
        {
          "name": "stdout",
          "output_type": "stream",
          "text": [
            "32/32 [==============================] - 1s 38ms/step\n"
          ]
        },
        {
          "data": {
            "text/plain": [
              "array([[0.3258511 , 0.1313594 , 0.13936415, 0.26327527, 0.1401501 ],\n",
              "       [0.3258511 , 0.1313594 , 0.13936415, 0.26327527, 0.1401501 ],\n",
              "       [0.3258511 , 0.1313594 , 0.13936415, 0.26327527, 0.1401501 ],\n",
              "       ...,\n",
              "       [0.3258511 , 0.1313594 , 0.13936414, 0.26327524, 0.1401501 ],\n",
              "       [0.3258511 , 0.1313594 , 0.13936414, 0.26327524, 0.1401501 ],\n",
              "       [0.3258511 , 0.1313594 , 0.13936414, 0.26327524, 0.1401501 ]],\n",
              "      dtype=float32)"
            ]
          },
          "execution_count": 18,
          "metadata": {},
          "output_type": "execute_result"
        }
      ],
      "source": [
        "model.predict(train[0])"
      ]
    },
    {
      "cell_type": "code",
      "execution_count": 23,
      "metadata": {},
      "outputs": [],
      "source": [
        "imgToPredict = train[0][0]"
      ]
    },
    {
      "cell_type": "code",
      "execution_count": 27,
      "metadata": {},
      "outputs": [
        {
          "data": {
            "image/png": "[encoded data removed]",
            "text/plain": [
              "<Figure size 640x480 with 1 Axes>"
            ]
          },
          "metadata": {},
          "output_type": "display_data"
        }
      ],
      "source": [
        "plt.imshow(imgToPredict)\n",
        "plt.show()"
      ]
    },
    {
      "cell_type": "code",
      "execution_count": 33,
      "metadata": {},
      "outputs": [
        {
          "name": "stdout",
          "output_type": "stream",
          "text": [
            "1/1 [==============================] - 0s 19ms/step\n"
          ]
        },
        {
          "data": {
            "text/plain": [
              "array([[0.3258511 , 0.1313594 , 0.13936414, 0.26327524, 0.1401501 ]],\n",
              "      dtype=float32)"
            ]
          },
          "execution_count": 33,
          "metadata": {},
          "output_type": "execute_result"
        }
      ],
      "source": [
        "model.predict(np.expand_dims(imgToPredict, axis=0))"
      ]
    },
    {
      "cell_type": "code",
      "execution_count": 35,
      "metadata": {},
      "outputs": [
        {
          "name": "stdout",
          "output_type": "stream",
          "text": [
            "1/1 [==============================] - 0s 19ms/step\n"
          ]
        },
        {
          "data": {
            "text/plain": [
              "array([[0.3258511 , 0.1313594 , 0.13936414, 0.26327524, 0.1401501 ]],\n",
              "      dtype=float32)"
            ]
          },
          "execution_count": 35,
          "metadata": {},
          "output_type": "execute_result"
        }
      ],
      "source": [
        "model.predict(np.expand_dims(train[0][45], axis=0))"
      ]
    },
    {
      "cell_type": "code",
      "execution_count": null,
      "metadata": {},
      "outputs": [],
      "source": []
    }
  ],
  "metadata": {
    "accelerator": "GPU",
    "colab": {
      "provenance": []
    },
    "gpuClass": "standard",
    "kernelspec": {
      "display_name": "Python 3.7.12 ('bot')",
      "language": "python",
      "name": "python3"
    },
    "language_info": {
      "codemirror_mode": {
        "name": "ipython",
        "version": 3
      },
      "file_extension": ".py",
      "mimetype": "text/x-python",
      "name": "python",
      "nbconvert_exporter": "python",
      "pygments_lexer": "ipython3",
      "version": "3.7.12"
    },
    "vscode": {
      "interpreter": {
        "hash": "ca4c8de9c4e653c04c3ee6a97fa8e74072bf80e6929551f0988154e9e61196df"
      }
    }
  },
  "nbformat": 4,
  "nbformat_minor": 0
}
